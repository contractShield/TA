{
 "cells": [
  {
   "cell_type": "markdown",
   "metadata": {},
   "source": [
    "# Generalization with OOP: The SMABacktester Class"
   ]
  },
  {
   "cell_type": "markdown",
   "metadata": {},
   "source": [
    "## Using the SMABacktester Class"
   ]
  },
  {
   "cell_type": "code",
   "execution_count": 1,
   "metadata": {},
   "outputs": [],
   "source": [
    "import pandas as pd\n",
    "import numpy as np\n",
    "import matplotlib.pyplot as plt\n",
    "from scipy.optimize import brute\n",
    "plt.style.use(\"seaborn\")"
   ]
  },
  {
   "cell_type": "code",
   "execution_count": 2,
   "metadata": {},
   "outputs": [
    {
     "data": {
      "text/html": [
       "<div>\n",
       "<style scoped>\n",
       "    .dataframe tbody tr th:only-of-type {\n",
       "        vertical-align: middle;\n",
       "    }\n",
       "\n",
       "    .dataframe tbody tr th {\n",
       "        vertical-align: top;\n",
       "    }\n",
       "\n",
       "    .dataframe thead th {\n",
       "        text-align: right;\n",
       "    }\n",
       "</style>\n",
       "<table border=\"1\" class=\"dataframe\">\n",
       "  <thead>\n",
       "    <tr style=\"text-align: right;\">\n",
       "      <th></th>\n",
       "      <th>AUDEUR=X</th>\n",
       "      <th>EURUSD=X</th>\n",
       "      <th>USDGBP=X</th>\n",
       "    </tr>\n",
       "    <tr>\n",
       "      <th>Date</th>\n",
       "      <th></th>\n",
       "      <th></th>\n",
       "      <th></th>\n",
       "    </tr>\n",
       "  </thead>\n",
       "  <tbody>\n",
       "    <tr>\n",
       "      <th>2004-01-01</th>\n",
       "      <td>0.59780</td>\n",
       "      <td>1.258194</td>\n",
       "      <td>0.56016</td>\n",
       "    </tr>\n",
       "    <tr>\n",
       "      <th>2004-01-02</th>\n",
       "      <td>0.60314</td>\n",
       "      <td>1.258194</td>\n",
       "      <td>0.55751</td>\n",
       "    </tr>\n",
       "    <tr>\n",
       "      <th>2004-01-05</th>\n",
       "      <td>0.60467</td>\n",
       "      <td>1.268698</td>\n",
       "      <td>0.55334</td>\n",
       "    </tr>\n",
       "    <tr>\n",
       "      <th>2004-01-06</th>\n",
       "      <td>0.60350</td>\n",
       "      <td>1.272103</td>\n",
       "      <td>0.54906</td>\n",
       "    </tr>\n",
       "    <tr>\n",
       "      <th>2004-01-07</th>\n",
       "      <td>0.60728</td>\n",
       "      <td>1.264095</td>\n",
       "      <td>0.55012</td>\n",
       "    </tr>\n",
       "    <tr>\n",
       "      <th>...</th>\n",
       "      <td>...</td>\n",
       "      <td>...</td>\n",
       "      <td>...</td>\n",
       "    </tr>\n",
       "    <tr>\n",
       "      <th>2020-06-24</th>\n",
       "      <td>0.61349</td>\n",
       "      <td>1.131235</td>\n",
       "      <td>0.79841</td>\n",
       "    </tr>\n",
       "    <tr>\n",
       "      <th>2020-06-25</th>\n",
       "      <td>0.60938</td>\n",
       "      <td>1.125087</td>\n",
       "      <td>0.80561</td>\n",
       "    </tr>\n",
       "    <tr>\n",
       "      <th>2020-06-26</th>\n",
       "      <td>0.61373</td>\n",
       "      <td>1.122208</td>\n",
       "      <td>0.80480</td>\n",
       "    </tr>\n",
       "    <tr>\n",
       "      <th>2020-06-29</th>\n",
       "      <td>0.61128</td>\n",
       "      <td>1.122586</td>\n",
       "      <td>0.81023</td>\n",
       "    </tr>\n",
       "    <tr>\n",
       "      <th>2020-06-30</th>\n",
       "      <td>0.61097</td>\n",
       "      <td>1.124720</td>\n",
       "      <td>0.81231</td>\n",
       "    </tr>\n",
       "  </tbody>\n",
       "</table>\n",
       "<p>4295 rows × 3 columns</p>\n",
       "</div>"
      ],
      "text/plain": [
       "            AUDEUR=X  EURUSD=X  USDGBP=X\n",
       "Date                                    \n",
       "2004-01-01   0.59780  1.258194   0.56016\n",
       "2004-01-02   0.60314  1.258194   0.55751\n",
       "2004-01-05   0.60467  1.268698   0.55334\n",
       "2004-01-06   0.60350  1.272103   0.54906\n",
       "2004-01-07   0.60728  1.264095   0.55012\n",
       "...              ...       ...       ...\n",
       "2020-06-24   0.61349  1.131235   0.79841\n",
       "2020-06-25   0.60938  1.125087   0.80561\n",
       "2020-06-26   0.61373  1.122208   0.80480\n",
       "2020-06-29   0.61128  1.122586   0.81023\n",
       "2020-06-30   0.61097  1.124720   0.81231\n",
       "\n",
       "[4295 rows x 3 columns]"
      ]
     },
     "execution_count": 2,
     "metadata": {},
     "output_type": "execute_result"
    }
   ],
   "source": [
    "df = pd.read_csv(\"forex_pairs.csv\", parse_dates = [\"Date\"], index_col = \"Date\")\n",
    "df"
   ]
  },
  {
   "cell_type": "code",
   "execution_count": 4,
   "metadata": {},
   "outputs": [
    {
     "name": "stdout",
     "output_type": "stream",
     "text": [
      "<class 'pandas.core.frame.DataFrame'>\n",
      "DatetimeIndex: 4295 entries, 2004-01-01 to 2020-06-30\n",
      "Data columns (total 3 columns):\n",
      " #   Column    Non-Null Count  Dtype  \n",
      "---  ------    --------------  -----  \n",
      " 0   AUDEUR=X  4274 non-null   float64\n",
      " 1   EURUSD=X  4275 non-null   float64\n",
      " 2   USDGBP=X  4287 non-null   float64\n",
      "dtypes: float64(3)\n",
      "memory usage: 134.2 KB\n"
     ]
    }
   ],
   "source": [
    "# 거래일에 따라 서로 다른 공휴일이 있기 때문에 데이터 갯수에 차이가 있음\n",
    "df.info()"
   ]
  },
  {
   "cell_type": "code",
   "execution_count": 5,
   "metadata": {},
   "outputs": [],
   "source": [
    "# SMA 백테스트 클래스가 포함되어 있\n",
    "import SMABacktester as SMA"
   ]
  },
  {
   "cell_type": "code",
   "execution_count": 6,
   "metadata": {},
   "outputs": [
    {
     "data": {
      "text/plain": [
       "SMABacktester(symbol = EURUSD=X, SMA_S = 50, SMA_L = 200, start = 2004-01-01, end = 2020-06-30)"
      ]
     },
     "execution_count": 6,
     "metadata": {},
     "output_type": "execute_result"
    }
   ],
   "source": [
    "# 객체를 인스턴스화 하기\n",
    "tester = SMA.SMABacktester(\"EURUSD=X\", 50, 200, \"2004-01-01\", \"2020-06-30\")\n",
    "tester"
   ]
  },
  {
   "cell_type": "code",
   "execution_count": 7,
   "metadata": {},
   "outputs": [
    {
     "data": {
      "text/plain": [
       "(1.2835, 0.367674)"
      ]
     },
     "execution_count": 7,
     "metadata": {},
     "output_type": "execute_result"
    }
   ],
   "source": [
    "# 거래 전략을 테스트하기\n",
    "tester.test_strategy()"
   ]
  },
  {
   "cell_type": "code",
   "execution_count": 8,
   "metadata": {},
   "outputs": [
    {
     "data": {
      "text/html": [
       "<div>\n",
       "<style scoped>\n",
       "    .dataframe tbody tr th:only-of-type {\n",
       "        vertical-align: middle;\n",
       "    }\n",
       "\n",
       "    .dataframe tbody tr th {\n",
       "        vertical-align: top;\n",
       "    }\n",
       "\n",
       "    .dataframe thead th {\n",
       "        text-align: right;\n",
       "    }\n",
       "</style>\n",
       "<table border=\"1\" class=\"dataframe\">\n",
       "  <thead>\n",
       "    <tr style=\"text-align: right;\">\n",
       "      <th></th>\n",
       "      <th>price</th>\n",
       "      <th>returns</th>\n",
       "      <th>SMA_S</th>\n",
       "      <th>SMA_L</th>\n",
       "      <th>position</th>\n",
       "      <th>strategy</th>\n",
       "      <th>creturns</th>\n",
       "      <th>cstrategy</th>\n",
       "    </tr>\n",
       "    <tr>\n",
       "      <th>Date</th>\n",
       "      <th></th>\n",
       "      <th></th>\n",
       "      <th></th>\n",
       "      <th></th>\n",
       "      <th></th>\n",
       "      <th></th>\n",
       "      <th></th>\n",
       "      <th></th>\n",
       "    </tr>\n",
       "  </thead>\n",
       "  <tbody>\n",
       "    <tr>\n",
       "      <th>2004-10-07</th>\n",
       "      <td>1.229906</td>\n",
       "      <td>0.001475</td>\n",
       "      <td>1.221840</td>\n",
       "      <td>1.226081</td>\n",
       "      <td>-1</td>\n",
       "      <td>-0.001475</td>\n",
       "      <td>1.001476</td>\n",
       "      <td>0.998526</td>\n",
       "    </tr>\n",
       "    <tr>\n",
       "      <th>2004-10-08</th>\n",
       "      <td>1.241003</td>\n",
       "      <td>0.008982</td>\n",
       "      <td>1.222628</td>\n",
       "      <td>1.225995</td>\n",
       "      <td>-1</td>\n",
       "      <td>-0.008982</td>\n",
       "      <td>1.010511</td>\n",
       "      <td>0.989598</td>\n",
       "    </tr>\n",
       "    <tr>\n",
       "      <th>2004-10-11</th>\n",
       "      <td>1.238405</td>\n",
       "      <td>-0.002095</td>\n",
       "      <td>1.223352</td>\n",
       "      <td>1.225843</td>\n",
       "      <td>-1</td>\n",
       "      <td>0.002095</td>\n",
       "      <td>1.008396</td>\n",
       "      <td>0.991673</td>\n",
       "    </tr>\n",
       "    <tr>\n",
       "      <th>2004-10-12</th>\n",
       "      <td>1.232104</td>\n",
       "      <td>-0.005102</td>\n",
       "      <td>1.223888</td>\n",
       "      <td>1.225643</td>\n",
       "      <td>-1</td>\n",
       "      <td>0.005102</td>\n",
       "      <td>1.003265</td>\n",
       "      <td>0.996746</td>\n",
       "    </tr>\n",
       "    <tr>\n",
       "      <th>2004-10-13</th>\n",
       "      <td>1.234903</td>\n",
       "      <td>0.002270</td>\n",
       "      <td>1.224466</td>\n",
       "      <td>1.225497</td>\n",
       "      <td>-1</td>\n",
       "      <td>-0.002270</td>\n",
       "      <td>1.005545</td>\n",
       "      <td>0.994486</td>\n",
       "    </tr>\n",
       "    <tr>\n",
       "      <th>...</th>\n",
       "      <td>...</td>\n",
       "      <td>...</td>\n",
       "      <td>...</td>\n",
       "      <td>...</td>\n",
       "      <td>...</td>\n",
       "      <td>...</td>\n",
       "      <td>...</td>\n",
       "      <td>...</td>\n",
       "    </tr>\n",
       "    <tr>\n",
       "      <th>2020-06-24</th>\n",
       "      <td>1.131235</td>\n",
       "      <td>0.002892</td>\n",
       "      <td>1.101794</td>\n",
       "      <td>1.103430</td>\n",
       "      <td>-1</td>\n",
       "      <td>-0.002892</td>\n",
       "      <td>0.921130</td>\n",
       "      <td>1.271272</td>\n",
       "    </tr>\n",
       "    <tr>\n",
       "      <th>2020-06-25</th>\n",
       "      <td>1.125087</td>\n",
       "      <td>-0.005449</td>\n",
       "      <td>1.102486</td>\n",
       "      <td>1.103540</td>\n",
       "      <td>-1</td>\n",
       "      <td>0.005449</td>\n",
       "      <td>0.916125</td>\n",
       "      <td>1.278218</td>\n",
       "    </tr>\n",
       "    <tr>\n",
       "      <th>2020-06-26</th>\n",
       "      <td>1.122208</td>\n",
       "      <td>-0.002562</td>\n",
       "      <td>1.103213</td>\n",
       "      <td>1.103627</td>\n",
       "      <td>-1</td>\n",
       "      <td>0.002562</td>\n",
       "      <td>0.913781</td>\n",
       "      <td>1.281497</td>\n",
       "    </tr>\n",
       "    <tr>\n",
       "      <th>2020-06-29</th>\n",
       "      <td>1.122586</td>\n",
       "      <td>0.000337</td>\n",
       "      <td>1.103931</td>\n",
       "      <td>1.103730</td>\n",
       "      <td>1</td>\n",
       "      <td>-0.000337</td>\n",
       "      <td>0.914089</td>\n",
       "      <td>1.281065</td>\n",
       "    </tr>\n",
       "    <tr>\n",
       "      <th>2020-06-30</th>\n",
       "      <td>1.124720</td>\n",
       "      <td>0.001899</td>\n",
       "      <td>1.104695</td>\n",
       "      <td>1.103857</td>\n",
       "      <td>1</td>\n",
       "      <td>0.001899</td>\n",
       "      <td>0.915826</td>\n",
       "      <td>1.283500</td>\n",
       "    </tr>\n",
       "  </tbody>\n",
       "</table>\n",
       "<p>4075 rows × 8 columns</p>\n",
       "</div>"
      ],
      "text/plain": [
       "               price   returns     SMA_S     SMA_L  position  strategy  \\\n",
       "Date                                                                     \n",
       "2004-10-07  1.229906  0.001475  1.221840  1.226081        -1 -0.001475   \n",
       "2004-10-08  1.241003  0.008982  1.222628  1.225995        -1 -0.008982   \n",
       "2004-10-11  1.238405 -0.002095  1.223352  1.225843        -1  0.002095   \n",
       "2004-10-12  1.232104 -0.005102  1.223888  1.225643        -1  0.005102   \n",
       "2004-10-13  1.234903  0.002270  1.224466  1.225497        -1 -0.002270   \n",
       "...              ...       ...       ...       ...       ...       ...   \n",
       "2020-06-24  1.131235  0.002892  1.101794  1.103430        -1 -0.002892   \n",
       "2020-06-25  1.125087 -0.005449  1.102486  1.103540        -1  0.005449   \n",
       "2020-06-26  1.122208 -0.002562  1.103213  1.103627        -1  0.002562   \n",
       "2020-06-29  1.122586  0.000337  1.103931  1.103730         1 -0.000337   \n",
       "2020-06-30  1.124720  0.001899  1.104695  1.103857         1  0.001899   \n",
       "\n",
       "            creturns  cstrategy  \n",
       "Date                             \n",
       "2004-10-07  1.001476   0.998526  \n",
       "2004-10-08  1.010511   0.989598  \n",
       "2004-10-11  1.008396   0.991673  \n",
       "2004-10-12  1.003265   0.996746  \n",
       "2004-10-13  1.005545   0.994486  \n",
       "...              ...        ...  \n",
       "2020-06-24  0.921130   1.271272  \n",
       "2020-06-25  0.916125   1.278218  \n",
       "2020-06-26  0.913781   1.281497  \n",
       "2020-06-29  0.914089   1.281065  \n",
       "2020-06-30  0.915826   1.283500  \n",
       "\n",
       "[4075 rows x 8 columns]"
      ]
     },
     "execution_count": 8,
     "metadata": {},
     "output_type": "execute_result"
    }
   ],
   "source": [
    "# 백테스트의 상세 결과를 확인하기\n",
    "#가격, 데이터, 로그 수익률, SMA_S, SMA_L, 포지션, 전략수익률, 매수후 보유 누적 수익률, 전략 누적 수익률\n",
    "tester.results"
   ]
  },
  {
   "cell_type": "code",
   "execution_count": 10,
   "metadata": {},
   "outputs": [
    {
     "data": {
      "image/png": "[encoded data removed]",
      "text/plain": [
       "<Figure size 864x576 with 1 Axes>"
      ]
     },
     "metadata": {
      "needs_background": "light"
     },
     "output_type": "display_data"
    }
   ],
   "source": [
    "# 매수 후 보유와 전략을 비교하기\n",
    "tester.plot_results()"
   ]
  },
  {
   "cell_type": "code",
   "execution_count": 12,
   "metadata": {},
   "outputs": [],
   "source": [
    "# 매개변수 변경하기\n",
    "tester.set_parameters(22, 100)"
   ]
  },
  {
   "cell_type": "code",
   "execution_count": 13,
   "metadata": {},
   "outputs": [
    {
     "data": {
      "text/plain": [
       "(1.165483, 0.228524)"
      ]
     },
     "execution_count": 13,
     "metadata": {},
     "output_type": "execute_result"
    }
   ],
   "source": [
    "# 변경한 매개변수를 테스트하기\n",
    "tester.test_strategy()"
   ]
  },
  {
   "cell_type": "code",
   "execution_count": 14,
   "metadata": {},
   "outputs": [
    {
     "data": {
      "image/png": "[encoded data removed]",
      "text/plain": [
       "<Figure size 864x576 with 1 Axes>"
      ]
     },
     "metadata": {
      "needs_background": "light"
     },
     "output_type": "display_data"
    }
   ],
   "source": [
    "tester.plot_results()"
   ]
  },
  {
   "cell_type": "code",
   "execution_count": 15,
   "metadata": {},
   "outputs": [
    {
     "data": {
      "text/plain": [
       "(array([ 46., 137.]), 2.526694)"
      ]
     },
     "execution_count": 15,
     "metadata": {},
     "output_type": "execute_result"
    }
   ],
   "source": [
    "# 매개변수를 최적화하여 최적의 전략을 구하기\n",
    "tester.optimize_parameters((25, 50,1), (100, 200, 1))"
   ]
  },
  {
   "cell_type": "code",
   "execution_count": 16,
   "metadata": {},
   "outputs": [
    {
     "data": {
      "image/png": "[encoded data removed]",
      "text/plain": [
       "<Figure size 864x576 with 1 Axes>"
      ]
     },
     "metadata": {
      "needs_background": "light"
     },
     "output_type": "display_data"
    }
   ],
   "source": [
    "tester.plot_results()"
   ]
  },
  {
   "cell_type": "markdown",
   "metadata": {},
   "source": [
    "__Backtesting & Forward Testing__"
   ]
  },
  {
   "cell_type": "code",
   "execution_count": null,
   "metadata": {},
   "outputs": [],
   "source": [
    "train = SMA.SMABacktester(\"EURUSD=X\", 50, 200, \"2004-01-01\", \"2015-12-31\")"
   ]
  },
  {
   "cell_type": "code",
   "execution_count": null,
   "metadata": {},
   "outputs": [],
   "source": [
    "train.optimize_parameters((25, 50, 1), (100, 200, 1)) # optimizing strategy & backtesting (\"in-sample\")"
   ]
  },
  {
   "cell_type": "code",
   "execution_count": null,
   "metadata": {},
   "outputs": [],
   "source": [
    "train.plot_results()"
   ]
  },
  {
   "cell_type": "code",
   "execution_count": null,
   "metadata": {},
   "outputs": [],
   "source": [
    "tester = SMA.SMABacktester(\"EURUSD=X\", 46, 137, \"2016-01-01\", \"2020-06-30\")"
   ]
  },
  {
   "cell_type": "code",
   "execution_count": null,
   "metadata": {},
   "outputs": [],
   "source": [
    "tester.test_strategy() # forward testing (\"out-sample\")"
   ]
  },
  {
   "cell_type": "code",
   "execution_count": null,
   "metadata": {},
   "outputs": [],
   "source": [
    "tester.plot_results()"
   ]
  },
  {
   "cell_type": "code",
   "execution_count": null,
   "metadata": {},
   "outputs": [],
   "source": [
    "tester = SMA.SMABacktester(\"AUDEUR=X\", 50, 200, \"2004-01-01\", \"2020-06-30\")"
   ]
  },
  {
   "cell_type": "code",
   "execution_count": null,
   "metadata": {},
   "outputs": [],
   "source": [
    "tester.test_strategy()"
   ]
  },
  {
   "cell_type": "code",
   "execution_count": null,
   "metadata": {
    "scrolled": false
   },
   "outputs": [],
   "source": [
    "tester.plot_results()"
   ]
  },
  {
   "cell_type": "code",
   "execution_count": null,
   "metadata": {},
   "outputs": [],
   "source": [
    "tester.optimize_parameters((25, 50, 1), (100, 200, 1))"
   ]
  },
  {
   "cell_type": "code",
   "execution_count": null,
   "metadata": {},
   "outputs": [],
   "source": [
    "tester.plot_results()"
   ]
  },
  {
   "cell_type": "code",
   "execution_count": null,
   "metadata": {},
   "outputs": [],
   "source": []
  },
  {
   "cell_type": "markdown",
   "metadata": {},
   "source": [
    "## Building the SMABacktester Class from scratch: Instantiation"
   ]
  },
  {
   "cell_type": "code",
   "execution_count": null,
   "metadata": {},
   "outputs": [],
   "source": [
    "class SMABacktester():\n",
    "    def __init__(self, symbol, SMA_S, SMA_L, start, end):\n",
    "        self.symbol = symbol\n",
    "        self.SMA_S = SMA_S\n",
    "        self.SMA_L = SMA_L\n",
    "        self.start = start\n",
    "        self.end = end\n",
    "        self.results = None"
   ]
  },
  {
   "cell_type": "code",
   "execution_count": null,
   "metadata": {},
   "outputs": [],
   "source": [
    "tester = SMA.SMABacktester(\"AUDEUR=X\", 50, 200, \"2004-01-01\", \"2020-06-30\")"
   ]
  },
  {
   "cell_type": "code",
   "execution_count": null,
   "metadata": {},
   "outputs": [],
   "source": [
    "tester.symbol"
   ]
  },
  {
   "cell_type": "code",
   "execution_count": null,
   "metadata": {},
   "outputs": [],
   "source": [
    "tester.SMA_L"
   ]
  },
  {
   "cell_type": "code",
   "execution_count": null,
   "metadata": {},
   "outputs": [],
   "source": [
    "tester.results"
   ]
  },
  {
   "cell_type": "code",
   "execution_count": null,
   "metadata": {},
   "outputs": [],
   "source": []
  },
  {
   "cell_type": "markdown",
   "metadata": {},
   "source": [
    "## Method get_data()"
   ]
  },
  {
   "cell_type": "code",
   "execution_count": null,
   "metadata": {},
   "outputs": [],
   "source": [
    "raw = pd.read_csv(\"forex_pairs.csv\", parse_dates = [\"Date\"], index_col = \"Date\") # importing data\n",
    "raw"
   ]
  },
  {
   "cell_type": "code",
   "execution_count": null,
   "metadata": {},
   "outputs": [],
   "source": [
    "raw = raw[\"AUDEUR=X\"].to_frame().dropna() # selecting an instrument\n",
    "raw"
   ]
  },
  {
   "cell_type": "code",
   "execution_count": null,
   "metadata": {},
   "outputs": [],
   "source": [
    "raw = raw.loc[\"2010-01-01\":\"2012-12-31\"].copy() # setting time period \n",
    "raw"
   ]
  },
  {
   "cell_type": "code",
   "execution_count": null,
   "metadata": {},
   "outputs": [],
   "source": [
    "raw.rename(columns={\"AUDEUR=X\": \"price\"}, inplace=True) # clean up"
   ]
  },
  {
   "cell_type": "code",
   "execution_count": null,
   "metadata": {},
   "outputs": [],
   "source": [
    "raw"
   ]
  },
  {
   "cell_type": "code",
   "execution_count": null,
   "metadata": {},
   "outputs": [],
   "source": [
    "raw[\"returns\"] = np.log(raw / raw.shift(1)) # calculate log returns"
   ]
  },
  {
   "cell_type": "code",
   "execution_count": null,
   "metadata": {},
   "outputs": [],
   "source": [
    "raw[\"SMA_S\"] = raw[\"price\"].rolling(50).mean() # add short sma\n",
    "raw[\"SMA_L\"] = raw[\"price\"].rolling(200).mean() # add long sma"
   ]
  },
  {
   "cell_type": "code",
   "execution_count": null,
   "metadata": {},
   "outputs": [],
   "source": [
    "raw"
   ]
  },
  {
   "cell_type": "code",
   "execution_count": null,
   "metadata": {},
   "outputs": [],
   "source": [
    "class SMABacktester():\n",
    "    def __init__(self, symbol, SMA_S, SMA_L, start, end):\n",
    "        self.symbol = symbol\n",
    "        self.SMA_S = SMA_S\n",
    "        self.SMA_L = SMA_L\n",
    "        self.start = start\n",
    "        self.end = end\n",
    "        self.results = None\n",
    "        self.get_data()\n",
    "        \n",
    "    def get_data(self):\n",
    "        raw = pd.read_csv(\"forex_pairs.csv\", parse_dates = [\"Date\"], index_col = \"Date\")\n",
    "        raw = raw[self.symbol].to_frame().dropna()\n",
    "        raw = raw.loc[self.start:self.end].copy()\n",
    "        raw.rename(columns={self.symbol: \"price\"}, inplace=True)\n",
    "        raw[\"returns\"] = np.log(raw / raw.shift(1))\n",
    "        raw[\"SMA_S\"] = raw[\"price\"].rolling(self.SMA_S).mean() # add short sma\n",
    "        raw[\"SMA_L\"] = raw[\"price\"].rolling(self.SMA_L).mean()\n",
    "        self.data = raw\n",
    "        return raw\n",
    "    "
   ]
  },
  {
   "cell_type": "code",
   "execution_count": null,
   "metadata": {},
   "outputs": [],
   "source": [
    "tester = SMABacktester(\"AUDEUR=X\", 50, 200, \"2010-01-01\", \"2019-12-31\")"
   ]
  },
  {
   "cell_type": "code",
   "execution_count": null,
   "metadata": {},
   "outputs": [],
   "source": [
    "tester.data"
   ]
  },
  {
   "cell_type": "code",
   "execution_count": null,
   "metadata": {},
   "outputs": [],
   "source": [
    "tester.get_data()"
   ]
  },
  {
   "cell_type": "code",
   "execution_count": null,
   "metadata": {},
   "outputs": [],
   "source": []
  },
  {
   "cell_type": "markdown",
   "metadata": {},
   "source": [
    "## Setting new SMA Paramters"
   ]
  },
  {
   "cell_type": "code",
   "execution_count": null,
   "metadata": {},
   "outputs": [],
   "source": [
    "tester.SMA_S"
   ]
  },
  {
   "cell_type": "code",
   "execution_count": null,
   "metadata": {},
   "outputs": [],
   "source": [
    "tester.SMA_L"
   ]
  },
  {
   "cell_type": "code",
   "execution_count": null,
   "metadata": {},
   "outputs": [],
   "source": [
    "tester.data.isna().sum()"
   ]
  },
  {
   "cell_type": "code",
   "execution_count": null,
   "metadata": {},
   "outputs": [],
   "source": [
    "tester.SMA_L = 250"
   ]
  },
  {
   "cell_type": "code",
   "execution_count": null,
   "metadata": {},
   "outputs": [],
   "source": [
    "tester.SMA_L"
   ]
  },
  {
   "cell_type": "code",
   "execution_count": null,
   "metadata": {},
   "outputs": [],
   "source": [
    "tester.data.isna().sum()"
   ]
  },
  {
   "cell_type": "code",
   "execution_count": null,
   "metadata": {},
   "outputs": [],
   "source": [
    "class SMABacktester():\n",
    "    def __init__(self, symbol, SMA_S, SMA_L, start, end):\n",
    "        self.symbol = symbol\n",
    "        self.SMA_S = SMA_S\n",
    "        self.SMA_L = SMA_L\n",
    "        self.start = start\n",
    "        self.end = end\n",
    "        self.results = None\n",
    "        self.get_data()\n",
    "        \n",
    "    def get_data(self):\n",
    "        raw = pd.read_csv(\"forex_pairs.csv\", parse_dates = [\"Date\"], index_col = \"Date\")\n",
    "        raw = raw[self.symbol].to_frame().dropna()\n",
    "        raw = raw.loc[self.start:self.end].copy()\n",
    "        raw.rename(columns={self.symbol: \"price\"}, inplace=True)\n",
    "        raw[\"returns\"] = np.log(raw / raw.shift(1))\n",
    "        raw[\"SMA_S\"] = raw[\"price\"].rolling(self.SMA_S).mean() # add short sma\n",
    "        raw[\"SMA_L\"] = raw[\"price\"].rolling(self.SMA_L).mean()\n",
    "        self.data = raw\n",
    "        return raw\n",
    "    \n",
    "    def set_parameters(self, SMA_S = None, SMA_L = None):\n",
    "        if SMA_S is not None:\n",
    "            self.SMA_S = SMA_S\n",
    "            self.data[\"SMA_S\"] = self.data[\"price\"].rolling(self.SMA_S).mean()\n",
    "        if SMA_L is not None:\n",
    "            self.SMA_L = SMA_L\n",
    "            self.data[\"SMA_L\"] = self.data[\"price\"].rolling(self.SMA_L).mean()"
   ]
  },
  {
   "cell_type": "code",
   "execution_count": null,
   "metadata": {},
   "outputs": [],
   "source": [
    "tester = SMABacktester(\"AUDEUR=X\", 50, 200, \"2010-01-01\", \"2019-12-31\")"
   ]
  },
  {
   "cell_type": "code",
   "execution_count": null,
   "metadata": {},
   "outputs": [],
   "source": [
    "tester.data.isna().sum()"
   ]
  },
  {
   "cell_type": "code",
   "execution_count": null,
   "metadata": {},
   "outputs": [],
   "source": [
    "tester.set_parameters(SMA_S = 25, SMA_L = 150)"
   ]
  },
  {
   "cell_type": "code",
   "execution_count": null,
   "metadata": {},
   "outputs": [],
   "source": [
    "tester.SMA_S"
   ]
  },
  {
   "cell_type": "code",
   "execution_count": null,
   "metadata": {},
   "outputs": [],
   "source": [
    "tester.data.isna().sum()"
   ]
  },
  {
   "cell_type": "code",
   "execution_count": null,
   "metadata": {},
   "outputs": [],
   "source": []
  },
  {
   "cell_type": "markdown",
   "metadata": {},
   "source": [
    "## Testing a Strategy"
   ]
  },
  {
   "cell_type": "code",
   "execution_count": null,
   "metadata": {},
   "outputs": [],
   "source": [
    "class SMABacktester():\n",
    "    def __init__(self, symbol, SMA_S, SMA_L, start, end):\n",
    "        self.symbol = symbol\n",
    "        self.SMA_S = SMA_S\n",
    "        self.SMA_L = SMA_L\n",
    "        self.start = start\n",
    "        self.end = end\n",
    "        self.results = None\n",
    "        self.get_data()\n",
    "        \n",
    "    def get_data(self):\n",
    "        raw = pd.read_csv(\"forex_pairs.csv\", parse_dates = [\"Date\"], index_col = \"Date\")\n",
    "        raw = raw[self.symbol].to_frame().dropna()\n",
    "        raw = raw.loc[self.start:self.end].copy()\n",
    "        raw.rename(columns={self.symbol: \"price\"}, inplace=True)\n",
    "        raw[\"returns\"] = np.log(raw / raw.shift(1))\n",
    "        raw[\"SMA_S\"] = raw[\"price\"].rolling(self.SMA_S).mean() # add short sma\n",
    "        raw[\"SMA_L\"] = raw[\"price\"].rolling(self.SMA_L).mean()\n",
    "        self.data = raw\n",
    "        return raw\n",
    "    \n",
    "    def set_parameters(self, SMA_S = None, SMA_L = None):\n",
    "        if SMA_S is not None:\n",
    "            self.SMA_S = SMA_S\n",
    "            self.data[\"SMA_S\"] = self.data[\"price\"].rolling(self.SMA_S).mean()\n",
    "        if SMA_L is not None:\n",
    "            self.SMA_L = SMA_L\n",
    "            self.data[\"SMA_L\"] = self.data[\"price\"].rolling(self.SMA_L).mean()\n",
    "            \n",
    "    def test_strategy(self):\n",
    "        data = self.data.copy().dropna()\n",
    "        data[\"position\"] = np.where(data[\"SMA_S\"] > data[\"SMA_L\"], 1, -1)\n",
    "        data[\"strategy\"] = data[\"position\"].shift(1) * data[\"returns\"]\n",
    "        data.dropna(inplace=True)\n",
    "        data[\"creturns\"] = data[\"returns\"].cumsum().apply(np.exp)\n",
    "        data[\"cstrategy\"] = data[\"strategy\"].cumsum().apply(np.exp)\n",
    "        self.results = data\n",
    "        \n",
    "        perf = data[\"cstrategy\"].iloc[-1] # absolute performance\n",
    "        outperf = perf - data[\"creturns\"].iloc[-1] # outperformance \n",
    "        return round(perf, 6), round(outperf, 6)"
   ]
  },
  {
   "cell_type": "code",
   "execution_count": null,
   "metadata": {},
   "outputs": [],
   "source": [
    "tester = SMABacktester(\"EURUSD=X\", 50, 200, \"2004-01-01\", \"2020-06-30\")"
   ]
  },
  {
   "cell_type": "code",
   "execution_count": null,
   "metadata": {},
   "outputs": [],
   "source": [
    "tester.test_strategy()"
   ]
  },
  {
   "cell_type": "code",
   "execution_count": null,
   "metadata": {},
   "outputs": [],
   "source": [
    "tester.data"
   ]
  },
  {
   "cell_type": "code",
   "execution_count": null,
   "metadata": {},
   "outputs": [],
   "source": [
    "tester.results"
   ]
  },
  {
   "cell_type": "code",
   "execution_count": null,
   "metadata": {},
   "outputs": [],
   "source": []
  },
  {
   "cell_type": "markdown",
   "metadata": {},
   "source": [
    "## Plotting the results"
   ]
  },
  {
   "cell_type": "code",
   "execution_count": null,
   "metadata": {},
   "outputs": [],
   "source": [
    "class SMABacktester():\n",
    "    def __init__(self, symbol, SMA_S, SMA_L, start, end):\n",
    "        self.symbol = symbol\n",
    "        self.SMA_S = SMA_S\n",
    "        self.SMA_L = SMA_L\n",
    "        self.start = start\n",
    "        self.end = end\n",
    "        self.results = None\n",
    "        self.get_data()\n",
    "        \n",
    "    def get_data(self):\n",
    "        raw = pd.read_csv(\"forex_pairs.csv\", parse_dates = [\"Date\"], index_col = \"Date\")\n",
    "        raw = raw[self.symbol].to_frame().dropna()\n",
    "        raw = raw.loc[self.start:self.end].copy()\n",
    "        raw.rename(columns={self.symbol: \"price\"}, inplace=True)\n",
    "        raw[\"returns\"] = np.log(raw / raw.shift(1))\n",
    "        raw[\"SMA_S\"] = raw[\"price\"].rolling(self.SMA_S).mean() # add short sma\n",
    "        raw[\"SMA_L\"] = raw[\"price\"].rolling(self.SMA_L).mean()\n",
    "        self.data = raw\n",
    "        return raw\n",
    "    \n",
    "    def set_parameters(self, SMA_S = None, SMA_L = None):\n",
    "        if SMA_S is not None:\n",
    "            self.SMA_S = SMA_S\n",
    "            self.data[\"SMA_S\"] = self.data[\"price\"].rolling(self.SMA_S).mean()\n",
    "        if SMA_L is not None:\n",
    "            self.SMA_L = SMA_L\n",
    "            self.data[\"SMA_L\"] = self.data[\"price\"].rolling(self.SMA_L).mean()\n",
    "            \n",
    "    def test_strategy(self):\n",
    "        data = self.data.copy().dropna()\n",
    "        data[\"position\"] = np.where(data[\"SMA_S\"] > data[\"SMA_L\"], 1, -1)\n",
    "        data[\"strategy\"] = data[\"position\"].shift(1) * data[\"returns\"]\n",
    "        data.dropna(inplace=True)\n",
    "        data[\"creturns\"] = data[\"returns\"].cumsum().apply(np.exp)\n",
    "        data[\"cstrategy\"] = data[\"strategy\"].cumsum().apply(np.exp)\n",
    "        self.results = data\n",
    "        \n",
    "        perf = data[\"cstrategy\"].iloc[-1] # absolute performance\n",
    "        outperf = perf - data[\"creturns\"].iloc[-1] # outperformance \n",
    "        return round(perf, 6), round(outperf, 6)\n",
    "    \n",
    "    def plot_results(self):\n",
    "        if self.results is None:\n",
    "            print(\"No results to plot yet. Run a strategy.\")\n",
    "        else:\n",
    "            title = \"{} | SMA_S = {} | SMA_L = {}\".format(self.symbol, self.SMA_S, self.SMA_L)\n",
    "            self.results[[\"creturns\", \"cstrategy\"]].plot(title=title, figsize=(12, 8))"
   ]
  },
  {
   "cell_type": "code",
   "execution_count": null,
   "metadata": {},
   "outputs": [],
   "source": [
    "tester = SMABacktester(\"EURUSD=X\", 50, 200, \"2004-01-01\", \"2020-06-30\")"
   ]
  },
  {
   "cell_type": "code",
   "execution_count": null,
   "metadata": {},
   "outputs": [],
   "source": [
    "tester.plot_results()"
   ]
  },
  {
   "cell_type": "code",
   "execution_count": null,
   "metadata": {},
   "outputs": [],
   "source": [
    "tester.test_strategy()"
   ]
  },
  {
   "cell_type": "code",
   "execution_count": null,
   "metadata": {},
   "outputs": [],
   "source": [
    "tester.plot_results()"
   ]
  },
  {
   "cell_type": "code",
   "execution_count": null,
   "metadata": {},
   "outputs": [],
   "source": []
  },
  {
   "cell_type": "markdown",
   "metadata": {},
   "source": [
    "## Optimization (Part 1)"
   ]
  },
  {
   "cell_type": "code",
   "execution_count": null,
   "metadata": {},
   "outputs": [],
   "source": [
    "tester.set_parameters(25, 150)"
   ]
  },
  {
   "cell_type": "code",
   "execution_count": null,
   "metadata": {},
   "outputs": [],
   "source": [
    "tester.test_strategy()"
   ]
  },
  {
   "cell_type": "code",
   "execution_count": null,
   "metadata": {},
   "outputs": [],
   "source": [
    "class SMABacktester():\n",
    "    def __init__(self, symbol, SMA_S, SMA_L, start, end):\n",
    "        self.symbol = symbol\n",
    "        self.SMA_S = SMA_S\n",
    "        self.SMA_L = SMA_L\n",
    "        self.start = start\n",
    "        self.end = end\n",
    "        self.results = None\n",
    "        self.get_data()\n",
    "        \n",
    "    def get_data(self):\n",
    "        raw = pd.read_csv(\"forex_pairs.csv\", parse_dates = [\"Date\"], index_col = \"Date\")\n",
    "        raw = raw[self.symbol].to_frame().dropna()\n",
    "        raw = raw.loc[self.start:self.end].copy()\n",
    "        raw.rename(columns={self.symbol: \"price\"}, inplace=True)\n",
    "        raw[\"returns\"] = np.log(raw / raw.shift(1))\n",
    "        raw[\"SMA_S\"] = raw[\"price\"].rolling(self.SMA_S).mean() # add short sma\n",
    "        raw[\"SMA_L\"] = raw[\"price\"].rolling(self.SMA_L).mean()\n",
    "        self.data = raw\n",
    "        return raw\n",
    "    \n",
    "    def set_parameters(self, SMA_S = None, SMA_L = None):\n",
    "        if SMA_S is not None:\n",
    "            self.SMA_S = SMA_S\n",
    "            self.data[\"SMA_S\"] = self.data[\"price\"].rolling(self.SMA_S).mean()\n",
    "        if SMA_L is not None:\n",
    "            self.SMA_L = SMA_L\n",
    "            self.data[\"SMA_L\"] = self.data[\"price\"].rolling(self.SMA_L).mean()\n",
    "            \n",
    "    def test_strategy(self):\n",
    "        data = self.data.copy().dropna()\n",
    "        data[\"position\"] = np.where(data[\"SMA_S\"] > data[\"SMA_L\"], 1, -1)\n",
    "        data[\"strategy\"] = data[\"position\"].shift(1) * data[\"returns\"]\n",
    "        data.dropna(inplace=True)\n",
    "        data[\"creturns\"] = data[\"returns\"].cumsum().apply(np.exp)\n",
    "        data[\"cstrategy\"] = data[\"strategy\"].cumsum().apply(np.exp)\n",
    "        self.results = data\n",
    "        \n",
    "        perf = data[\"cstrategy\"].iloc[-1] # absolute performance\n",
    "        outperf = perf - data[\"creturns\"].iloc[-1] # outperformance \n",
    "        return round(perf, 6), round(outperf, 6)\n",
    "    \n",
    "    def plot_results(self):\n",
    "        if self.results is None:\n",
    "            print(\"No results to plot yet. Run a strategy.\")\n",
    "        else:\n",
    "            title = \"{} | SMA_S = {} | SMA_L = {}\".format(self.symbol, self.SMA_S, self.SMA_L)\n",
    "            self.results[[\"creturns\", \"cstrategy\"]].plot(title=title, figsize=(12, 8))\n",
    "            \n",
    "    def update_and_run(self, SMA):\n",
    "        self.set_parameters(int(SMA[0]), int(SMA[1]))\n",
    "        return -self.test_strategy()[0]"
   ]
  },
  {
   "cell_type": "code",
   "execution_count": null,
   "metadata": {},
   "outputs": [],
   "source": [
    "tester = SMABacktester(\"EURUSD=X\", 50, 200, \"2004-01-01\", \"2020-06-30\")"
   ]
  },
  {
   "cell_type": "code",
   "execution_count": null,
   "metadata": {},
   "outputs": [],
   "source": [
    "tester.test_strategy()"
   ]
  },
  {
   "cell_type": "code",
   "execution_count": null,
   "metadata": {},
   "outputs": [],
   "source": [
    "tester.update_and_run((25, 150))"
   ]
  },
  {
   "cell_type": "code",
   "execution_count": null,
   "metadata": {},
   "outputs": [],
   "source": []
  },
  {
   "cell_type": "markdown",
   "metadata": {},
   "source": [
    "## Optimization (Part 2)"
   ]
  },
  {
   "cell_type": "code",
   "execution_count": null,
   "metadata": {},
   "outputs": [],
   "source": [
    "class SMABacktester():\n",
    "    def __init__(self, symbol, SMA_S, SMA_L, start, end):\n",
    "        self.symbol = symbol\n",
    "        self.SMA_S = SMA_S\n",
    "        self.SMA_L = SMA_L\n",
    "        self.start = start\n",
    "        self.end = end\n",
    "        self.results = None\n",
    "        self.get_data()\n",
    "        \n",
    "    def get_data(self):\n",
    "        raw = pd.read_csv(\"forex_pairs.csv\", parse_dates = [\"Date\"], index_col = \"Date\")\n",
    "        raw = raw[self.symbol].to_frame().dropna()\n",
    "        raw = raw.loc[self.start:self.end].copy()\n",
    "        raw.rename(columns={self.symbol: \"price\"}, inplace=True)\n",
    "        raw[\"returns\"] = np.log(raw / raw.shift(1))\n",
    "        raw[\"SMA_S\"] = raw[\"price\"].rolling(self.SMA_S).mean() # add short sma\n",
    "        raw[\"SMA_L\"] = raw[\"price\"].rolling(self.SMA_L).mean()\n",
    "        self.data = raw\n",
    "        return raw\n",
    "    \n",
    "    def set_parameters(self, SMA_S = None, SMA_L = None):\n",
    "        if SMA_S is not None:\n",
    "            self.SMA_S = SMA_S\n",
    "            self.data[\"SMA_S\"] = self.data[\"price\"].rolling(self.SMA_S).mean()\n",
    "        if SMA_L is not None:\n",
    "            self.SMA_L = SMA_L\n",
    "            self.data[\"SMA_L\"] = self.data[\"price\"].rolling(self.SMA_L).mean()\n",
    "            \n",
    "    def test_strategy(self):\n",
    "        data = self.data.copy().dropna()\n",
    "        data[\"position\"] = np.where(data[\"SMA_S\"] > data[\"SMA_L\"], 1, -1)\n",
    "        data[\"strategy\"] = data[\"position\"].shift(1) * data[\"returns\"]\n",
    "        data.dropna(inplace=True)\n",
    "        data[\"creturns\"] = data[\"returns\"].cumsum().apply(np.exp)\n",
    "        data[\"cstrategy\"] = data[\"strategy\"].cumsum().apply(np.exp)\n",
    "        self.results = data\n",
    "        \n",
    "        perf = data[\"cstrategy\"].iloc[-1] # absolute performance\n",
    "        outperf = perf - data[\"creturns\"].iloc[-1] # outperformance \n",
    "        return round(perf, 6), round(outperf, 6)\n",
    "    \n",
    "    def plot_results(self):\n",
    "        if self.results is None:\n",
    "            print(\"No results to plot yet. Run a strategy.\")\n",
    "        else:\n",
    "            title = \"{} | SMA_S = {} | SMA_L = {}\".format(self.symbol, self.SMA_S, self.SMA_L)\n",
    "            self.results[[\"creturns\", \"cstrategy\"]].plot(title=title, figsize=(12, 8))\n",
    "            \n",
    "    def update_and_run(self, SMA):\n",
    "        self.set_parameters(int(SMA[0]), int(SMA[1]))\n",
    "        return -self.test_strategy()[0]\n",
    "    \n",
    "    def optimize_parameters(self, SMA_S_range, SMA_L_range):\n",
    "        opt = brute(self.update_and_run, (SMA_S_range, SMA_L_range), finish=None)\n",
    "        return opt, -self.update_and_run(opt)"
   ]
  },
  {
   "cell_type": "code",
   "execution_count": null,
   "metadata": {},
   "outputs": [],
   "source": [
    "tester = SMABacktester(\"EURUSD=X\", 50, 200, \"2004-01-01\", \"2020-06-30\")"
   ]
  },
  {
   "cell_type": "code",
   "execution_count": null,
   "metadata": {},
   "outputs": [],
   "source": [
    "tester.test_strategy()"
   ]
  },
  {
   "cell_type": "code",
   "execution_count": null,
   "metadata": {},
   "outputs": [],
   "source": [
    "tester.optimize_parameters((10, 50, 1), (100, 252, 1))"
   ]
  },
  {
   "cell_type": "code",
   "execution_count": null,
   "metadata": {},
   "outputs": [],
   "source": []
  },
  {
   "cell_type": "markdown",
   "metadata": {},
   "source": [
    "## String Representation & Docstrings"
   ]
  },
  {
   "cell_type": "code",
   "execution_count": null,
   "metadata": {},
   "outputs": [],
   "source": [
    "tester"
   ]
  },
  {
   "cell_type": "code",
   "execution_count": null,
   "metadata": {},
   "outputs": [],
   "source": [
    "#tester.optimize_parameters()"
   ]
  },
  {
   "cell_type": "code",
   "execution_count": null,
   "metadata": {},
   "outputs": [],
   "source": [
    "class SMABacktester():\n",
    "    ''' Class for the vectorized backtesting of SMA-based trading strategies.\n",
    "\n",
    "    Attributes\n",
    "    ==========\n",
    "    symbol: str\n",
    "        ticker symbol with which to work with\n",
    "    SMA_S: int\n",
    "        time window in days for shorter SMA\n",
    "    SMA_L: int\n",
    "        time window in days for longer SMA\n",
    "    start: str\n",
    "        start date for data retrieval\n",
    "    end: str\n",
    "        end date for data retrieval\n",
    "        \n",
    "        \n",
    "    Methods\n",
    "    =======\n",
    "    get_data:\n",
    "        retrieves and prepares the data\n",
    "        \n",
    "    set_parameters:\n",
    "        sets one or two new SMA parameters\n",
    "        \n",
    "    test_strategy:\n",
    "        runs the backtest for the SMA-based strategy\n",
    "        \n",
    "    plot_results:\n",
    "        plots the performance of the strategy compared to buy and hold\n",
    "        \n",
    "    update_and_run:\n",
    "        updates SMA parameters and returns the negative absolute performance (for minimization algorithm)\n",
    "        \n",
    "    optimize_parameters:\n",
    "        implements a brute force optimization for the two SMA parameters\n",
    "    '''\n",
    "    \n",
    "    def __init__(self, symbol, SMA_S, SMA_L, start, end):\n",
    "        self.symbol = symbol\n",
    "        self.SMA_S = SMA_S\n",
    "        self.SMA_L = SMA_L\n",
    "        self.start = start\n",
    "        self.end = end\n",
    "        self.results = None\n",
    "        self.get_data()\n",
    "    \n",
    "    def __repr__(self):\n",
    "        rep = \"SMABacktester(symbol = {}, SMA_S = {}, SMA_L = {}, start = {}, end = {})\"\n",
    "        return rep.format(self.symbol, self.SMA_S, self.SMA_L, self.start, self.end)  \n",
    "    \n",
    "    def get_data(self):\n",
    "        ''' Retrieves and prepares the data.\n",
    "        '''\n",
    "        raw = pd.read_csv(\"forex_pairs.csv\", parse_dates = [\"Date\"], index_col = \"Date\")\n",
    "        raw = raw[self.symbol].to_frame().dropna()\n",
    "        raw = raw.loc[self.start:self.end].copy()\n",
    "        raw.rename(columns={self.symbol: \"price\"}, inplace=True)\n",
    "        raw[\"returns\"] = np.log(raw / raw.shift(1))\n",
    "        raw[\"SMA_S\"] = raw[\"price\"].rolling(self.SMA_S).mean() # add short sma\n",
    "        raw[\"SMA_L\"] = raw[\"price\"].rolling(self.SMA_L).mean()\n",
    "        self.data = raw\n",
    "        return raw\n",
    "    \n",
    "    def set_parameters(self, SMA_S = None, SMA_L = None):\n",
    "        ''' Updates SMA parameters and resp. time series.\n",
    "        '''\n",
    "        if SMA_S is not None:\n",
    "            self.SMA_S = SMA_S\n",
    "            self.data[\"SMA_S\"] = self.data[\"price\"].rolling(self.SMA_S).mean()\n",
    "        if SMA_L is not None:\n",
    "            self.SMA_L = SMA_L\n",
    "            self.data[\"SMA_L\"] = self.data[\"price\"].rolling(self.SMA_L).mean()\n",
    "            \n",
    "    def test_strategy(self):\n",
    "        ''' Backtests the trading strategy.\n",
    "        '''\n",
    "        data = self.data.copy().dropna()\n",
    "        data[\"position\"] = np.where(data[\"SMA_S\"] > data[\"SMA_L\"], 1, -1)\n",
    "        data[\"strategy\"] = data[\"position\"].shift(1) * data[\"returns\"]\n",
    "        data.dropna(inplace=True)\n",
    "        data[\"creturns\"] = data[\"returns\"].cumsum().apply(np.exp)\n",
    "        data[\"cstrategy\"] = data[\"strategy\"].cumsum().apply(np.exp)\n",
    "        self.results = data\n",
    "        \n",
    "        perf = data[\"cstrategy\"].iloc[-1] # absolute performance\n",
    "        outperf = perf - data[\"creturns\"].iloc[-1] # outperformance \n",
    "        return round(perf, 6), round(outperf, 6)\n",
    "    \n",
    "    def plot_results(self):\n",
    "        ''' Plots the cumulative performance of the trading strategy compared to buy and hold.\n",
    "        '''\n",
    "        if self.results is None:\n",
    "            print(\"No results to plot yet. Run a strategy.\")\n",
    "        else:\n",
    "            title = \"{} | SMA_S = {} | SMA_L = {}\".format(self.symbol, self.SMA_S, self.SMA_L)\n",
    "            self.results[[\"creturns\", \"cstrategy\"]].plot(title=title, figsize=(12, 8))\n",
    "            \n",
    "    def update_and_run(self, SMA):\n",
    "        ''' Updates SMA parameters and returns the negative absolute performance (for minimization algorithm).\n",
    "\n",
    "        Parameters\n",
    "        ==========\n",
    "        SMA: tuple\n",
    "            SMA parameter tuple\n",
    "        '''\n",
    "        self.set_parameters(int(SMA[0]), int(SMA[1]))\n",
    "        return -self.test_strategy()[0]\n",
    "    \n",
    "    def optimize_parameters(self, SMA_S_range, SMA_L_range):\n",
    "        ''' Finds global maximum given the SMA parameter ranges.\n",
    "\n",
    "        Parameters\n",
    "        ==========\n",
    "        SMA_S_range, SMA_L_range: tuple\n",
    "            tuples of the form (start, end, step size)\n",
    "        '''\n",
    "        opt = brute(self.update_and_run, (SMA_S_range, SMA_L_range), finish=None)\n",
    "        return opt, -self.update_and_run(opt)"
   ]
  },
  {
   "cell_type": "code",
   "execution_count": null,
   "metadata": {},
   "outputs": [],
   "source": [
    "tester = SMABacktester(\"EURUSD=X\", 50, 200, \"2004-01-01\", \"2020-06-30\")"
   ]
  },
  {
   "cell_type": "code",
   "execution_count": null,
   "metadata": {},
   "outputs": [],
   "source": [
    "tester"
   ]
  },
  {
   "cell_type": "code",
   "execution_count": null,
   "metadata": {},
   "outputs": [],
   "source": [
    "tester.optimize_parameters()"
   ]
  },
  {
   "cell_type": "code",
   "execution_count": null,
   "metadata": {},
   "outputs": [],
   "source": []
  },
  {
   "cell_type": "markdown",
   "metadata": {},
   "source": [
    "## Adding Transaction Costs to SMABacktester"
   ]
  },
  {
   "cell_type": "code",
   "execution_count": null,
   "metadata": {},
   "outputs": [],
   "source": [
    "import pandas as pd\n",
    "import numpy as np\n",
    "import matplotlib.pyplot as plt\n",
    "from scipy.optimize import brute\n",
    "plt.style.use(\"seaborn\")"
   ]
  },
  {
   "cell_type": "code",
   "execution_count": null,
   "metadata": {},
   "outputs": [],
   "source": [
    "class SMABacktester(): # with ptc \n",
    "    ''' Class for the vectorized backtesting of SMA-based trading strategies.\n",
    "\n",
    "    Attributes\n",
    "    ==========\n",
    "    symbol: str\n",
    "        ticker symbol with which to work with\n",
    "    SMA_S: int\n",
    "        time window in days for shorter SMA\n",
    "    SMA_L: int\n",
    "        time window in days for longer SMA\n",
    "    start: str\n",
    "        start date for data retrieval\n",
    "    end: str\n",
    "        end date for data retrieval\n",
    "    tc: float\n",
    "        proportional transaction costs per trade\n",
    "        \n",
    "        \n",
    "    Methods\n",
    "    =======\n",
    "    get_data:\n",
    "        retrieves and prepares the data\n",
    "        \n",
    "    set_parameters:\n",
    "        sets one or two new SMA parameters\n",
    "        \n",
    "    test_strategy:\n",
    "        runs the backtest for the SMA-based strategy\n",
    "        \n",
    "    plot_results:\n",
    "        plots the performance of the strategy compared to buy and hold\n",
    "        \n",
    "    update_and_run:\n",
    "        updates SMA parameters and returns the negative absolute performance (for minimization algorithm)\n",
    "        \n",
    "    optimize_parameters:\n",
    "        implements a brute force optimization for the two SMA parameters\n",
    "    '''\n",
    "    \n",
    "    def __init__(self, symbol, SMA_S, SMA_L, start, end, tc):\n",
    "        self.symbol = symbol\n",
    "        self.SMA_S = SMA_S\n",
    "        self.SMA_L = SMA_L\n",
    "        self.start = start\n",
    "        self.end = end\n",
    "        self.tc = tc\n",
    "        self.results = None \n",
    "        self.get_data()\n",
    "        \n",
    "    def __repr__(self):\n",
    "        return \"SMABacktester(symbol = {}, SMA_S = {}, SMA_L = {}, start = {}, end = {})\".format(self.symbol, self.SMA_S, self.SMA_L, self.start, self.end)\n",
    "        \n",
    "    def get_data(self):\n",
    "        ''' Retrieves and prepares the data.\n",
    "        '''\n",
    "        raw = pd.read_csv(\"forex_pairs.csv\", parse_dates = [\"Date\"], index_col = \"Date\")\n",
    "        raw = raw[self.symbol].to_frame().dropna()\n",
    "        raw = raw.loc[self.start:self.end]\n",
    "        raw.rename(columns={self.symbol: \"price\"}, inplace=True)\n",
    "        raw[\"returns\"] = np.log(raw / raw.shift(1))\n",
    "        raw[\"SMA_S\"] = raw[\"price\"].rolling(self.SMA_S).mean()\n",
    "        raw[\"SMA_L\"] = raw[\"price\"].rolling(self.SMA_L).mean()\n",
    "        self.data = raw\n",
    "        \n",
    "    def set_parameters(self, SMA_S = None, SMA_L = None):\n",
    "        ''' Updates SMA parameters and resp. time series.\n",
    "        '''\n",
    "        if SMA_S is not None:\n",
    "            self.SMA_S = SMA_S\n",
    "            self.data[\"SMA_S\"] = self.data[\"price\"].rolling(self.SMA_S).mean()\n",
    "        if SMA_L is not None:\n",
    "            self.SMA_L = SMA_L\n",
    "            self.data[\"SMA_L\"] = self.data[\"price\"].rolling(self.SMA_L).mean()\n",
    "            \n",
    "    def test_strategy(self):\n",
    "        ''' Backtests the trading strategy.\n",
    "        '''\n",
    "        data = self.data.copy().dropna()\n",
    "        data[\"position\"] = np.where(data[\"SMA_S\"] > data[\"SMA_L\"], 1, -1)\n",
    "        data[\"strategy\"] = data[\"position\"].shift(1) * data[\"returns\"]\n",
    "        data.dropna(inplace=True)\n",
    "        \n",
    "        # determine when a trade takes place\n",
    "        data[\"trades\"] = data.position.diff().fillna(0).abs()\n",
    "        \n",
    "        # subtract transaction costs from return when trade takes place\n",
    "        data.strategy = data.strategy - data.trades * self.tc\n",
    "        \n",
    "        data[\"creturns\"] = data[\"returns\"].cumsum().apply(np.exp)\n",
    "        data[\"cstrategy\"] = data[\"strategy\"].cumsum().apply(np.exp)\n",
    "        self.results = data\n",
    "        \n",
    "        perf = data[\"cstrategy\"].iloc[-1] # absolute performance of the strategy\n",
    "        outperf = perf - data[\"creturns\"].iloc[-1] # out-/underperformance of strategy\n",
    "        return round(perf, 6), round(outperf, 6)\n",
    "    \n",
    "    def plot_results(self):\n",
    "        ''' Plots the cumulative performance of the trading strategy\n",
    "        compared to buy and hold.\n",
    "        '''\n",
    "        if self.results is None:\n",
    "            print(\"No results to plot yet. Run a strategy.\")\n",
    "        else:\n",
    "            title = \"{} | SMA_S = {} | SMA_L = {} | TC = {}\".format(self.symbol, self.SMA_S, self.SMA_L, self.tc)\n",
    "            self.results[[\"creturns\", \"cstrategy\"]].plot(title=title, figsize=(12, 8))\n",
    "        \n",
    "    def update_and_run(self, SMA):\n",
    "        ''' Updates SMA parameters and returns the negative absolute performance (for minimization algorithm).\n",
    "\n",
    "        Parameters\n",
    "        ==========\n",
    "        SMA: tuple\n",
    "            SMA parameter tuple\n",
    "        '''\n",
    "        self.set_parameters(int(SMA[0]), int(SMA[1]))\n",
    "        return -self.test_strategy()[0]\n",
    "    \n",
    "    def optimize_parameters(self, SMA1_range, SMA2_range):\n",
    "        ''' Finds global maximum given the SMA parameter ranges.\n",
    "\n",
    "        Parameters\n",
    "        ==========\n",
    "        SMA1_range, SMA2_range: tuple\n",
    "            tuples of the form (start, end, step size)\n",
    "        '''\n",
    "        opt = brute(self.update_and_run, (SMA1_range, SMA2_range), finish=None)\n",
    "        return opt, -self.update_and_run(opt)"
   ]
  },
  {
   "cell_type": "code",
   "execution_count": null,
   "metadata": {},
   "outputs": [],
   "source": [
    "ptc = 0.00007"
   ]
  },
  {
   "cell_type": "code",
   "execution_count": null,
   "metadata": {},
   "outputs": [],
   "source": [
    "tester = SMABacktester(\"EURUSD=X\", 50, 200, \"2004-01-01\", \"2020-06-30\", ptc)"
   ]
  },
  {
   "cell_type": "code",
   "execution_count": null,
   "metadata": {},
   "outputs": [],
   "source": [
    "tester.test_strategy()"
   ]
  },
  {
   "cell_type": "code",
   "execution_count": null,
   "metadata": {},
   "outputs": [],
   "source": [
    "tester.optimize_parameters((25, 50, 1), (100, 200, 1))"
   ]
  },
  {
   "cell_type": "code",
   "execution_count": null,
   "metadata": {},
   "outputs": [],
   "source": []
  },
  {
   "cell_type": "markdown",
   "metadata": {},
   "source": [
    "## Special Case: Price/SMA Crossover"
   ]
  },
  {
   "cell_type": "markdown",
   "metadata": {},
   "source": [
    "__Price == SMA1__"
   ]
  },
  {
   "cell_type": "code",
   "execution_count": null,
   "metadata": {},
   "outputs": [],
   "source": [
    "tester = SMABacktester(\"EURUSD=X\", 1, 200, \"2004-01-01\", \"2020-06-30\", ptc)"
   ]
  },
  {
   "cell_type": "code",
   "execution_count": null,
   "metadata": {},
   "outputs": [],
   "source": [
    "tester.test_strategy()"
   ]
  },
  {
   "cell_type": "code",
   "execution_count": null,
   "metadata": {},
   "outputs": [],
   "source": [
    "tester.plot_results()"
   ]
  },
  {
   "cell_type": "code",
   "execution_count": null,
   "metadata": {},
   "outputs": [],
   "source": [
    "tester.data"
   ]
  },
  {
   "cell_type": "code",
   "execution_count": null,
   "metadata": {},
   "outputs": [],
   "source": [
    "tester.optimize_parameters((1, 5, 1), (50, 200, 1))"
   ]
  },
  {
   "cell_type": "code",
   "execution_count": null,
   "metadata": {},
   "outputs": [],
   "source": []
  }
 ],
 "metadata": {
  "kernelspec": {
   "display_name": "Python 3",
   "language": "python",
   "name": "python3"
  },
  "language_info": {
   "codemirror_mode": {
    "name": "ipython",
    "version": 3
   },
   "file_extension": ".py",
   "mimetype": "text/x-python",
   "name": "python",
   "nbconvert_exporter": "python",
   "pygments_lexer": "ipython3",
   "version": "3.10.9"
  },
  "vscode": {
   "interpreter": {
    "hash": "8934ceef4d64476478d2948e37a703271a4f0c64a56cf59c2ad253df468db548"
   }
  }
 },
 "nbformat": 4,
 "nbformat_minor": 4
}
