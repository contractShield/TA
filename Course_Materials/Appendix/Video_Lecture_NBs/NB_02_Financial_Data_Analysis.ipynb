{
 "cells": [
  {
   "cell_type": "markdown",
   "metadata": {},
   "source": [
    "# Financial Data Analysis"
   ]
  },
  {
   "cell_type": "markdown",
   "metadata": {},
   "source": [
    "## Importing and Exporting Stock Price Data from Yahoo Finance"
   ]
  },
  {
   "cell_type": "code",
   "execution_count": 1,
   "metadata": {},
   "outputs": [],
   "source": [
    "import pandas as pd\n",
    "import yfinance as yf\n",
    "import matplotlib.pyplot as plt"
   ]
  },
  {
   "cell_type": "code",
   "execution_count": 2,
   "metadata": {},
   "outputs": [],
   "source": [
    "ticker = [\"AAPL\", \"BA\", \"KO\", \"IBM\", \"DIS\", \"MSFT\" ]"
   ]
  },
  {
   "cell_type": "code",
   "execution_count": 6,
   "metadata": {},
   "outputs": [
    {
     "name": "stdout",
     "output_type": "stream",
     "text": [
      "[*********************100%***********************]  1 of 1 completed\n"
     ]
    },
    {
     "data": {
      "text/html": [
       "<div>\n",
       "<style scoped>\n",
       "    .dataframe tbody tr th:only-of-type {\n",
       "        vertical-align: middle;\n",
       "    }\n",
       "\n",
       "    .dataframe tbody tr th {\n",
       "        vertical-align: top;\n",
       "    }\n",
       "\n",
       "    .dataframe thead th {\n",
       "        text-align: right;\n",
       "    }\n",
       "</style>\n",
       "<table border=\"1\" class=\"dataframe\">\n",
       "  <thead>\n",
       "    <tr style=\"text-align: right;\">\n",
       "      <th></th>\n",
       "      <th>Open</th>\n",
       "      <th>High</th>\n",
       "      <th>Low</th>\n",
       "      <th>Close</th>\n",
       "      <th>Adj Close</th>\n",
       "      <th>Volume</th>\n",
       "    </tr>\n",
       "    <tr>\n",
       "      <th>Date</th>\n",
       "      <th></th>\n",
       "      <th></th>\n",
       "      <th></th>\n",
       "      <th></th>\n",
       "      <th></th>\n",
       "      <th></th>\n",
       "    </tr>\n",
       "  </thead>\n",
       "  <tbody>\n",
       "    <tr>\n",
       "      <th>2010-01-04 00:00:00-05:00</th>\n",
       "      <td>7.622500</td>\n",
       "      <td>7.660714</td>\n",
       "      <td>7.585000</td>\n",
       "      <td>7.643214</td>\n",
       "      <td>6.515211</td>\n",
       "      <td>493729600</td>\n",
       "    </tr>\n",
       "    <tr>\n",
       "      <th>2010-01-05 00:00:00-05:00</th>\n",
       "      <td>7.664286</td>\n",
       "      <td>7.699643</td>\n",
       "      <td>7.616071</td>\n",
       "      <td>7.656429</td>\n",
       "      <td>6.526475</td>\n",
       "      <td>601904800</td>\n",
       "    </tr>\n",
       "    <tr>\n",
       "      <th>2010-01-06 00:00:00-05:00</th>\n",
       "      <td>7.656429</td>\n",
       "      <td>7.686786</td>\n",
       "      <td>7.526786</td>\n",
       "      <td>7.534643</td>\n",
       "      <td>6.422664</td>\n",
       "      <td>552160000</td>\n",
       "    </tr>\n",
       "    <tr>\n",
       "      <th>2010-01-07 00:00:00-05:00</th>\n",
       "      <td>7.562500</td>\n",
       "      <td>7.571429</td>\n",
       "      <td>7.466071</td>\n",
       "      <td>7.520714</td>\n",
       "      <td>6.410792</td>\n",
       "      <td>477131200</td>\n",
       "    </tr>\n",
       "    <tr>\n",
       "      <th>2010-01-08 00:00:00-05:00</th>\n",
       "      <td>7.510714</td>\n",
       "      <td>7.571429</td>\n",
       "      <td>7.466429</td>\n",
       "      <td>7.570714</td>\n",
       "      <td>6.453412</td>\n",
       "      <td>447610800</td>\n",
       "    </tr>\n",
       "    <tr>\n",
       "      <th>...</th>\n",
       "      <td>...</td>\n",
       "      <td>...</td>\n",
       "      <td>...</td>\n",
       "      <td>...</td>\n",
       "      <td>...</td>\n",
       "      <td>...</td>\n",
       "    </tr>\n",
       "    <tr>\n",
       "      <th>2019-01-30 00:00:00-05:00</th>\n",
       "      <td>40.812500</td>\n",
       "      <td>41.537498</td>\n",
       "      <td>40.057499</td>\n",
       "      <td>41.312500</td>\n",
       "      <td>39.873817</td>\n",
       "      <td>244439200</td>\n",
       "    </tr>\n",
       "    <tr>\n",
       "      <th>2019-01-31 00:00:00-05:00</th>\n",
       "      <td>41.527500</td>\n",
       "      <td>42.250000</td>\n",
       "      <td>41.139999</td>\n",
       "      <td>41.610001</td>\n",
       "      <td>40.160965</td>\n",
       "      <td>162958400</td>\n",
       "    </tr>\n",
       "    <tr>\n",
       "      <th>2019-02-01 00:00:00-05:00</th>\n",
       "      <td>41.740002</td>\n",
       "      <td>42.244999</td>\n",
       "      <td>41.482498</td>\n",
       "      <td>41.630001</td>\n",
       "      <td>40.180271</td>\n",
       "      <td>130672400</td>\n",
       "    </tr>\n",
       "    <tr>\n",
       "      <th>2019-02-04 00:00:00-05:00</th>\n",
       "      <td>41.852501</td>\n",
       "      <td>42.915001</td>\n",
       "      <td>41.820000</td>\n",
       "      <td>42.812500</td>\n",
       "      <td>41.321583</td>\n",
       "      <td>125982000</td>\n",
       "    </tr>\n",
       "    <tr>\n",
       "      <th>2019-02-05 00:00:00-05:00</th>\n",
       "      <td>43.215000</td>\n",
       "      <td>43.770000</td>\n",
       "      <td>43.087502</td>\n",
       "      <td>43.544998</td>\n",
       "      <td>42.028580</td>\n",
       "      <td>144406400</td>\n",
       "    </tr>\n",
       "  </tbody>\n",
       "</table>\n",
       "<p>2288 rows × 6 columns</p>\n",
       "</div>"
      ],
      "text/plain": [
       "                                Open       High        Low      Close  \\\n",
       "Date                                                                    \n",
       "2010-01-04 00:00:00-05:00   7.622500   7.660714   7.585000   7.643214   \n",
       "2010-01-05 00:00:00-05:00   7.664286   7.699643   7.616071   7.656429   \n",
       "2010-01-06 00:00:00-05:00   7.656429   7.686786   7.526786   7.534643   \n",
       "2010-01-07 00:00:00-05:00   7.562500   7.571429   7.466071   7.520714   \n",
       "2010-01-08 00:00:00-05:00   7.510714   7.571429   7.466429   7.570714   \n",
       "...                              ...        ...        ...        ...   \n",
       "2019-01-30 00:00:00-05:00  40.812500  41.537498  40.057499  41.312500   \n",
       "2019-01-31 00:00:00-05:00  41.527500  42.250000  41.139999  41.610001   \n",
       "2019-02-01 00:00:00-05:00  41.740002  42.244999  41.482498  41.630001   \n",
       "2019-02-04 00:00:00-05:00  41.852501  42.915001  41.820000  42.812500   \n",
       "2019-02-05 00:00:00-05:00  43.215000  43.770000  43.087502  43.544998   \n",
       "\n",
       "                           Adj Close     Volume  \n",
       "Date                                             \n",
       "2010-01-04 00:00:00-05:00   6.515211  493729600  \n",
       "2010-01-05 00:00:00-05:00   6.526475  601904800  \n",
       "2010-01-06 00:00:00-05:00   6.422664  552160000  \n",
       "2010-01-07 00:00:00-05:00   6.410792  477131200  \n",
       "2010-01-08 00:00:00-05:00   6.453412  447610800  \n",
       "...                              ...        ...  \n",
       "2019-01-30 00:00:00-05:00  39.873817  244439200  \n",
       "2019-01-31 00:00:00-05:00  40.160965  162958400  \n",
       "2019-02-01 00:00:00-05:00  40.180271  130672400  \n",
       "2019-02-04 00:00:00-05:00  41.321583  125982000  \n",
       "2019-02-05 00:00:00-05:00  42.028580  144406400  \n",
       "\n",
       "[2288 rows x 6 columns]"
      ]
     },
     "execution_count": 6,
     "metadata": {},
     "output_type": "execute_result"
    }
   ],
   "source": [
    "# Open, High, Low, Close \n",
    "# Adj Close(조정 종가): 배당금과 주식 분할을 감안하고 계산하여 전체 성과나 전체 수익을 계산할 때 더 적절한 가\n",
    "# Value : 하루 동안 거래된 주식의 양을 주 단위로 표시한 것\n",
    "yf.download(\"AAPL\", start=\"2010-01-01\", end=\"2019-02-06\")"
   ]
  },
  {
   "cell_type": "code",
   "execution_count": 8,
   "metadata": {
    "scrolled": true
   },
   "outputs": [
    {
     "name": "stdout",
     "output_type": "stream",
     "text": [
      "[*********************100%***********************]  6 of 6 completed\n"
     ]
    }
   ],
   "source": [
    "# ticker를 리스트로 전달하여 stocks 변수에 저장\n",
    "stocks = yf.download(ticker, start = \"2010-01-01\", end = \"2019-02-06\")"
   ]
  },
  {
   "cell_type": "code",
   "execution_count": 9,
   "metadata": {},
   "outputs": [
    {
     "data": {
      "text/html": [
       "<div>\n",
       "<style scoped>\n",
       "    .dataframe tbody tr th:only-of-type {\n",
       "        vertical-align: middle;\n",
       "    }\n",
       "\n",
       "    .dataframe tbody tr th {\n",
       "        vertical-align: top;\n",
       "    }\n",
       "\n",
       "    .dataframe thead tr th {\n",
       "        text-align: left;\n",
       "    }\n",
       "\n",
       "    .dataframe thead tr:last-of-type th {\n",
       "        text-align: right;\n",
       "    }\n",
       "</style>\n",
       "<table border=\"1\" class=\"dataframe\">\n",
       "  <thead>\n",
       "    <tr>\n",
       "      <th></th>\n",
       "      <th colspan=\"6\" halign=\"left\">Adj Close</th>\n",
       "      <th colspan=\"4\" halign=\"left\">Close</th>\n",
       "      <th>...</th>\n",
       "      <th colspan=\"4\" halign=\"left\">Open</th>\n",
       "      <th colspan=\"6\" halign=\"left\">Volume</th>\n",
       "    </tr>\n",
       "    <tr>\n",
       "      <th></th>\n",
       "      <th>AAPL</th>\n",
       "      <th>BA</th>\n",
       "      <th>DIS</th>\n",
       "      <th>IBM</th>\n",
       "      <th>KO</th>\n",
       "      <th>MSFT</th>\n",
       "      <th>AAPL</th>\n",
       "      <th>BA</th>\n",
       "      <th>DIS</th>\n",
       "      <th>IBM</th>\n",
       "      <th>...</th>\n",
       "      <th>DIS</th>\n",
       "      <th>IBM</th>\n",
       "      <th>KO</th>\n",
       "      <th>MSFT</th>\n",
       "      <th>AAPL</th>\n",
       "      <th>BA</th>\n",
       "      <th>DIS</th>\n",
       "      <th>IBM</th>\n",
       "      <th>KO</th>\n",
       "      <th>MSFT</th>\n",
       "    </tr>\n",
       "    <tr>\n",
       "      <th>Date</th>\n",
       "      <th></th>\n",
       "      <th></th>\n",
       "      <th></th>\n",
       "      <th></th>\n",
       "      <th></th>\n",
       "      <th></th>\n",
       "      <th></th>\n",
       "      <th></th>\n",
       "      <th></th>\n",
       "      <th></th>\n",
       "      <th></th>\n",
       "      <th></th>\n",
       "      <th></th>\n",
       "      <th></th>\n",
       "      <th></th>\n",
       "      <th></th>\n",
       "      <th></th>\n",
       "      <th></th>\n",
       "      <th></th>\n",
       "      <th></th>\n",
       "      <th></th>\n",
       "    </tr>\n",
       "  </thead>\n",
       "  <tbody>\n",
       "    <tr>\n",
       "      <th>2010-01-04 00:00:00-05:00</th>\n",
       "      <td>6.515213</td>\n",
       "      <td>43.777554</td>\n",
       "      <td>27.933922</td>\n",
       "      <td>80.328056</td>\n",
       "      <td>19.081619</td>\n",
       "      <td>23.683073</td>\n",
       "      <td>7.643214</td>\n",
       "      <td>56.180000</td>\n",
       "      <td>32.070000</td>\n",
       "      <td>126.625237</td>\n",
       "      <td>...</td>\n",
       "      <td>32.50</td>\n",
       "      <td>125.411087</td>\n",
       "      <td>28.580000</td>\n",
       "      <td>30.620001</td>\n",
       "      <td>493729600</td>\n",
       "      <td>6186700</td>\n",
       "      <td>13700400</td>\n",
       "      <td>6438444</td>\n",
       "      <td>13870400</td>\n",
       "      <td>38409100</td>\n",
       "    </tr>\n",
       "    <tr>\n",
       "      <th>2010-01-05 00:00:00-05:00</th>\n",
       "      <td>6.526478</td>\n",
       "      <td>45.211334</td>\n",
       "      <td>27.864239</td>\n",
       "      <td>79.357681</td>\n",
       "      <td>18.850790</td>\n",
       "      <td>23.690718</td>\n",
       "      <td>7.656429</td>\n",
       "      <td>58.020000</td>\n",
       "      <td>31.990000</td>\n",
       "      <td>125.095604</td>\n",
       "      <td>...</td>\n",
       "      <td>32.07</td>\n",
       "      <td>125.889099</td>\n",
       "      <td>28.424999</td>\n",
       "      <td>30.850000</td>\n",
       "      <td>601904800</td>\n",
       "      <td>8867800</td>\n",
       "      <td>10307700</td>\n",
       "      <td>7156104</td>\n",
       "      <td>23172400</td>\n",
       "      <td>49749600</td>\n",
       "    </tr>\n",
       "    <tr>\n",
       "      <th>2010-01-06 00:00:00-05:00</th>\n",
       "      <td>6.422666</td>\n",
       "      <td>46.582794</td>\n",
       "      <td>27.716164</td>\n",
       "      <td>78.842155</td>\n",
       "      <td>18.844099</td>\n",
       "      <td>23.545334</td>\n",
       "      <td>7.534643</td>\n",
       "      <td>59.779999</td>\n",
       "      <td>31.820000</td>\n",
       "      <td>124.282982</td>\n",
       "      <td>...</td>\n",
       "      <td>31.90</td>\n",
       "      <td>124.933075</td>\n",
       "      <td>28.174999</td>\n",
       "      <td>30.879999</td>\n",
       "      <td>552160000</td>\n",
       "      <td>8836500</td>\n",
       "      <td>10709500</td>\n",
       "      <td>5863144</td>\n",
       "      <td>19264600</td>\n",
       "      <td>58182400</td>\n",
       "    </tr>\n",
       "    <tr>\n",
       "      <th>2010-01-07 00:00:00-05:00</th>\n",
       "      <td>6.410791</td>\n",
       "      <td>48.468559</td>\n",
       "      <td>27.724874</td>\n",
       "      <td>78.569260</td>\n",
       "      <td>18.797268</td>\n",
       "      <td>23.300467</td>\n",
       "      <td>7.520714</td>\n",
       "      <td>62.200001</td>\n",
       "      <td>31.830000</td>\n",
       "      <td>123.852776</td>\n",
       "      <td>...</td>\n",
       "      <td>31.77</td>\n",
       "      <td>124.158699</td>\n",
       "      <td>28.165001</td>\n",
       "      <td>30.629999</td>\n",
       "      <td>477131200</td>\n",
       "      <td>14379100</td>\n",
       "      <td>8202100</td>\n",
       "      <td>6109268</td>\n",
       "      <td>13234600</td>\n",
       "      <td>50559700</td>\n",
       "    </tr>\n",
       "    <tr>\n",
       "      <th>2010-01-08 00:00:00-05:00</th>\n",
       "      <td>6.453413</td>\n",
       "      <td>48.001007</td>\n",
       "      <td>27.768427</td>\n",
       "      <td>79.357681</td>\n",
       "      <td>18.449358</td>\n",
       "      <td>23.461159</td>\n",
       "      <td>7.570714</td>\n",
       "      <td>61.599998</td>\n",
       "      <td>31.879999</td>\n",
       "      <td>125.095604</td>\n",
       "      <td>...</td>\n",
       "      <td>31.66</td>\n",
       "      <td>123.393883</td>\n",
       "      <td>27.730000</td>\n",
       "      <td>30.280001</td>\n",
       "      <td>447610800</td>\n",
       "      <td>7146600</td>\n",
       "      <td>7657500</td>\n",
       "      <td>4390271</td>\n",
       "      <td>28712400</td>\n",
       "      <td>51197400</td>\n",
       "    </tr>\n",
       "  </tbody>\n",
       "</table>\n",
       "<p>5 rows × 36 columns</p>\n",
       "</div>"
      ],
      "text/plain": [
       "                          Adj Close                                   \\\n",
       "                               AAPL         BA        DIS        IBM   \n",
       "Date                                                                   \n",
       "2010-01-04 00:00:00-05:00  6.515213  43.777554  27.933922  80.328056   \n",
       "2010-01-05 00:00:00-05:00  6.526478  45.211334  27.864239  79.357681   \n",
       "2010-01-06 00:00:00-05:00  6.422666  46.582794  27.716164  78.842155   \n",
       "2010-01-07 00:00:00-05:00  6.410791  48.468559  27.724874  78.569260   \n",
       "2010-01-08 00:00:00-05:00  6.453413  48.001007  27.768427  79.357681   \n",
       "\n",
       "                                                    Close             \\\n",
       "                                  KO       MSFT      AAPL         BA   \n",
       "Date                                                                   \n",
       "2010-01-04 00:00:00-05:00  19.081619  23.683073  7.643214  56.180000   \n",
       "2010-01-05 00:00:00-05:00  18.850790  23.690718  7.656429  58.020000   \n",
       "2010-01-06 00:00:00-05:00  18.844099  23.545334  7.534643  59.779999   \n",
       "2010-01-07 00:00:00-05:00  18.797268  23.300467  7.520714  62.200001   \n",
       "2010-01-08 00:00:00-05:00  18.449358  23.461159  7.570714  61.599998   \n",
       "\n",
       "                                                  ...   Open              \\\n",
       "                                 DIS         IBM  ...    DIS         IBM   \n",
       "Date                                              ...                      \n",
       "2010-01-04 00:00:00-05:00  32.070000  126.625237  ...  32.50  125.411087   \n",
       "2010-01-05 00:00:00-05:00  31.990000  125.095604  ...  32.07  125.889099   \n",
       "2010-01-06 00:00:00-05:00  31.820000  124.282982  ...  31.90  124.933075   \n",
       "2010-01-07 00:00:00-05:00  31.830000  123.852776  ...  31.77  124.158699   \n",
       "2010-01-08 00:00:00-05:00  31.879999  125.095604  ...  31.66  123.393883   \n",
       "\n",
       "                                                    Volume            \\\n",
       "                                  KO       MSFT       AAPL        BA   \n",
       "Date                                                                   \n",
       "2010-01-04 00:00:00-05:00  28.580000  30.620001  493729600   6186700   \n",
       "2010-01-05 00:00:00-05:00  28.424999  30.850000  601904800   8867800   \n",
       "2010-01-06 00:00:00-05:00  28.174999  30.879999  552160000   8836500   \n",
       "2010-01-07 00:00:00-05:00  28.165001  30.629999  477131200  14379100   \n",
       "2010-01-08 00:00:00-05:00  27.730000  30.280001  447610800   7146600   \n",
       "\n",
       "                                                                  \n",
       "                                DIS      IBM        KO      MSFT  \n",
       "Date                                                              \n",
       "2010-01-04 00:00:00-05:00  13700400  6438444  13870400  38409100  \n",
       "2010-01-05 00:00:00-05:00  10307700  7156104  23172400  49749600  \n",
       "2010-01-06 00:00:00-05:00  10709500  5863144  19264600  58182400  \n",
       "2010-01-07 00:00:00-05:00   8202100  6109268  13234600  50559700  \n",
       "2010-01-08 00:00:00-05:00   7657500  4390271  28712400  51197400  \n",
       "\n",
       "[5 rows x 36 columns]"
      ]
     },
     "execution_count": 9,
     "metadata": {},
     "output_type": "execute_result"
    }
   ],
   "source": [
    "# 바깥 인덱스에는 Adj Close, Close, Open\n",
    "# 안쪽 인텍스에는 Stock Ticker\n",
    "stocks.head()"
   ]
  },
  {
   "cell_type": "code",
   "execution_count": 12,
   "metadata": {},
   "outputs": [],
   "source": [
    "# stocks.tail()"
   ]
  },
  {
   "cell_type": "code",
   "execution_count": 13,
   "metadata": {
    "scrolled": true
   },
   "outputs": [],
   "source": [
    "# stocks.info()"
   ]
  },
  {
   "cell_type": "code",
   "execution_count": 14,
   "metadata": {},
   "outputs": [],
   "source": [
    "# csv로 저장하기\n",
    "stocks.to_csv(\"stocks.csv\")"
   ]
  },
  {
   "cell_type": "code",
   "execution_count": 20,
   "metadata": {},
   "outputs": [
    {
     "data": {
      "text/html": [
       "<div>\n",
       "<style scoped>\n",
       "    .dataframe tbody tr th:only-of-type {\n",
       "        vertical-align: middle;\n",
       "    }\n",
       "\n",
       "    .dataframe tbody tr th {\n",
       "        vertical-align: top;\n",
       "    }\n",
       "\n",
       "    .dataframe thead tr th {\n",
       "        text-align: left;\n",
       "    }\n",
       "</style>\n",
       "<table border=\"1\" class=\"dataframe\">\n",
       "  <thead>\n",
       "    <tr>\n",
       "      <th></th>\n",
       "      <th>Unnamed: 0_level_0</th>\n",
       "      <th colspan=\"6\" halign=\"left\">Adj Close</th>\n",
       "      <th colspan=\"3\" halign=\"left\">Close</th>\n",
       "      <th>...</th>\n",
       "      <th colspan=\"4\" halign=\"left\">Open</th>\n",
       "      <th colspan=\"6\" halign=\"left\">Volume</th>\n",
       "    </tr>\n",
       "    <tr>\n",
       "      <th></th>\n",
       "      <th>Unnamed: 0_level_1</th>\n",
       "      <th>AAPL</th>\n",
       "      <th>BA</th>\n",
       "      <th>DIS</th>\n",
       "      <th>IBM</th>\n",
       "      <th>KO</th>\n",
       "      <th>MSFT</th>\n",
       "      <th>AAPL</th>\n",
       "      <th>BA</th>\n",
       "      <th>DIS</th>\n",
       "      <th>...</th>\n",
       "      <th>DIS</th>\n",
       "      <th>IBM</th>\n",
       "      <th>KO</th>\n",
       "      <th>MSFT</th>\n",
       "      <th>AAPL</th>\n",
       "      <th>BA</th>\n",
       "      <th>DIS</th>\n",
       "      <th>IBM</th>\n",
       "      <th>KO</th>\n",
       "      <th>MSFT</th>\n",
       "    </tr>\n",
       "  </thead>\n",
       "  <tbody>\n",
       "    <tr>\n",
       "      <th>0</th>\n",
       "      <td>Date</td>\n",
       "      <td>NaN</td>\n",
       "      <td>NaN</td>\n",
       "      <td>NaN</td>\n",
       "      <td>NaN</td>\n",
       "      <td>NaN</td>\n",
       "      <td>NaN</td>\n",
       "      <td>NaN</td>\n",
       "      <td>NaN</td>\n",
       "      <td>NaN</td>\n",
       "      <td>...</td>\n",
       "      <td>NaN</td>\n",
       "      <td>NaN</td>\n",
       "      <td>NaN</td>\n",
       "      <td>NaN</td>\n",
       "      <td>NaN</td>\n",
       "      <td>NaN</td>\n",
       "      <td>NaN</td>\n",
       "      <td>NaN</td>\n",
       "      <td>NaN</td>\n",
       "      <td>NaN</td>\n",
       "    </tr>\n",
       "  </tbody>\n",
       "</table>\n",
       "<p>1 rows × 37 columns</p>\n",
       "</div>"
      ],
      "text/plain": [
       "  Unnamed: 0_level_0 Adj Close                      Close          ... Open  \\\n",
       "  Unnamed: 0_level_1      AAPL  BA DIS IBM  KO MSFT  AAPL  BA DIS  ...  DIS   \n",
       "0               Date       NaN NaN NaN NaN NaN  NaN   NaN NaN NaN  ...  NaN   \n",
       "\n",
       "               Volume                       \n",
       "  IBM  KO MSFT   AAPL  BA DIS IBM  KO MSFT  \n",
       "0 NaN NaN  NaN    NaN NaN NaN NaN NaN  NaN  \n",
       "\n",
       "[1 rows x 37 columns]"
      ]
     },
     "execution_count": 20,
     "metadata": {},
     "output_type": "execute_result"
    }
   ],
   "source": [
    "# 다중 인덱스가 있는 데이터를 임포트하는 것은 까다롭다. \n",
    "# header 파라미터 : 다중 인텍스를 만드는 행들의 인덱스 위치를 정의하기\n",
    "pd.read_csv(\"stocks.csv\", header = [0, 1]).head(1)"
   ]
  },
  {
   "cell_type": "code",
   "execution_count": 19,
   "metadata": {},
   "outputs": [
    {
     "data": {
      "text/html": [
       "<div>\n",
       "<style scoped>\n",
       "    .dataframe tbody tr th:only-of-type {\n",
       "        vertical-align: middle;\n",
       "    }\n",
       "\n",
       "    .dataframe tbody tr th {\n",
       "        vertical-align: top;\n",
       "    }\n",
       "\n",
       "    .dataframe thead tr th {\n",
       "        text-align: left;\n",
       "    }\n",
       "\n",
       "    .dataframe thead tr:last-of-type th {\n",
       "        text-align: right;\n",
       "    }\n",
       "</style>\n",
       "<table border=\"1\" class=\"dataframe\">\n",
       "  <thead>\n",
       "    <tr>\n",
       "      <th></th>\n",
       "      <th colspan=\"6\" halign=\"left\">Adj Close</th>\n",
       "      <th colspan=\"4\" halign=\"left\">Close</th>\n",
       "      <th>...</th>\n",
       "      <th colspan=\"4\" halign=\"left\">Open</th>\n",
       "      <th colspan=\"6\" halign=\"left\">Volume</th>\n",
       "    </tr>\n",
       "    <tr>\n",
       "      <th></th>\n",
       "      <th>AAPL</th>\n",
       "      <th>BA</th>\n",
       "      <th>DIS</th>\n",
       "      <th>IBM</th>\n",
       "      <th>KO</th>\n",
       "      <th>MSFT</th>\n",
       "      <th>AAPL</th>\n",
       "      <th>BA</th>\n",
       "      <th>DIS</th>\n",
       "      <th>IBM</th>\n",
       "      <th>...</th>\n",
       "      <th>DIS</th>\n",
       "      <th>IBM</th>\n",
       "      <th>KO</th>\n",
       "      <th>MSFT</th>\n",
       "      <th>AAPL</th>\n",
       "      <th>BA</th>\n",
       "      <th>DIS</th>\n",
       "      <th>IBM</th>\n",
       "      <th>KO</th>\n",
       "      <th>MSFT</th>\n",
       "    </tr>\n",
       "    <tr>\n",
       "      <th>Date</th>\n",
       "      <th></th>\n",
       "      <th></th>\n",
       "      <th></th>\n",
       "      <th></th>\n",
       "      <th></th>\n",
       "      <th></th>\n",
       "      <th></th>\n",
       "      <th></th>\n",
       "      <th></th>\n",
       "      <th></th>\n",
       "      <th></th>\n",
       "      <th></th>\n",
       "      <th></th>\n",
       "      <th></th>\n",
       "      <th></th>\n",
       "      <th></th>\n",
       "      <th></th>\n",
       "      <th></th>\n",
       "      <th></th>\n",
       "      <th></th>\n",
       "      <th></th>\n",
       "    </tr>\n",
       "  </thead>\n",
       "  <tbody>\n",
       "    <tr>\n",
       "      <th>2010-01-04 00:00:00-05:00</th>\n",
       "      <td>6.515213</td>\n",
       "      <td>43.777554</td>\n",
       "      <td>27.933922</td>\n",
       "      <td>80.328056</td>\n",
       "      <td>19.081619</td>\n",
       "      <td>23.683073</td>\n",
       "      <td>7.643214</td>\n",
       "      <td>56.18</td>\n",
       "      <td>32.07</td>\n",
       "      <td>126.625237</td>\n",
       "      <td>...</td>\n",
       "      <td>32.5</td>\n",
       "      <td>125.411087</td>\n",
       "      <td>28.58</td>\n",
       "      <td>30.620001</td>\n",
       "      <td>493729600</td>\n",
       "      <td>6186700</td>\n",
       "      <td>13700400</td>\n",
       "      <td>6438444</td>\n",
       "      <td>13870400</td>\n",
       "      <td>38409100</td>\n",
       "    </tr>\n",
       "  </tbody>\n",
       "</table>\n",
       "<p>1 rows × 36 columns</p>\n",
       "</div>"
      ],
      "text/plain": [
       "                          Adj Close                                   \\\n",
       "                               AAPL         BA        DIS        IBM   \n",
       "Date                                                                   \n",
       "2010-01-04 00:00:00-05:00  6.515213  43.777554  27.933922  80.328056   \n",
       "\n",
       "                                                    Close                \\\n",
       "                                  KO       MSFT      AAPL     BA    DIS   \n",
       "Date                                                                      \n",
       "2010-01-04 00:00:00-05:00  19.081619  23.683073  7.643214  56.18  32.07   \n",
       "\n",
       "                                       ...  Open                     \\\n",
       "                                  IBM  ...   DIS         IBM     KO   \n",
       "Date                                   ...                            \n",
       "2010-01-04 00:00:00-05:00  126.625237  ...  32.5  125.411087  28.58   \n",
       "\n",
       "                                         Volume                              \\\n",
       "                                MSFT       AAPL       BA       DIS      IBM   \n",
       "Date                                                                          \n",
       "2010-01-04 00:00:00-05:00  30.620001  493729600  6186700  13700400  6438444   \n",
       "\n",
       "                                               \n",
       "                                 KO      MSFT  \n",
       "Date                                           \n",
       "2010-01-04 00:00:00-05:00  13870400  38409100  \n",
       "\n",
       "[1 rows x 36 columns]"
      ]
     },
     "execution_count": 19,
     "metadata": {},
     "output_type": "execute_result"
    }
   ],
   "source": [
    "# Date 열을 데이터프레임의 인덱스로 정의하\n",
    "pd.read_csv(\"stocks.csv\", header = [0, 1], index_col= [0]).head(1)"
   ]
  },
  {
   "cell_type": "code",
   "execution_count": 21,
   "metadata": {},
   "outputs": [
    {
     "data": {
      "text/html": [
       "<div>\n",
       "<style scoped>\n",
       "    .dataframe tbody tr th:only-of-type {\n",
       "        vertical-align: middle;\n",
       "    }\n",
       "\n",
       "    .dataframe tbody tr th {\n",
       "        vertical-align: top;\n",
       "    }\n",
       "\n",
       "    .dataframe thead tr th {\n",
       "        text-align: left;\n",
       "    }\n",
       "\n",
       "    .dataframe thead tr:last-of-type th {\n",
       "        text-align: right;\n",
       "    }\n",
       "</style>\n",
       "<table border=\"1\" class=\"dataframe\">\n",
       "  <thead>\n",
       "    <tr>\n",
       "      <th></th>\n",
       "      <th colspan=\"6\" halign=\"left\">Adj Close</th>\n",
       "      <th colspan=\"4\" halign=\"left\">Close</th>\n",
       "      <th>...</th>\n",
       "      <th colspan=\"4\" halign=\"left\">Open</th>\n",
       "      <th colspan=\"6\" halign=\"left\">Volume</th>\n",
       "    </tr>\n",
       "    <tr>\n",
       "      <th></th>\n",
       "      <th>AAPL</th>\n",
       "      <th>BA</th>\n",
       "      <th>DIS</th>\n",
       "      <th>IBM</th>\n",
       "      <th>KO</th>\n",
       "      <th>MSFT</th>\n",
       "      <th>AAPL</th>\n",
       "      <th>BA</th>\n",
       "      <th>DIS</th>\n",
       "      <th>IBM</th>\n",
       "      <th>...</th>\n",
       "      <th>DIS</th>\n",
       "      <th>IBM</th>\n",
       "      <th>KO</th>\n",
       "      <th>MSFT</th>\n",
       "      <th>AAPL</th>\n",
       "      <th>BA</th>\n",
       "      <th>DIS</th>\n",
       "      <th>IBM</th>\n",
       "      <th>KO</th>\n",
       "      <th>MSFT</th>\n",
       "    </tr>\n",
       "    <tr>\n",
       "      <th>Date</th>\n",
       "      <th></th>\n",
       "      <th></th>\n",
       "      <th></th>\n",
       "      <th></th>\n",
       "      <th></th>\n",
       "      <th></th>\n",
       "      <th></th>\n",
       "      <th></th>\n",
       "      <th></th>\n",
       "      <th></th>\n",
       "      <th></th>\n",
       "      <th></th>\n",
       "      <th></th>\n",
       "      <th></th>\n",
       "      <th></th>\n",
       "      <th></th>\n",
       "      <th></th>\n",
       "      <th></th>\n",
       "      <th></th>\n",
       "      <th></th>\n",
       "      <th></th>\n",
       "    </tr>\n",
       "  </thead>\n",
       "  <tbody>\n",
       "    <tr>\n",
       "      <th>2010-01-04 00:00:00-05:00</th>\n",
       "      <td>6.515213</td>\n",
       "      <td>43.777554</td>\n",
       "      <td>27.933922</td>\n",
       "      <td>80.328056</td>\n",
       "      <td>19.081619</td>\n",
       "      <td>23.683073</td>\n",
       "      <td>7.643214</td>\n",
       "      <td>56.18</td>\n",
       "      <td>32.07</td>\n",
       "      <td>126.625237</td>\n",
       "      <td>...</td>\n",
       "      <td>32.5</td>\n",
       "      <td>125.411087</td>\n",
       "      <td>28.58</td>\n",
       "      <td>30.620001</td>\n",
       "      <td>493729600</td>\n",
       "      <td>6186700</td>\n",
       "      <td>13700400</td>\n",
       "      <td>6438444</td>\n",
       "      <td>13870400</td>\n",
       "      <td>38409100</td>\n",
       "    </tr>\n",
       "  </tbody>\n",
       "</table>\n",
       "<p>1 rows × 36 columns</p>\n",
       "</div>"
      ],
      "text/plain": [
       "                          Adj Close                                   \\\n",
       "                               AAPL         BA        DIS        IBM   \n",
       "Date                                                                   \n",
       "2010-01-04 00:00:00-05:00  6.515213  43.777554  27.933922  80.328056   \n",
       "\n",
       "                                                    Close                \\\n",
       "                                  KO       MSFT      AAPL     BA    DIS   \n",
       "Date                                                                      \n",
       "2010-01-04 00:00:00-05:00  19.081619  23.683073  7.643214  56.18  32.07   \n",
       "\n",
       "                                       ...  Open                     \\\n",
       "                                  IBM  ...   DIS         IBM     KO   \n",
       "Date                                   ...                            \n",
       "2010-01-04 00:00:00-05:00  126.625237  ...  32.5  125.411087  28.58   \n",
       "\n",
       "                                         Volume                              \\\n",
       "                                MSFT       AAPL       BA       DIS      IBM   \n",
       "Date                                                                          \n",
       "2010-01-04 00:00:00-05:00  30.620001  493729600  6186700  13700400  6438444   \n",
       "\n",
       "                                               \n",
       "                                 KO      MSFT  \n",
       "Date                                           \n",
       "2010-01-04 00:00:00-05:00  13870400  38409100  \n",
       "\n",
       "[1 rows x 36 columns]"
      ]
     },
     "execution_count": 21,
     "metadata": {},
     "output_type": "execute_result"
    }
   ],
   "source": [
    "# Datetime 인덱스를 만들고 싶으면 Date 열을 parse_dates 파라미터에 넣어주기\n",
    "pd.read_csv(\"stocks.csv\", header = [0, 1], index_col= [0], parse_dates=[0]).head(1)"
   ]
  },
  {
   "cell_type": "code",
   "execution_count": 26,
   "metadata": {},
   "outputs": [],
   "source": [
    "stocks = pd.read_csv(\"stocks.csv\", header = [0, 1], index_col = [0], parse_dates = [0])"
   ]
  },
  {
   "cell_type": "code",
   "execution_count": 29,
   "metadata": {},
   "outputs": [
    {
     "data": {
      "text/html": [
       "<div>\n",
       "<style scoped>\n",
       "    .dataframe tbody tr th:only-of-type {\n",
       "        vertical-align: middle;\n",
       "    }\n",
       "\n",
       "    .dataframe tbody tr th {\n",
       "        vertical-align: top;\n",
       "    }\n",
       "\n",
       "    .dataframe thead th {\n",
       "        text-align: right;\n",
       "    }\n",
       "</style>\n",
       "<table border=\"1\" class=\"dataframe\">\n",
       "  <thead>\n",
       "    <tr style=\"text-align: right;\">\n",
       "      <th></th>\n",
       "      <th>(Adj Close, AAPL)</th>\n",
       "      <th>(Adj Close, BA)</th>\n",
       "      <th>(Adj Close, DIS)</th>\n",
       "      <th>(Adj Close, IBM)</th>\n",
       "      <th>(Adj Close, KO)</th>\n",
       "      <th>(Adj Close, MSFT)</th>\n",
       "      <th>(Close, AAPL)</th>\n",
       "      <th>(Close, BA)</th>\n",
       "      <th>(Close, DIS)</th>\n",
       "      <th>(Close, IBM)</th>\n",
       "      <th>...</th>\n",
       "      <th>(Open, DIS)</th>\n",
       "      <th>(Open, IBM)</th>\n",
       "      <th>(Open, KO)</th>\n",
       "      <th>(Open, MSFT)</th>\n",
       "      <th>(Volume, AAPL)</th>\n",
       "      <th>(Volume, BA)</th>\n",
       "      <th>(Volume, DIS)</th>\n",
       "      <th>(Volume, IBM)</th>\n",
       "      <th>(Volume, KO)</th>\n",
       "      <th>(Volume, MSFT)</th>\n",
       "    </tr>\n",
       "    <tr>\n",
       "      <th>Date</th>\n",
       "      <th></th>\n",
       "      <th></th>\n",
       "      <th></th>\n",
       "      <th></th>\n",
       "      <th></th>\n",
       "      <th></th>\n",
       "      <th></th>\n",
       "      <th></th>\n",
       "      <th></th>\n",
       "      <th></th>\n",
       "      <th></th>\n",
       "      <th></th>\n",
       "      <th></th>\n",
       "      <th></th>\n",
       "      <th></th>\n",
       "      <th></th>\n",
       "      <th></th>\n",
       "      <th></th>\n",
       "      <th></th>\n",
       "      <th></th>\n",
       "      <th></th>\n",
       "    </tr>\n",
       "  </thead>\n",
       "  <tbody>\n",
       "    <tr>\n",
       "      <th>2010-01-04 00:00:00-05:00</th>\n",
       "      <td>6.515213</td>\n",
       "      <td>43.777554</td>\n",
       "      <td>27.933922</td>\n",
       "      <td>80.328056</td>\n",
       "      <td>19.081619</td>\n",
       "      <td>23.683073</td>\n",
       "      <td>7.643214</td>\n",
       "      <td>56.180000</td>\n",
       "      <td>32.070000</td>\n",
       "      <td>126.625237</td>\n",
       "      <td>...</td>\n",
       "      <td>32.50</td>\n",
       "      <td>125.411087</td>\n",
       "      <td>28.580000</td>\n",
       "      <td>30.620001</td>\n",
       "      <td>493729600</td>\n",
       "      <td>6186700</td>\n",
       "      <td>13700400</td>\n",
       "      <td>6438444</td>\n",
       "      <td>13870400</td>\n",
       "      <td>38409100</td>\n",
       "    </tr>\n",
       "    <tr>\n",
       "      <th>2010-01-05 00:00:00-05:00</th>\n",
       "      <td>6.526478</td>\n",
       "      <td>45.211334</td>\n",
       "      <td>27.864239</td>\n",
       "      <td>79.357681</td>\n",
       "      <td>18.850790</td>\n",
       "      <td>23.690718</td>\n",
       "      <td>7.656429</td>\n",
       "      <td>58.020000</td>\n",
       "      <td>31.990000</td>\n",
       "      <td>125.095604</td>\n",
       "      <td>...</td>\n",
       "      <td>32.07</td>\n",
       "      <td>125.889099</td>\n",
       "      <td>28.424999</td>\n",
       "      <td>30.850000</td>\n",
       "      <td>601904800</td>\n",
       "      <td>8867800</td>\n",
       "      <td>10307700</td>\n",
       "      <td>7156104</td>\n",
       "      <td>23172400</td>\n",
       "      <td>49749600</td>\n",
       "    </tr>\n",
       "    <tr>\n",
       "      <th>2010-01-06 00:00:00-05:00</th>\n",
       "      <td>6.422666</td>\n",
       "      <td>46.582794</td>\n",
       "      <td>27.716164</td>\n",
       "      <td>78.842155</td>\n",
       "      <td>18.844099</td>\n",
       "      <td>23.545334</td>\n",
       "      <td>7.534643</td>\n",
       "      <td>59.779999</td>\n",
       "      <td>31.820000</td>\n",
       "      <td>124.282982</td>\n",
       "      <td>...</td>\n",
       "      <td>31.90</td>\n",
       "      <td>124.933075</td>\n",
       "      <td>28.174999</td>\n",
       "      <td>30.879999</td>\n",
       "      <td>552160000</td>\n",
       "      <td>8836500</td>\n",
       "      <td>10709500</td>\n",
       "      <td>5863144</td>\n",
       "      <td>19264600</td>\n",
       "      <td>58182400</td>\n",
       "    </tr>\n",
       "    <tr>\n",
       "      <th>2010-01-07 00:00:00-05:00</th>\n",
       "      <td>6.410791</td>\n",
       "      <td>48.468559</td>\n",
       "      <td>27.724874</td>\n",
       "      <td>78.569260</td>\n",
       "      <td>18.797268</td>\n",
       "      <td>23.300467</td>\n",
       "      <td>7.520714</td>\n",
       "      <td>62.200001</td>\n",
       "      <td>31.830000</td>\n",
       "      <td>123.852776</td>\n",
       "      <td>...</td>\n",
       "      <td>31.77</td>\n",
       "      <td>124.158699</td>\n",
       "      <td>28.165001</td>\n",
       "      <td>30.629999</td>\n",
       "      <td>477131200</td>\n",
       "      <td>14379100</td>\n",
       "      <td>8202100</td>\n",
       "      <td>6109268</td>\n",
       "      <td>13234600</td>\n",
       "      <td>50559700</td>\n",
       "    </tr>\n",
       "    <tr>\n",
       "      <th>2010-01-08 00:00:00-05:00</th>\n",
       "      <td>6.453413</td>\n",
       "      <td>48.001007</td>\n",
       "      <td>27.768427</td>\n",
       "      <td>79.357681</td>\n",
       "      <td>18.449358</td>\n",
       "      <td>23.461159</td>\n",
       "      <td>7.570714</td>\n",
       "      <td>61.599998</td>\n",
       "      <td>31.879999</td>\n",
       "      <td>125.095604</td>\n",
       "      <td>...</td>\n",
       "      <td>31.66</td>\n",
       "      <td>123.393883</td>\n",
       "      <td>27.730000</td>\n",
       "      <td>30.280001</td>\n",
       "      <td>447610800</td>\n",
       "      <td>7146600</td>\n",
       "      <td>7657500</td>\n",
       "      <td>4390271</td>\n",
       "      <td>28712400</td>\n",
       "      <td>51197400</td>\n",
       "    </tr>\n",
       "  </tbody>\n",
       "</table>\n",
       "<p>5 rows × 36 columns</p>\n",
       "</div>"
      ],
      "text/plain": [
       "                           (Adj Close, AAPL)  (Adj Close, BA)  \\\n",
       "Date                                                            \n",
       "2010-01-04 00:00:00-05:00           6.515213        43.777554   \n",
       "2010-01-05 00:00:00-05:00           6.526478        45.211334   \n",
       "2010-01-06 00:00:00-05:00           6.422666        46.582794   \n",
       "2010-01-07 00:00:00-05:00           6.410791        48.468559   \n",
       "2010-01-08 00:00:00-05:00           6.453413        48.001007   \n",
       "\n",
       "                           (Adj Close, DIS)  (Adj Close, IBM)  \\\n",
       "Date                                                            \n",
       "2010-01-04 00:00:00-05:00         27.933922         80.328056   \n",
       "2010-01-05 00:00:00-05:00         27.864239         79.357681   \n",
       "2010-01-06 00:00:00-05:00         27.716164         78.842155   \n",
       "2010-01-07 00:00:00-05:00         27.724874         78.569260   \n",
       "2010-01-08 00:00:00-05:00         27.768427         79.357681   \n",
       "\n",
       "                           (Adj Close, KO)  (Adj Close, MSFT)  (Close, AAPL)  \\\n",
       "Date                                                                           \n",
       "2010-01-04 00:00:00-05:00        19.081619          23.683073       7.643214   \n",
       "2010-01-05 00:00:00-05:00        18.850790          23.690718       7.656429   \n",
       "2010-01-06 00:00:00-05:00        18.844099          23.545334       7.534643   \n",
       "2010-01-07 00:00:00-05:00        18.797268          23.300467       7.520714   \n",
       "2010-01-08 00:00:00-05:00        18.449358          23.461159       7.570714   \n",
       "\n",
       "                           (Close, BA)  (Close, DIS)  (Close, IBM)  ...  \\\n",
       "Date                                                                ...   \n",
       "2010-01-04 00:00:00-05:00    56.180000     32.070000    126.625237  ...   \n",
       "2010-01-05 00:00:00-05:00    58.020000     31.990000    125.095604  ...   \n",
       "2010-01-06 00:00:00-05:00    59.779999     31.820000    124.282982  ...   \n",
       "2010-01-07 00:00:00-05:00    62.200001     31.830000    123.852776  ...   \n",
       "2010-01-08 00:00:00-05:00    61.599998     31.879999    125.095604  ...   \n",
       "\n",
       "                           (Open, DIS)  (Open, IBM)  (Open, KO)  (Open, MSFT)  \\\n",
       "Date                                                                            \n",
       "2010-01-04 00:00:00-05:00        32.50   125.411087   28.580000     30.620001   \n",
       "2010-01-05 00:00:00-05:00        32.07   125.889099   28.424999     30.850000   \n",
       "2010-01-06 00:00:00-05:00        31.90   124.933075   28.174999     30.879999   \n",
       "2010-01-07 00:00:00-05:00        31.77   124.158699   28.165001     30.629999   \n",
       "2010-01-08 00:00:00-05:00        31.66   123.393883   27.730000     30.280001   \n",
       "\n",
       "                           (Volume, AAPL)  (Volume, BA)  (Volume, DIS)  \\\n",
       "Date                                                                     \n",
       "2010-01-04 00:00:00-05:00       493729600       6186700       13700400   \n",
       "2010-01-05 00:00:00-05:00       601904800       8867800       10307700   \n",
       "2010-01-06 00:00:00-05:00       552160000       8836500       10709500   \n",
       "2010-01-07 00:00:00-05:00       477131200      14379100        8202100   \n",
       "2010-01-08 00:00:00-05:00       447610800       7146600        7657500   \n",
       "\n",
       "                           (Volume, IBM)  (Volume, KO)  (Volume, MSFT)  \n",
       "Date                                                                    \n",
       "2010-01-04 00:00:00-05:00        6438444      13870400        38409100  \n",
       "2010-01-05 00:00:00-05:00        7156104      23172400        49749600  \n",
       "2010-01-06 00:00:00-05:00        5863144      19264600        58182400  \n",
       "2010-01-07 00:00:00-05:00        6109268      13234600        50559700  \n",
       "2010-01-08 00:00:00-05:00        4390271      28712400        51197400  \n",
       "\n",
       "[5 rows x 36 columns]"
      ]
     },
     "execution_count": 29,
     "metadata": {},
     "output_type": "execute_result"
    }
   ],
   "source": [
    "stocks.head()"
   ]
  },
  {
   "cell_type": "code",
   "execution_count": 30,
   "metadata": {},
   "outputs": [],
   "source": [
    "# to_flat_index 메소드를 사용하여 다중 인덱스와 열을 평탄화하기 \n",
    "# 결과물은 1개의 인덱스 레벨만 있고, 열 레이블은 1개의 튜플로 정의됨\n",
    "stocks.columns = stocks.columns.to_flat_index()"
   ]
  },
  {
   "cell_type": "code",
   "execution_count": 31,
   "metadata": {},
   "outputs": [
    {
     "data": {
      "text/plain": [
       "Index([('Adj Close', 'AAPL'),   ('Adj Close', 'BA'),  ('Adj Close', 'DIS'),\n",
       "        ('Adj Close', 'IBM'),   ('Adj Close', 'KO'), ('Adj Close', 'MSFT'),\n",
       "           ('Close', 'AAPL'),       ('Close', 'BA'),      ('Close', 'DIS'),\n",
       "            ('Close', 'IBM'),       ('Close', 'KO'),     ('Close', 'MSFT'),\n",
       "            ('High', 'AAPL'),        ('High', 'BA'),       ('High', 'DIS'),\n",
       "             ('High', 'IBM'),        ('High', 'KO'),      ('High', 'MSFT'),\n",
       "             ('Low', 'AAPL'),         ('Low', 'BA'),        ('Low', 'DIS'),\n",
       "              ('Low', 'IBM'),         ('Low', 'KO'),       ('Low', 'MSFT'),\n",
       "            ('Open', 'AAPL'),        ('Open', 'BA'),       ('Open', 'DIS'),\n",
       "             ('Open', 'IBM'),        ('Open', 'KO'),      ('Open', 'MSFT'),\n",
       "          ('Volume', 'AAPL'),      ('Volume', 'BA'),     ('Volume', 'DIS'),\n",
       "           ('Volume', 'IBM'),      ('Volume', 'KO'),    ('Volume', 'MSFT')],\n",
       "      dtype='object')"
      ]
     },
     "execution_count": 31,
     "metadata": {},
     "output_type": "execute_result"
    }
   ],
   "source": [
    "stocks.columns"
   ]
  },
  {
   "cell_type": "code",
   "execution_count": 32,
   "metadata": {},
   "outputs": [],
   "source": [
    "# 평탄화한 것을 다중 인덱스로 되돌리기\n",
    "stocks.columns = pd.MultiIndex.from_tuples(stocks.columns)"
   ]
  },
  {
   "cell_type": "code",
   "execution_count": 33,
   "metadata": {},
   "outputs": [
    {
     "data": {
      "text/html": [
       "<div>\n",
       "<style scoped>\n",
       "    .dataframe tbody tr th:only-of-type {\n",
       "        vertical-align: middle;\n",
       "    }\n",
       "\n",
       "    .dataframe tbody tr th {\n",
       "        vertical-align: top;\n",
       "    }\n",
       "\n",
       "    .dataframe thead tr th {\n",
       "        text-align: left;\n",
       "    }\n",
       "\n",
       "    .dataframe thead tr:last-of-type th {\n",
       "        text-align: right;\n",
       "    }\n",
       "</style>\n",
       "<table border=\"1\" class=\"dataframe\">\n",
       "  <thead>\n",
       "    <tr>\n",
       "      <th></th>\n",
       "      <th colspan=\"6\" halign=\"left\">Adj Close</th>\n",
       "      <th colspan=\"4\" halign=\"left\">Close</th>\n",
       "      <th>...</th>\n",
       "      <th colspan=\"4\" halign=\"left\">Open</th>\n",
       "      <th colspan=\"6\" halign=\"left\">Volume</th>\n",
       "    </tr>\n",
       "    <tr>\n",
       "      <th></th>\n",
       "      <th>AAPL</th>\n",
       "      <th>BA</th>\n",
       "      <th>DIS</th>\n",
       "      <th>IBM</th>\n",
       "      <th>KO</th>\n",
       "      <th>MSFT</th>\n",
       "      <th>AAPL</th>\n",
       "      <th>BA</th>\n",
       "      <th>DIS</th>\n",
       "      <th>IBM</th>\n",
       "      <th>...</th>\n",
       "      <th>DIS</th>\n",
       "      <th>IBM</th>\n",
       "      <th>KO</th>\n",
       "      <th>MSFT</th>\n",
       "      <th>AAPL</th>\n",
       "      <th>BA</th>\n",
       "      <th>DIS</th>\n",
       "      <th>IBM</th>\n",
       "      <th>KO</th>\n",
       "      <th>MSFT</th>\n",
       "    </tr>\n",
       "    <tr>\n",
       "      <th>Date</th>\n",
       "      <th></th>\n",
       "      <th></th>\n",
       "      <th></th>\n",
       "      <th></th>\n",
       "      <th></th>\n",
       "      <th></th>\n",
       "      <th></th>\n",
       "      <th></th>\n",
       "      <th></th>\n",
       "      <th></th>\n",
       "      <th></th>\n",
       "      <th></th>\n",
       "      <th></th>\n",
       "      <th></th>\n",
       "      <th></th>\n",
       "      <th></th>\n",
       "      <th></th>\n",
       "      <th></th>\n",
       "      <th></th>\n",
       "      <th></th>\n",
       "      <th></th>\n",
       "    </tr>\n",
       "  </thead>\n",
       "  <tbody>\n",
       "    <tr>\n",
       "      <th>2010-01-04 00:00:00-05:00</th>\n",
       "      <td>6.515213</td>\n",
       "      <td>43.777554</td>\n",
       "      <td>27.933922</td>\n",
       "      <td>80.328056</td>\n",
       "      <td>19.081619</td>\n",
       "      <td>23.683073</td>\n",
       "      <td>7.643214</td>\n",
       "      <td>56.180000</td>\n",
       "      <td>32.070000</td>\n",
       "      <td>126.625237</td>\n",
       "      <td>...</td>\n",
       "      <td>32.50</td>\n",
       "      <td>125.411087</td>\n",
       "      <td>28.580000</td>\n",
       "      <td>30.620001</td>\n",
       "      <td>493729600</td>\n",
       "      <td>6186700</td>\n",
       "      <td>13700400</td>\n",
       "      <td>6438444</td>\n",
       "      <td>13870400</td>\n",
       "      <td>38409100</td>\n",
       "    </tr>\n",
       "    <tr>\n",
       "      <th>2010-01-05 00:00:00-05:00</th>\n",
       "      <td>6.526478</td>\n",
       "      <td>45.211334</td>\n",
       "      <td>27.864239</td>\n",
       "      <td>79.357681</td>\n",
       "      <td>18.850790</td>\n",
       "      <td>23.690718</td>\n",
       "      <td>7.656429</td>\n",
       "      <td>58.020000</td>\n",
       "      <td>31.990000</td>\n",
       "      <td>125.095604</td>\n",
       "      <td>...</td>\n",
       "      <td>32.07</td>\n",
       "      <td>125.889099</td>\n",
       "      <td>28.424999</td>\n",
       "      <td>30.850000</td>\n",
       "      <td>601904800</td>\n",
       "      <td>8867800</td>\n",
       "      <td>10307700</td>\n",
       "      <td>7156104</td>\n",
       "      <td>23172400</td>\n",
       "      <td>49749600</td>\n",
       "    </tr>\n",
       "    <tr>\n",
       "      <th>2010-01-06 00:00:00-05:00</th>\n",
       "      <td>6.422666</td>\n",
       "      <td>46.582794</td>\n",
       "      <td>27.716164</td>\n",
       "      <td>78.842155</td>\n",
       "      <td>18.844099</td>\n",
       "      <td>23.545334</td>\n",
       "      <td>7.534643</td>\n",
       "      <td>59.779999</td>\n",
       "      <td>31.820000</td>\n",
       "      <td>124.282982</td>\n",
       "      <td>...</td>\n",
       "      <td>31.90</td>\n",
       "      <td>124.933075</td>\n",
       "      <td>28.174999</td>\n",
       "      <td>30.879999</td>\n",
       "      <td>552160000</td>\n",
       "      <td>8836500</td>\n",
       "      <td>10709500</td>\n",
       "      <td>5863144</td>\n",
       "      <td>19264600</td>\n",
       "      <td>58182400</td>\n",
       "    </tr>\n",
       "    <tr>\n",
       "      <th>2010-01-07 00:00:00-05:00</th>\n",
       "      <td>6.410791</td>\n",
       "      <td>48.468559</td>\n",
       "      <td>27.724874</td>\n",
       "      <td>78.569260</td>\n",
       "      <td>18.797268</td>\n",
       "      <td>23.300467</td>\n",
       "      <td>7.520714</td>\n",
       "      <td>62.200001</td>\n",
       "      <td>31.830000</td>\n",
       "      <td>123.852776</td>\n",
       "      <td>...</td>\n",
       "      <td>31.77</td>\n",
       "      <td>124.158699</td>\n",
       "      <td>28.165001</td>\n",
       "      <td>30.629999</td>\n",
       "      <td>477131200</td>\n",
       "      <td>14379100</td>\n",
       "      <td>8202100</td>\n",
       "      <td>6109268</td>\n",
       "      <td>13234600</td>\n",
       "      <td>50559700</td>\n",
       "    </tr>\n",
       "    <tr>\n",
       "      <th>2010-01-08 00:00:00-05:00</th>\n",
       "      <td>6.453413</td>\n",
       "      <td>48.001007</td>\n",
       "      <td>27.768427</td>\n",
       "      <td>79.357681</td>\n",
       "      <td>18.449358</td>\n",
       "      <td>23.461159</td>\n",
       "      <td>7.570714</td>\n",
       "      <td>61.599998</td>\n",
       "      <td>31.879999</td>\n",
       "      <td>125.095604</td>\n",
       "      <td>...</td>\n",
       "      <td>31.66</td>\n",
       "      <td>123.393883</td>\n",
       "      <td>27.730000</td>\n",
       "      <td>30.280001</td>\n",
       "      <td>447610800</td>\n",
       "      <td>7146600</td>\n",
       "      <td>7657500</td>\n",
       "      <td>4390271</td>\n",
       "      <td>28712400</td>\n",
       "      <td>51197400</td>\n",
       "    </tr>\n",
       "  </tbody>\n",
       "</table>\n",
       "<p>5 rows × 36 columns</p>\n",
       "</div>"
      ],
      "text/plain": [
       "                          Adj Close                                   \\\n",
       "                               AAPL         BA        DIS        IBM   \n",
       "Date                                                                   \n",
       "2010-01-04 00:00:00-05:00  6.515213  43.777554  27.933922  80.328056   \n",
       "2010-01-05 00:00:00-05:00  6.526478  45.211334  27.864239  79.357681   \n",
       "2010-01-06 00:00:00-05:00  6.422666  46.582794  27.716164  78.842155   \n",
       "2010-01-07 00:00:00-05:00  6.410791  48.468559  27.724874  78.569260   \n",
       "2010-01-08 00:00:00-05:00  6.453413  48.001007  27.768427  79.357681   \n",
       "\n",
       "                                                    Close             \\\n",
       "                                  KO       MSFT      AAPL         BA   \n",
       "Date                                                                   \n",
       "2010-01-04 00:00:00-05:00  19.081619  23.683073  7.643214  56.180000   \n",
       "2010-01-05 00:00:00-05:00  18.850790  23.690718  7.656429  58.020000   \n",
       "2010-01-06 00:00:00-05:00  18.844099  23.545334  7.534643  59.779999   \n",
       "2010-01-07 00:00:00-05:00  18.797268  23.300467  7.520714  62.200001   \n",
       "2010-01-08 00:00:00-05:00  18.449358  23.461159  7.570714  61.599998   \n",
       "\n",
       "                                                  ...   Open              \\\n",
       "                                 DIS         IBM  ...    DIS         IBM   \n",
       "Date                                              ...                      \n",
       "2010-01-04 00:00:00-05:00  32.070000  126.625237  ...  32.50  125.411087   \n",
       "2010-01-05 00:00:00-05:00  31.990000  125.095604  ...  32.07  125.889099   \n",
       "2010-01-06 00:00:00-05:00  31.820000  124.282982  ...  31.90  124.933075   \n",
       "2010-01-07 00:00:00-05:00  31.830000  123.852776  ...  31.77  124.158699   \n",
       "2010-01-08 00:00:00-05:00  31.879999  125.095604  ...  31.66  123.393883   \n",
       "\n",
       "                                                    Volume            \\\n",
       "                                  KO       MSFT       AAPL        BA   \n",
       "Date                                                                   \n",
       "2010-01-04 00:00:00-05:00  28.580000  30.620001  493729600   6186700   \n",
       "2010-01-05 00:00:00-05:00  28.424999  30.850000  601904800   8867800   \n",
       "2010-01-06 00:00:00-05:00  28.174999  30.879999  552160000   8836500   \n",
       "2010-01-07 00:00:00-05:00  28.165001  30.629999  477131200  14379100   \n",
       "2010-01-08 00:00:00-05:00  27.730000  30.280001  447610800   7146600   \n",
       "\n",
       "                                                                  \n",
       "                                DIS      IBM        KO      MSFT  \n",
       "Date                                                              \n",
       "2010-01-04 00:00:00-05:00  13700400  6438444  13870400  38409100  \n",
       "2010-01-05 00:00:00-05:00  10307700  7156104  23172400  49749600  \n",
       "2010-01-06 00:00:00-05:00  10709500  5863144  19264600  58182400  \n",
       "2010-01-07 00:00:00-05:00   8202100  6109268  13234600  50559700  \n",
       "2010-01-08 00:00:00-05:00   7657500  4390271  28712400  51197400  \n",
       "\n",
       "[5 rows x 36 columns]"
      ]
     },
     "execution_count": 33,
     "metadata": {},
     "output_type": "execute_result"
    }
   ],
   "source": [
    "stocks.head()"
   ]
  },
  {
   "cell_type": "code",
   "execution_count": 40,
   "metadata": {},
   "outputs": [
    {
     "data": {
      "text/html": [
       "<div>\n",
       "<style scoped>\n",
       "    .dataframe tbody tr th:only-of-type {\n",
       "        vertical-align: middle;\n",
       "    }\n",
       "\n",
       "    .dataframe tbody tr th {\n",
       "        vertical-align: top;\n",
       "    }\n",
       "\n",
       "    .dataframe thead tr th {\n",
       "        text-align: left;\n",
       "    }\n",
       "\n",
       "    .dataframe thead tr:last-of-type th {\n",
       "        text-align: right;\n",
       "    }\n",
       "</style>\n",
       "<table border=\"1\" class=\"dataframe\">\n",
       "  <thead>\n",
       "    <tr>\n",
       "      <th></th>\n",
       "      <th colspan=\"6\" halign=\"left\">AAPL</th>\n",
       "      <th colspan=\"4\" halign=\"left\">BA</th>\n",
       "      <th>...</th>\n",
       "      <th colspan=\"4\" halign=\"left\">KO</th>\n",
       "      <th colspan=\"6\" halign=\"left\">MSFT</th>\n",
       "    </tr>\n",
       "    <tr>\n",
       "      <th></th>\n",
       "      <th>Adj Close</th>\n",
       "      <th>Close</th>\n",
       "      <th>High</th>\n",
       "      <th>Low</th>\n",
       "      <th>Open</th>\n",
       "      <th>Volume</th>\n",
       "      <th>Adj Close</th>\n",
       "      <th>Close</th>\n",
       "      <th>High</th>\n",
       "      <th>Low</th>\n",
       "      <th>...</th>\n",
       "      <th>High</th>\n",
       "      <th>Low</th>\n",
       "      <th>Open</th>\n",
       "      <th>Volume</th>\n",
       "      <th>Adj Close</th>\n",
       "      <th>Close</th>\n",
       "      <th>High</th>\n",
       "      <th>Low</th>\n",
       "      <th>Open</th>\n",
       "      <th>Volume</th>\n",
       "    </tr>\n",
       "    <tr>\n",
       "      <th>Date</th>\n",
       "      <th></th>\n",
       "      <th></th>\n",
       "      <th></th>\n",
       "      <th></th>\n",
       "      <th></th>\n",
       "      <th></th>\n",
       "      <th></th>\n",
       "      <th></th>\n",
       "      <th></th>\n",
       "      <th></th>\n",
       "      <th></th>\n",
       "      <th></th>\n",
       "      <th></th>\n",
       "      <th></th>\n",
       "      <th></th>\n",
       "      <th></th>\n",
       "      <th></th>\n",
       "      <th></th>\n",
       "      <th></th>\n",
       "      <th></th>\n",
       "      <th></th>\n",
       "    </tr>\n",
       "  </thead>\n",
       "  <tbody>\n",
       "    <tr>\n",
       "      <th>2010-01-04 00:00:00-05:00</th>\n",
       "      <td>6.515213</td>\n",
       "      <td>7.643214</td>\n",
       "      <td>7.660714</td>\n",
       "      <td>7.585000</td>\n",
       "      <td>7.622500</td>\n",
       "      <td>493729600</td>\n",
       "      <td>43.777554</td>\n",
       "      <td>56.180000</td>\n",
       "      <td>56.389999</td>\n",
       "      <td>54.799999</td>\n",
       "      <td>...</td>\n",
       "      <td>28.610001</td>\n",
       "      <td>28.450001</td>\n",
       "      <td>28.580000</td>\n",
       "      <td>13870400</td>\n",
       "      <td>23.683073</td>\n",
       "      <td>30.950001</td>\n",
       "      <td>31.100000</td>\n",
       "      <td>30.590000</td>\n",
       "      <td>30.620001</td>\n",
       "      <td>38409100</td>\n",
       "    </tr>\n",
       "    <tr>\n",
       "      <th>2010-01-05 00:00:00-05:00</th>\n",
       "      <td>6.526478</td>\n",
       "      <td>7.656429</td>\n",
       "      <td>7.699643</td>\n",
       "      <td>7.616071</td>\n",
       "      <td>7.664286</td>\n",
       "      <td>601904800</td>\n",
       "      <td>45.211334</td>\n",
       "      <td>58.020000</td>\n",
       "      <td>58.279999</td>\n",
       "      <td>56.000000</td>\n",
       "      <td>...</td>\n",
       "      <td>28.495001</td>\n",
       "      <td>28.070000</td>\n",
       "      <td>28.424999</td>\n",
       "      <td>23172400</td>\n",
       "      <td>23.690718</td>\n",
       "      <td>30.959999</td>\n",
       "      <td>31.100000</td>\n",
       "      <td>30.639999</td>\n",
       "      <td>30.850000</td>\n",
       "      <td>49749600</td>\n",
       "    </tr>\n",
       "    <tr>\n",
       "      <th>2010-01-06 00:00:00-05:00</th>\n",
       "      <td>6.422666</td>\n",
       "      <td>7.534643</td>\n",
       "      <td>7.686786</td>\n",
       "      <td>7.526786</td>\n",
       "      <td>7.656429</td>\n",
       "      <td>552160000</td>\n",
       "      <td>46.582794</td>\n",
       "      <td>59.779999</td>\n",
       "      <td>59.990002</td>\n",
       "      <td>57.880001</td>\n",
       "      <td>...</td>\n",
       "      <td>28.219999</td>\n",
       "      <td>27.990000</td>\n",
       "      <td>28.174999</td>\n",
       "      <td>19264600</td>\n",
       "      <td>23.545334</td>\n",
       "      <td>30.770000</td>\n",
       "      <td>31.080000</td>\n",
       "      <td>30.520000</td>\n",
       "      <td>30.879999</td>\n",
       "      <td>58182400</td>\n",
       "    </tr>\n",
       "    <tr>\n",
       "      <th>2010-01-07 00:00:00-05:00</th>\n",
       "      <td>6.410791</td>\n",
       "      <td>7.520714</td>\n",
       "      <td>7.571429</td>\n",
       "      <td>7.466071</td>\n",
       "      <td>7.562500</td>\n",
       "      <td>477131200</td>\n",
       "      <td>48.468559</td>\n",
       "      <td>62.200001</td>\n",
       "      <td>62.310001</td>\n",
       "      <td>59.020000</td>\n",
       "      <td>...</td>\n",
       "      <td>28.184999</td>\n",
       "      <td>27.875000</td>\n",
       "      <td>28.165001</td>\n",
       "      <td>13234600</td>\n",
       "      <td>23.300467</td>\n",
       "      <td>30.450001</td>\n",
       "      <td>30.700001</td>\n",
       "      <td>30.190001</td>\n",
       "      <td>30.629999</td>\n",
       "      <td>50559700</td>\n",
       "    </tr>\n",
       "    <tr>\n",
       "      <th>2010-01-08 00:00:00-05:00</th>\n",
       "      <td>6.453413</td>\n",
       "      <td>7.570714</td>\n",
       "      <td>7.571429</td>\n",
       "      <td>7.466429</td>\n",
       "      <td>7.510714</td>\n",
       "      <td>447610800</td>\n",
       "      <td>48.001007</td>\n",
       "      <td>61.599998</td>\n",
       "      <td>61.779999</td>\n",
       "      <td>60.860001</td>\n",
       "      <td>...</td>\n",
       "      <td>27.820000</td>\n",
       "      <td>27.375000</td>\n",
       "      <td>27.730000</td>\n",
       "      <td>28712400</td>\n",
       "      <td>23.461159</td>\n",
       "      <td>30.660000</td>\n",
       "      <td>30.879999</td>\n",
       "      <td>30.240000</td>\n",
       "      <td>30.280001</td>\n",
       "      <td>51197400</td>\n",
       "    </tr>\n",
       "    <tr>\n",
       "      <th>...</th>\n",
       "      <td>...</td>\n",
       "      <td>...</td>\n",
       "      <td>...</td>\n",
       "      <td>...</td>\n",
       "      <td>...</td>\n",
       "      <td>...</td>\n",
       "      <td>...</td>\n",
       "      <td>...</td>\n",
       "      <td>...</td>\n",
       "      <td>...</td>\n",
       "      <td>...</td>\n",
       "      <td>...</td>\n",
       "      <td>...</td>\n",
       "      <td>...</td>\n",
       "      <td>...</td>\n",
       "      <td>...</td>\n",
       "      <td>...</td>\n",
       "      <td>...</td>\n",
       "      <td>...</td>\n",
       "      <td>...</td>\n",
       "      <td>...</td>\n",
       "    </tr>\n",
       "    <tr>\n",
       "      <th>2019-01-30 00:00:00-05:00</th>\n",
       "      <td>39.873814</td>\n",
       "      <td>41.312500</td>\n",
       "      <td>41.537498</td>\n",
       "      <td>40.057499</td>\n",
       "      <td>40.812500</td>\n",
       "      <td>244439200</td>\n",
       "      <td>376.746307</td>\n",
       "      <td>387.720001</td>\n",
       "      <td>391.970001</td>\n",
       "      <td>380.500000</td>\n",
       "      <td>...</td>\n",
       "      <td>47.889999</td>\n",
       "      <td>47.189999</td>\n",
       "      <td>47.250000</td>\n",
       "      <td>12952500</td>\n",
       "      <td>101.913872</td>\n",
       "      <td>106.379997</td>\n",
       "      <td>106.379997</td>\n",
       "      <td>104.330002</td>\n",
       "      <td>104.620003</td>\n",
       "      <td>49471900</td>\n",
       "    </tr>\n",
       "    <tr>\n",
       "      <th>2019-01-31 00:00:00-05:00</th>\n",
       "      <td>40.160965</td>\n",
       "      <td>41.610001</td>\n",
       "      <td>42.250000</td>\n",
       "      <td>41.139999</td>\n",
       "      <td>41.527500</td>\n",
       "      <td>162958400</td>\n",
       "      <td>374.705719</td>\n",
       "      <td>385.619995</td>\n",
       "      <td>388.989990</td>\n",
       "      <td>382.079987</td>\n",
       "      <td>...</td>\n",
       "      <td>48.779999</td>\n",
       "      <td>47.470001</td>\n",
       "      <td>47.849998</td>\n",
       "      <td>32181500</td>\n",
       "      <td>100.045731</td>\n",
       "      <td>104.430000</td>\n",
       "      <td>105.220001</td>\n",
       "      <td>103.180000</td>\n",
       "      <td>103.800003</td>\n",
       "      <td>55636400</td>\n",
       "    </tr>\n",
       "    <tr>\n",
       "      <th>2019-02-01 00:00:00-05:00</th>\n",
       "      <td>40.180264</td>\n",
       "      <td>41.630001</td>\n",
       "      <td>42.244999</td>\n",
       "      <td>41.482498</td>\n",
       "      <td>41.740002</td>\n",
       "      <td>130672400</td>\n",
       "      <td>376.464508</td>\n",
       "      <td>387.429993</td>\n",
       "      <td>392.799988</td>\n",
       "      <td>384.730011</td>\n",
       "      <td>...</td>\n",
       "      <td>48.779999</td>\n",
       "      <td>48.400002</td>\n",
       "      <td>48.480000</td>\n",
       "      <td>19130100</td>\n",
       "      <td>98.465004</td>\n",
       "      <td>102.779999</td>\n",
       "      <td>104.099998</td>\n",
       "      <td>102.349998</td>\n",
       "      <td>103.779999</td>\n",
       "      <td>35535700</td>\n",
       "    </tr>\n",
       "    <tr>\n",
       "      <th>2019-02-04 00:00:00-05:00</th>\n",
       "      <td>41.321587</td>\n",
       "      <td>42.812500</td>\n",
       "      <td>42.915001</td>\n",
       "      <td>41.820000</td>\n",
       "      <td>41.852501</td>\n",
       "      <td>125982000</td>\n",
       "      <td>385.763641</td>\n",
       "      <td>397.000000</td>\n",
       "      <td>397.070007</td>\n",
       "      <td>388.119995</td>\n",
       "      <td>...</td>\n",
       "      <td>49.450001</td>\n",
       "      <td>48.540001</td>\n",
       "      <td>48.700001</td>\n",
       "      <td>15105700</td>\n",
       "      <td>101.300735</td>\n",
       "      <td>105.739998</td>\n",
       "      <td>105.800003</td>\n",
       "      <td>102.769997</td>\n",
       "      <td>102.870003</td>\n",
       "      <td>31315100</td>\n",
       "    </tr>\n",
       "    <tr>\n",
       "      <th>2019-02-05 00:00:00-05:00</th>\n",
       "      <td>42.028580</td>\n",
       "      <td>43.544998</td>\n",
       "      <td>43.770000</td>\n",
       "      <td>43.087502</td>\n",
       "      <td>43.215000</td>\n",
       "      <td>144406400</td>\n",
       "      <td>398.570587</td>\n",
       "      <td>410.179993</td>\n",
       "      <td>410.750000</td>\n",
       "      <td>399.549988</td>\n",
       "      <td>...</td>\n",
       "      <td>49.470001</td>\n",
       "      <td>49.099998</td>\n",
       "      <td>49.330002</td>\n",
       "      <td>12651900</td>\n",
       "      <td>102.718605</td>\n",
       "      <td>107.220001</td>\n",
       "      <td>107.269997</td>\n",
       "      <td>105.959999</td>\n",
       "      <td>106.059998</td>\n",
       "      <td>27325400</td>\n",
       "    </tr>\n",
       "  </tbody>\n",
       "</table>\n",
       "<p>2288 rows × 36 columns</p>\n",
       "</div>"
      ],
      "text/plain": [
       "                                AAPL                                   \\\n",
       "                           Adj Close      Close       High        Low   \n",
       "Date                                                                    \n",
       "2010-01-04 00:00:00-05:00   6.515213   7.643214   7.660714   7.585000   \n",
       "2010-01-05 00:00:00-05:00   6.526478   7.656429   7.699643   7.616071   \n",
       "2010-01-06 00:00:00-05:00   6.422666   7.534643   7.686786   7.526786   \n",
       "2010-01-07 00:00:00-05:00   6.410791   7.520714   7.571429   7.466071   \n",
       "2010-01-08 00:00:00-05:00   6.453413   7.570714   7.571429   7.466429   \n",
       "...                              ...        ...        ...        ...   \n",
       "2019-01-30 00:00:00-05:00  39.873814  41.312500  41.537498  40.057499   \n",
       "2019-01-31 00:00:00-05:00  40.160965  41.610001  42.250000  41.139999   \n",
       "2019-02-01 00:00:00-05:00  40.180264  41.630001  42.244999  41.482498   \n",
       "2019-02-04 00:00:00-05:00  41.321587  42.812500  42.915001  41.820000   \n",
       "2019-02-05 00:00:00-05:00  42.028580  43.544998  43.770000  43.087502   \n",
       "\n",
       "                                                         BA              \\\n",
       "                                Open     Volume   Adj Close       Close   \n",
       "Date                                                                      \n",
       "2010-01-04 00:00:00-05:00   7.622500  493729600   43.777554   56.180000   \n",
       "2010-01-05 00:00:00-05:00   7.664286  601904800   45.211334   58.020000   \n",
       "2010-01-06 00:00:00-05:00   7.656429  552160000   46.582794   59.779999   \n",
       "2010-01-07 00:00:00-05:00   7.562500  477131200   48.468559   62.200001   \n",
       "2010-01-08 00:00:00-05:00   7.510714  447610800   48.001007   61.599998   \n",
       "...                              ...        ...         ...         ...   \n",
       "2019-01-30 00:00:00-05:00  40.812500  244439200  376.746307  387.720001   \n",
       "2019-01-31 00:00:00-05:00  41.527500  162958400  374.705719  385.619995   \n",
       "2019-02-01 00:00:00-05:00  41.740002  130672400  376.464508  387.429993   \n",
       "2019-02-04 00:00:00-05:00  41.852501  125982000  385.763641  397.000000   \n",
       "2019-02-05 00:00:00-05:00  43.215000  144406400  398.570587  410.179993   \n",
       "\n",
       "                                                   ...         KO             \\\n",
       "                                 High         Low  ...       High        Low   \n",
       "Date                                               ...                         \n",
       "2010-01-04 00:00:00-05:00   56.389999   54.799999  ...  28.610001  28.450001   \n",
       "2010-01-05 00:00:00-05:00   58.279999   56.000000  ...  28.495001  28.070000   \n",
       "2010-01-06 00:00:00-05:00   59.990002   57.880001  ...  28.219999  27.990000   \n",
       "2010-01-07 00:00:00-05:00   62.310001   59.020000  ...  28.184999  27.875000   \n",
       "2010-01-08 00:00:00-05:00   61.779999   60.860001  ...  27.820000  27.375000   \n",
       "...                               ...         ...  ...        ...        ...   \n",
       "2019-01-30 00:00:00-05:00  391.970001  380.500000  ...  47.889999  47.189999   \n",
       "2019-01-31 00:00:00-05:00  388.989990  382.079987  ...  48.779999  47.470001   \n",
       "2019-02-01 00:00:00-05:00  392.799988  384.730011  ...  48.779999  48.400002   \n",
       "2019-02-04 00:00:00-05:00  397.070007  388.119995  ...  49.450001  48.540001   \n",
       "2019-02-05 00:00:00-05:00  410.750000  399.549988  ...  49.470001  49.099998   \n",
       "\n",
       "                                                      MSFT              \\\n",
       "                                Open    Volume   Adj Close       Close   \n",
       "Date                                                                     \n",
       "2010-01-04 00:00:00-05:00  28.580000  13870400   23.683073   30.950001   \n",
       "2010-01-05 00:00:00-05:00  28.424999  23172400   23.690718   30.959999   \n",
       "2010-01-06 00:00:00-05:00  28.174999  19264600   23.545334   30.770000   \n",
       "2010-01-07 00:00:00-05:00  28.165001  13234600   23.300467   30.450001   \n",
       "2010-01-08 00:00:00-05:00  27.730000  28712400   23.461159   30.660000   \n",
       "...                              ...       ...         ...         ...   \n",
       "2019-01-30 00:00:00-05:00  47.250000  12952500  101.913872  106.379997   \n",
       "2019-01-31 00:00:00-05:00  47.849998  32181500  100.045731  104.430000   \n",
       "2019-02-01 00:00:00-05:00  48.480000  19130100   98.465004  102.779999   \n",
       "2019-02-04 00:00:00-05:00  48.700001  15105700  101.300735  105.739998   \n",
       "2019-02-05 00:00:00-05:00  49.330002  12651900  102.718605  107.220001   \n",
       "\n",
       "                                                                         \n",
       "                                 High         Low        Open    Volume  \n",
       "Date                                                                     \n",
       "2010-01-04 00:00:00-05:00   31.100000   30.590000   30.620001  38409100  \n",
       "2010-01-05 00:00:00-05:00   31.100000   30.639999   30.850000  49749600  \n",
       "2010-01-06 00:00:00-05:00   31.080000   30.520000   30.879999  58182400  \n",
       "2010-01-07 00:00:00-05:00   30.700001   30.190001   30.629999  50559700  \n",
       "2010-01-08 00:00:00-05:00   30.879999   30.240000   30.280001  51197400  \n",
       "...                               ...         ...         ...       ...  \n",
       "2019-01-30 00:00:00-05:00  106.379997  104.330002  104.620003  49471900  \n",
       "2019-01-31 00:00:00-05:00  105.220001  103.180000  103.800003  55636400  \n",
       "2019-02-01 00:00:00-05:00  104.099998  102.349998  103.779999  35535700  \n",
       "2019-02-04 00:00:00-05:00  105.800003  102.769997  102.870003  31315100  \n",
       "2019-02-05 00:00:00-05:00  107.269997  105.959999  106.059998  27325400  \n",
       "\n",
       "[2288 rows x 36 columns]"
      ]
     },
     "execution_count": 40,
     "metadata": {},
     "output_type": "execute_result"
    }
   ],
   "source": [
    "# 인덱스 레벨을 바꾸려면 swaplevel()의 axis 파라미터를 0과 1로 조정하기\n",
    "# 열 인덱스를 정렬하기 위해 sort_index()의 axis를 조정하면 됨\n",
    "stocks.swaplevel(axis = 1).sort_index(axis = 1)"
   ]
  },
  {
   "cell_type": "markdown",
   "metadata": {},
   "source": [
    "## Initial Inspection and Visualization"
   ]
  },
  {
   "cell_type": "code",
   "execution_count": 41,
   "metadata": {},
   "outputs": [],
   "source": [
    "stocks = pd.read_csv(\"stocks.csv\", header = [0,1], index_col= [0], parse_dates= [0])"
   ]
  },
  {
   "cell_type": "code",
   "execution_count": 43,
   "metadata": {},
   "outputs": [
    {
     "data": {
      "text/html": [
       "<div>\n",
       "<style scoped>\n",
       "    .dataframe tbody tr th:only-of-type {\n",
       "        vertical-align: middle;\n",
       "    }\n",
       "\n",
       "    .dataframe tbody tr th {\n",
       "        vertical-align: top;\n",
       "    }\n",
       "\n",
       "    .dataframe thead tr th {\n",
       "        text-align: left;\n",
       "    }\n",
       "\n",
       "    .dataframe thead tr:last-of-type th {\n",
       "        text-align: right;\n",
       "    }\n",
       "</style>\n",
       "<table border=\"1\" class=\"dataframe\">\n",
       "  <thead>\n",
       "    <tr>\n",
       "      <th></th>\n",
       "      <th colspan=\"6\" halign=\"left\">Adj Close</th>\n",
       "      <th colspan=\"4\" halign=\"left\">Close</th>\n",
       "      <th>...</th>\n",
       "      <th colspan=\"4\" halign=\"left\">Open</th>\n",
       "      <th colspan=\"6\" halign=\"left\">Volume</th>\n",
       "    </tr>\n",
       "    <tr>\n",
       "      <th></th>\n",
       "      <th>AAPL</th>\n",
       "      <th>BA</th>\n",
       "      <th>DIS</th>\n",
       "      <th>IBM</th>\n",
       "      <th>KO</th>\n",
       "      <th>MSFT</th>\n",
       "      <th>AAPL</th>\n",
       "      <th>BA</th>\n",
       "      <th>DIS</th>\n",
       "      <th>IBM</th>\n",
       "      <th>...</th>\n",
       "      <th>DIS</th>\n",
       "      <th>IBM</th>\n",
       "      <th>KO</th>\n",
       "      <th>MSFT</th>\n",
       "      <th>AAPL</th>\n",
       "      <th>BA</th>\n",
       "      <th>DIS</th>\n",
       "      <th>IBM</th>\n",
       "      <th>KO</th>\n",
       "      <th>MSFT</th>\n",
       "    </tr>\n",
       "    <tr>\n",
       "      <th>Date</th>\n",
       "      <th></th>\n",
       "      <th></th>\n",
       "      <th></th>\n",
       "      <th></th>\n",
       "      <th></th>\n",
       "      <th></th>\n",
       "      <th></th>\n",
       "      <th></th>\n",
       "      <th></th>\n",
       "      <th></th>\n",
       "      <th></th>\n",
       "      <th></th>\n",
       "      <th></th>\n",
       "      <th></th>\n",
       "      <th></th>\n",
       "      <th></th>\n",
       "      <th></th>\n",
       "      <th></th>\n",
       "      <th></th>\n",
       "      <th></th>\n",
       "      <th></th>\n",
       "    </tr>\n",
       "  </thead>\n",
       "  <tbody>\n",
       "    <tr>\n",
       "      <th>2010-01-04 00:00:00-05:00</th>\n",
       "      <td>6.515213</td>\n",
       "      <td>43.777554</td>\n",
       "      <td>27.933922</td>\n",
       "      <td>80.328056</td>\n",
       "      <td>19.081619</td>\n",
       "      <td>23.683073</td>\n",
       "      <td>7.643214</td>\n",
       "      <td>56.180000</td>\n",
       "      <td>32.070000</td>\n",
       "      <td>126.625237</td>\n",
       "      <td>...</td>\n",
       "      <td>32.50</td>\n",
       "      <td>125.411087</td>\n",
       "      <td>28.580000</td>\n",
       "      <td>30.620001</td>\n",
       "      <td>493729600</td>\n",
       "      <td>6186700</td>\n",
       "      <td>13700400</td>\n",
       "      <td>6438444</td>\n",
       "      <td>13870400</td>\n",
       "      <td>38409100</td>\n",
       "    </tr>\n",
       "    <tr>\n",
       "      <th>2010-01-05 00:00:00-05:00</th>\n",
       "      <td>6.526478</td>\n",
       "      <td>45.211334</td>\n",
       "      <td>27.864239</td>\n",
       "      <td>79.357681</td>\n",
       "      <td>18.850790</td>\n",
       "      <td>23.690718</td>\n",
       "      <td>7.656429</td>\n",
       "      <td>58.020000</td>\n",
       "      <td>31.990000</td>\n",
       "      <td>125.095604</td>\n",
       "      <td>...</td>\n",
       "      <td>32.07</td>\n",
       "      <td>125.889099</td>\n",
       "      <td>28.424999</td>\n",
       "      <td>30.850000</td>\n",
       "      <td>601904800</td>\n",
       "      <td>8867800</td>\n",
       "      <td>10307700</td>\n",
       "      <td>7156104</td>\n",
       "      <td>23172400</td>\n",
       "      <td>49749600</td>\n",
       "    </tr>\n",
       "    <tr>\n",
       "      <th>2010-01-06 00:00:00-05:00</th>\n",
       "      <td>6.422666</td>\n",
       "      <td>46.582794</td>\n",
       "      <td>27.716164</td>\n",
       "      <td>78.842155</td>\n",
       "      <td>18.844099</td>\n",
       "      <td>23.545334</td>\n",
       "      <td>7.534643</td>\n",
       "      <td>59.779999</td>\n",
       "      <td>31.820000</td>\n",
       "      <td>124.282982</td>\n",
       "      <td>...</td>\n",
       "      <td>31.90</td>\n",
       "      <td>124.933075</td>\n",
       "      <td>28.174999</td>\n",
       "      <td>30.879999</td>\n",
       "      <td>552160000</td>\n",
       "      <td>8836500</td>\n",
       "      <td>10709500</td>\n",
       "      <td>5863144</td>\n",
       "      <td>19264600</td>\n",
       "      <td>58182400</td>\n",
       "    </tr>\n",
       "    <tr>\n",
       "      <th>2010-01-07 00:00:00-05:00</th>\n",
       "      <td>6.410791</td>\n",
       "      <td>48.468559</td>\n",
       "      <td>27.724874</td>\n",
       "      <td>78.569260</td>\n",
       "      <td>18.797268</td>\n",
       "      <td>23.300467</td>\n",
       "      <td>7.520714</td>\n",
       "      <td>62.200001</td>\n",
       "      <td>31.830000</td>\n",
       "      <td>123.852776</td>\n",
       "      <td>...</td>\n",
       "      <td>31.77</td>\n",
       "      <td>124.158699</td>\n",
       "      <td>28.165001</td>\n",
       "      <td>30.629999</td>\n",
       "      <td>477131200</td>\n",
       "      <td>14379100</td>\n",
       "      <td>8202100</td>\n",
       "      <td>6109268</td>\n",
       "      <td>13234600</td>\n",
       "      <td>50559700</td>\n",
       "    </tr>\n",
       "    <tr>\n",
       "      <th>2010-01-08 00:00:00-05:00</th>\n",
       "      <td>6.453413</td>\n",
       "      <td>48.001007</td>\n",
       "      <td>27.768427</td>\n",
       "      <td>79.357681</td>\n",
       "      <td>18.449358</td>\n",
       "      <td>23.461159</td>\n",
       "      <td>7.570714</td>\n",
       "      <td>61.599998</td>\n",
       "      <td>31.879999</td>\n",
       "      <td>125.095604</td>\n",
       "      <td>...</td>\n",
       "      <td>31.66</td>\n",
       "      <td>123.393883</td>\n",
       "      <td>27.730000</td>\n",
       "      <td>30.280001</td>\n",
       "      <td>447610800</td>\n",
       "      <td>7146600</td>\n",
       "      <td>7657500</td>\n",
       "      <td>4390271</td>\n",
       "      <td>28712400</td>\n",
       "      <td>51197400</td>\n",
       "    </tr>\n",
       "  </tbody>\n",
       "</table>\n",
       "<p>5 rows × 36 columns</p>\n",
       "</div>"
      ],
      "text/plain": [
       "                          Adj Close                                   \\\n",
       "                               AAPL         BA        DIS        IBM   \n",
       "Date                                                                   \n",
       "2010-01-04 00:00:00-05:00  6.515213  43.777554  27.933922  80.328056   \n",
       "2010-01-05 00:00:00-05:00  6.526478  45.211334  27.864239  79.357681   \n",
       "2010-01-06 00:00:00-05:00  6.422666  46.582794  27.716164  78.842155   \n",
       "2010-01-07 00:00:00-05:00  6.410791  48.468559  27.724874  78.569260   \n",
       "2010-01-08 00:00:00-05:00  6.453413  48.001007  27.768427  79.357681   \n",
       "\n",
       "                                                    Close             \\\n",
       "                                  KO       MSFT      AAPL         BA   \n",
       "Date                                                                   \n",
       "2010-01-04 00:00:00-05:00  19.081619  23.683073  7.643214  56.180000   \n",
       "2010-01-05 00:00:00-05:00  18.850790  23.690718  7.656429  58.020000   \n",
       "2010-01-06 00:00:00-05:00  18.844099  23.545334  7.534643  59.779999   \n",
       "2010-01-07 00:00:00-05:00  18.797268  23.300467  7.520714  62.200001   \n",
       "2010-01-08 00:00:00-05:00  18.449358  23.461159  7.570714  61.599998   \n",
       "\n",
       "                                                  ...   Open              \\\n",
       "                                 DIS         IBM  ...    DIS         IBM   \n",
       "Date                                              ...                      \n",
       "2010-01-04 00:00:00-05:00  32.070000  126.625237  ...  32.50  125.411087   \n",
       "2010-01-05 00:00:00-05:00  31.990000  125.095604  ...  32.07  125.889099   \n",
       "2010-01-06 00:00:00-05:00  31.820000  124.282982  ...  31.90  124.933075   \n",
       "2010-01-07 00:00:00-05:00  31.830000  123.852776  ...  31.77  124.158699   \n",
       "2010-01-08 00:00:00-05:00  31.879999  125.095604  ...  31.66  123.393883   \n",
       "\n",
       "                                                    Volume            \\\n",
       "                                  KO       MSFT       AAPL        BA   \n",
       "Date                                                                   \n",
       "2010-01-04 00:00:00-05:00  28.580000  30.620001  493729600   6186700   \n",
       "2010-01-05 00:00:00-05:00  28.424999  30.850000  601904800   8867800   \n",
       "2010-01-06 00:00:00-05:00  28.174999  30.879999  552160000   8836500   \n",
       "2010-01-07 00:00:00-05:00  28.165001  30.629999  477131200  14379100   \n",
       "2010-01-08 00:00:00-05:00  27.730000  30.280001  447610800   7146600   \n",
       "\n",
       "                                                                  \n",
       "                                DIS      IBM        KO      MSFT  \n",
       "Date                                                              \n",
       "2010-01-04 00:00:00-05:00  13700400  6438444  13870400  38409100  \n",
       "2010-01-05 00:00:00-05:00  10307700  7156104  23172400  49749600  \n",
       "2010-01-06 00:00:00-05:00  10709500  5863144  19264600  58182400  \n",
       "2010-01-07 00:00:00-05:00   8202100  6109268  13234600  50559700  \n",
       "2010-01-08 00:00:00-05:00   7657500  4390271  28712400  51197400  \n",
       "\n",
       "[5 rows x 36 columns]"
      ]
     },
     "execution_count": 43,
     "metadata": {},
     "output_type": "execute_result"
    }
   ],
   "source": [
    "stocks.head()"
   ]
  },
  {
   "cell_type": "code",
   "execution_count": null,
   "metadata": {},
   "outputs": [],
   "source": [
    "# stocks.tail()"
   ]
  },
  {
   "cell_type": "code",
   "execution_count": 45,
   "metadata": {
    "scrolled": false
   },
   "outputs": [
    {
     "name": "stdout",
     "output_type": "stream",
     "text": [
      "<class 'pandas.core.frame.DataFrame'>\n",
      "Index: 2288 entries, 2010-01-04 00:00:00-05:00 to 2019-02-05 00:00:00-05:00\n",
      "Data columns (total 36 columns):\n",
      " #   Column             Non-Null Count  Dtype  \n",
      "---  ------             --------------  -----  \n",
      " 0   (Adj Close, AAPL)  2288 non-null   float64\n",
      " 1   (Adj Close, BA)    2288 non-null   float64\n",
      " 2   (Adj Close, DIS)   2288 non-null   float64\n",
      " 3   (Adj Close, IBM)   2288 non-null   float64\n",
      " 4   (Adj Close, KO)    2288 non-null   float64\n",
      " 5   (Adj Close, MSFT)  2288 non-null   float64\n",
      " 6   (Close, AAPL)      2288 non-null   float64\n",
      " 7   (Close, BA)        2288 non-null   float64\n",
      " 8   (Close, DIS)       2288 non-null   float64\n",
      " 9   (Close, IBM)       2288 non-null   float64\n",
      " 10  (Close, KO)        2288 non-null   float64\n",
      " 11  (Close, MSFT)      2288 non-null   float64\n",
      " 12  (High, AAPL)       2288 non-null   float64\n",
      " 13  (High, BA)         2288 non-null   float64\n",
      " 14  (High, DIS)        2288 non-null   float64\n",
      " 15  (High, IBM)        2288 non-null   float64\n",
      " 16  (High, KO)         2288 non-null   float64\n",
      " 17  (High, MSFT)       2288 non-null   float64\n",
      " 18  (Low, AAPL)        2288 non-null   float64\n",
      " 19  (Low, BA)          2288 non-null   float64\n",
      " 20  (Low, DIS)         2288 non-null   float64\n",
      " 21  (Low, IBM)         2288 non-null   float64\n",
      " 22  (Low, KO)          2288 non-null   float64\n",
      " 23  (Low, MSFT)        2288 non-null   float64\n",
      " 24  (Open, AAPL)       2288 non-null   float64\n",
      " 25  (Open, BA)         2288 non-null   float64\n",
      " 26  (Open, DIS)        2288 non-null   float64\n",
      " 27  (Open, IBM)        2288 non-null   float64\n",
      " 28  (Open, KO)         2288 non-null   float64\n",
      " 29  (Open, MSFT)       2288 non-null   float64\n",
      " 30  (Volume, AAPL)     2288 non-null   int64  \n",
      " 31  (Volume, BA)       2288 non-null   int64  \n",
      " 32  (Volume, DIS)      2288 non-null   int64  \n",
      " 33  (Volume, IBM)      2288 non-null   int64  \n",
      " 34  (Volume, KO)       2288 non-null   int64  \n",
      " 35  (Volume, MSFT)     2288 non-null   int64  \n",
      "dtypes: float64(30), int64(6)\n",
      "memory usage: 661.4+ KB\n"
     ]
    }
   ],
   "source": [
    "stocks.info()"
   ]
  },
  {
   "cell_type": "code",
   "execution_count": null,
   "metadata": {},
   "outputs": [],
   "source": [
    "stocks.describe()"
   ]
  },
  {
   "cell_type": "code",
   "execution_count": null,
   "metadata": {},
   "outputs": [],
   "source": [
    "close = stocks.loc[:, \"Close\"].copy()"
   ]
  },
  {
   "cell_type": "code",
   "execution_count": null,
   "metadata": {},
   "outputs": [],
   "source": [
    "close.head()"
   ]
  },
  {
   "cell_type": "code",
   "execution_count": null,
   "metadata": {},
   "outputs": [],
   "source": [
    "import matplotlib.pyplot as plt\n",
    "plt.style.use(\"seaborn\")"
   ]
  },
  {
   "cell_type": "code",
   "execution_count": null,
   "metadata": {
    "scrolled": false
   },
   "outputs": [],
   "source": [
    "close.plot(figsize = (15, 8 ), fontsize = 13)\n",
    "plt.legend(fontsize = 13)\n",
    "plt.show()"
   ]
  },
  {
   "cell_type": "code",
   "execution_count": null,
   "metadata": {},
   "outputs": [],
   "source": []
  },
  {
   "cell_type": "markdown",
   "metadata": {},
   "source": [
    "## Normalizing Time Series to a Base Value (100)"
   ]
  },
  {
   "cell_type": "code",
   "execution_count": null,
   "metadata": {},
   "outputs": [],
   "source": [
    "close.head()"
   ]
  },
  {
   "cell_type": "code",
   "execution_count": null,
   "metadata": {},
   "outputs": [],
   "source": [
    "close.iloc[0,0]"
   ]
  },
  {
   "cell_type": "code",
   "execution_count": null,
   "metadata": {
    "scrolled": true
   },
   "outputs": [],
   "source": [
    "close.AAPL.div(close.iloc[0,0]).mul(100)"
   ]
  },
  {
   "cell_type": "code",
   "execution_count": null,
   "metadata": {
    "scrolled": true
   },
   "outputs": [],
   "source": [
    "close.iloc[0]"
   ]
  },
  {
   "cell_type": "code",
   "execution_count": null,
   "metadata": {
    "scrolled": true
   },
   "outputs": [],
   "source": [
    "norm = close.div(close.iloc[0]).mul(100)\n",
    "norm"
   ]
  },
  {
   "cell_type": "code",
   "execution_count": null,
   "metadata": {},
   "outputs": [],
   "source": [
    "norm.plot(figsize = (15, 8 ), fontsize = 13)\n",
    "plt.legend(fontsize = 13)\n",
    "plt.show()"
   ]
  },
  {
   "cell_type": "code",
   "execution_count": null,
   "metadata": {},
   "outputs": [],
   "source": []
  },
  {
   "cell_type": "markdown",
   "metadata": {},
   "source": [
    "## The shift() method"
   ]
  },
  {
   "cell_type": "code",
   "execution_count": null,
   "metadata": {},
   "outputs": [],
   "source": [
    "close.head()"
   ]
  },
  {
   "cell_type": "code",
   "execution_count": null,
   "metadata": {},
   "outputs": [],
   "source": [
    "aapl = close.AAPL.copy().to_frame()"
   ]
  },
  {
   "cell_type": "code",
   "execution_count": null,
   "metadata": {},
   "outputs": [],
   "source": [
    "aapl.head()"
   ]
  },
  {
   "cell_type": "code",
   "execution_count": null,
   "metadata": {
    "scrolled": true
   },
   "outputs": [],
   "source": [
    "aapl.shift(periods = 1)"
   ]
  },
  {
   "cell_type": "code",
   "execution_count": null,
   "metadata": {},
   "outputs": [],
   "source": [
    "aapl[\"lag1\"] = aapl.shift(periods = 1)"
   ]
  },
  {
   "cell_type": "code",
   "execution_count": null,
   "metadata": {
    "scrolled": true
   },
   "outputs": [],
   "source": [
    "aapl.head()"
   ]
  },
  {
   "cell_type": "code",
   "execution_count": null,
   "metadata": {
    "scrolled": true
   },
   "outputs": [],
   "source": [
    "aapl.AAPL.sub(aapl.lag1)"
   ]
  },
  {
   "cell_type": "code",
   "execution_count": null,
   "metadata": {},
   "outputs": [],
   "source": [
    "aapl[\"Diff\"] = aapl.AAPL.sub(aapl.lag1)"
   ]
  },
  {
   "cell_type": "code",
   "execution_count": null,
   "metadata": {},
   "outputs": [],
   "source": [
    "aapl.head()"
   ]
  },
  {
   "cell_type": "code",
   "execution_count": null,
   "metadata": {
    "scrolled": true
   },
   "outputs": [],
   "source": [
    "aapl.AAPL.div(aapl.lag1).sub(1).mul(100)"
   ]
  },
  {
   "cell_type": "code",
   "execution_count": null,
   "metadata": {},
   "outputs": [],
   "source": [
    "aapl[\"pct_change\"] = aapl.AAPL.div(aapl.lag1).sub(1).mul(100)"
   ]
  },
  {
   "cell_type": "code",
   "execution_count": null,
   "metadata": {
    "scrolled": true
   },
   "outputs": [],
   "source": [
    "aapl.head()"
   ]
  },
  {
   "cell_type": "code",
   "execution_count": null,
   "metadata": {},
   "outputs": [],
   "source": []
  },
  {
   "cell_type": "markdown",
   "metadata": {},
   "source": [
    "## The methods diff() and pct_change()"
   ]
  },
  {
   "cell_type": "code",
   "execution_count": null,
   "metadata": {},
   "outputs": [],
   "source": [
    "aapl.head()"
   ]
  },
  {
   "cell_type": "code",
   "execution_count": null,
   "metadata": {
    "scrolled": true
   },
   "outputs": [],
   "source": [
    "aapl.AAPL.diff(periods = 2)"
   ]
  },
  {
   "cell_type": "code",
   "execution_count": null,
   "metadata": {
    "scrolled": true
   },
   "outputs": [],
   "source": [
    "aapl[\"Diff2\"] = aapl.AAPL.diff(periods = 1)"
   ]
  },
  {
   "cell_type": "code",
   "execution_count": null,
   "metadata": {},
   "outputs": [],
   "source": [
    "aapl.head(10)"
   ]
  },
  {
   "cell_type": "code",
   "execution_count": null,
   "metadata": {},
   "outputs": [],
   "source": [
    "aapl.Diff.equals(aapl.Diff2)"
   ]
  },
  {
   "cell_type": "code",
   "execution_count": null,
   "metadata": {},
   "outputs": [],
   "source": [
    "aapl[\"pct_change2\"] = aapl.AAPL.pct_change(periods = 1).mul(100)"
   ]
  },
  {
   "cell_type": "code",
   "execution_count": null,
   "metadata": {},
   "outputs": [],
   "source": [
    "aapl.head()"
   ]
  },
  {
   "cell_type": "code",
   "execution_count": null,
   "metadata": {
    "scrolled": true
   },
   "outputs": [],
   "source": [
    "aapl.AAPL.resample(\"BM\").last().pct_change(periods =1).mul(100)"
   ]
  },
  {
   "cell_type": "code",
   "execution_count": null,
   "metadata": {},
   "outputs": [],
   "source": []
  },
  {
   "cell_type": "markdown",
   "metadata": {},
   "source": [
    "## Measuring Stock Perfromance with MEAN Return and STD of Returns"
   ]
  },
  {
   "cell_type": "code",
   "execution_count": null,
   "metadata": {},
   "outputs": [],
   "source": [
    "import numpy as np"
   ]
  },
  {
   "cell_type": "code",
   "execution_count": null,
   "metadata": {},
   "outputs": [],
   "source": [
    "aapl = close.AAPL.copy().to_frame()"
   ]
  },
  {
   "cell_type": "code",
   "execution_count": null,
   "metadata": {},
   "outputs": [],
   "source": [
    "aapl.head()"
   ]
  },
  {
   "cell_type": "code",
   "execution_count": null,
   "metadata": {
    "scrolled": true
   },
   "outputs": [],
   "source": [
    "aapl.pct_change().dropna()"
   ]
  },
  {
   "cell_type": "code",
   "execution_count": null,
   "metadata": {},
   "outputs": [],
   "source": [
    "ret = aapl.pct_change().dropna()\n",
    "ret.head()"
   ]
  },
  {
   "cell_type": "code",
   "execution_count": null,
   "metadata": {},
   "outputs": [],
   "source": [
    "ret.info()"
   ]
  },
  {
   "cell_type": "code",
   "execution_count": null,
   "metadata": {},
   "outputs": [],
   "source": [
    "ret.plot(kind = \"hist\", figsize = (12 ,8), bins = 100)\n",
    "plt.show()"
   ]
  },
  {
   "cell_type": "code",
   "execution_count": null,
   "metadata": {},
   "outputs": [],
   "source": [
    "daily_mean_Return = ret.mean()\n",
    "daily_mean_Return"
   ]
  },
  {
   "cell_type": "code",
   "execution_count": null,
   "metadata": {},
   "outputs": [],
   "source": [
    "var_daily_Returns = ret.var()\n",
    "var_daily_Returns"
   ]
  },
  {
   "cell_type": "code",
   "execution_count": null,
   "metadata": {},
   "outputs": [],
   "source": [
    "std_daily_Returns = np.sqrt(var_daily_Returns)\n",
    "std_daily_Returns"
   ]
  },
  {
   "cell_type": "code",
   "execution_count": null,
   "metadata": {},
   "outputs": [],
   "source": [
    "ret.std()"
   ]
  },
  {
   "cell_type": "code",
   "execution_count": null,
   "metadata": {},
   "outputs": [],
   "source": [
    "ann_mean_Return = ret.mean() * 252\n",
    "ann_mean_Return"
   ]
  },
  {
   "cell_type": "code",
   "execution_count": null,
   "metadata": {},
   "outputs": [],
   "source": [
    "ann_var_Returns = ret.var() * 252\n",
    "ann_var_Returns"
   ]
  },
  {
   "cell_type": "code",
   "execution_count": null,
   "metadata": {},
   "outputs": [],
   "source": [
    "ann_std_Returns = np.sqrt(ann_var_Returns)\n",
    "ann_std_Returns"
   ]
  },
  {
   "cell_type": "code",
   "execution_count": null,
   "metadata": {},
   "outputs": [],
   "source": [
    "ret.std() * np.sqrt(252)"
   ]
  },
  {
   "cell_type": "code",
   "execution_count": null,
   "metadata": {},
   "outputs": [],
   "source": []
  },
  {
   "cell_type": "markdown",
   "metadata": {},
   "source": [
    "## Financial Time Series - Return and Risk"
   ]
  },
  {
   "cell_type": "code",
   "execution_count": null,
   "metadata": {},
   "outputs": [],
   "source": [
    "import numpy as np"
   ]
  },
  {
   "cell_type": "code",
   "execution_count": null,
   "metadata": {},
   "outputs": [],
   "source": [
    "norm.plot(figsize = (15, 8 ), fontsize = 13)\n",
    "plt.legend(fontsize = 13)\n",
    "plt.show()"
   ]
  },
  {
   "cell_type": "code",
   "execution_count": null,
   "metadata": {},
   "outputs": [],
   "source": [
    "close.head()"
   ]
  },
  {
   "cell_type": "code",
   "execution_count": null,
   "metadata": {
    "scrolled": true
   },
   "outputs": [],
   "source": [
    "close.pct_change().dropna()"
   ]
  },
  {
   "cell_type": "code",
   "execution_count": null,
   "metadata": {},
   "outputs": [],
   "source": [
    "ret = close.pct_change().dropna()"
   ]
  },
  {
   "cell_type": "code",
   "execution_count": null,
   "metadata": {},
   "outputs": [],
   "source": [
    "ret.head()"
   ]
  },
  {
   "cell_type": "code",
   "execution_count": null,
   "metadata": {
    "scrolled": true
   },
   "outputs": [],
   "source": [
    "ret.describe().T.loc[:, [\"mean\", \"std\"]]"
   ]
  },
  {
   "cell_type": "code",
   "execution_count": null,
   "metadata": {
    "scrolled": true
   },
   "outputs": [],
   "source": [
    "summary = ret.describe().T.loc[:, [\"mean\", \"std\"]]\n",
    "summary"
   ]
  },
  {
   "cell_type": "code",
   "execution_count": null,
   "metadata": {},
   "outputs": [],
   "source": [
    "summary[\"mean\"] = summary[\"mean\"]*252\n",
    "summary[\"std\"] = summary[\"std\"] * np.sqrt(252)"
   ]
  },
  {
   "cell_type": "code",
   "execution_count": null,
   "metadata": {
    "scrolled": true
   },
   "outputs": [],
   "source": [
    "summary"
   ]
  },
  {
   "cell_type": "code",
   "execution_count": null,
   "metadata": {},
   "outputs": [],
   "source": [
    "summary.plot(kind = \"scatter\", x = \"std\", y = \"mean\", figsize = (15,12), s = 50, fontsize = 15)\n",
    "for i in summary.index:\n",
    "    plt.annotate(i, xy=(summary.loc[i, \"std\"]+0.002, summary.loc[i, \"mean\"]+0.002), size = 15)\n",
    "plt.xlabel(\"ann. Risk(std)\", fontsize = 15)\n",
    "plt.ylabel(\"ann. Return\", fontsize = 15)\n",
    "plt.title(\"Risk/Return\", fontsize = 20)\n",
    "plt.show()"
   ]
  },
  {
   "cell_type": "code",
   "execution_count": null,
   "metadata": {},
   "outputs": [],
   "source": []
  },
  {
   "cell_type": "markdown",
   "metadata": {},
   "source": [
    "## Financial Time Series - Covariance and Correlation"
   ]
  },
  {
   "cell_type": "code",
   "execution_count": null,
   "metadata": {},
   "outputs": [],
   "source": [
    "ret.head()"
   ]
  },
  {
   "cell_type": "code",
   "execution_count": null,
   "metadata": {},
   "outputs": [],
   "source": [
    "ret.cov()"
   ]
  },
  {
   "cell_type": "code",
   "execution_count": null,
   "metadata": {},
   "outputs": [],
   "source": [
    "ret.corr()"
   ]
  },
  {
   "cell_type": "code",
   "execution_count": null,
   "metadata": {},
   "outputs": [],
   "source": [
    "import seaborn as sns"
   ]
  },
  {
   "cell_type": "code",
   "execution_count": null,
   "metadata": {},
   "outputs": [],
   "source": [
    "plt.figure(figsize=(12,8))\n",
    "sns.set(font_scale=1.4)\n",
    "sns.heatmap(ret.corr(), cmap = \"Reds\", annot = True, annot_kws={\"size\":15}, vmax = 0.6)\n",
    "plt.show()"
   ]
  },
  {
   "cell_type": "code",
   "execution_count": null,
   "metadata": {},
   "outputs": [],
   "source": []
  },
  {
   "cell_type": "markdown",
   "metadata": {},
   "source": [
    "## Simple Returns vs. Log Returns"
   ]
  },
  {
   "cell_type": "code",
   "execution_count": null,
   "metadata": {},
   "outputs": [],
   "source": [
    "import pandas as pd\n",
    "import numpy as np"
   ]
  },
  {
   "cell_type": "code",
   "execution_count": null,
   "metadata": {},
   "outputs": [],
   "source": [
    "df = pd.DataFrame(index = [2016, 2017, 2018], data = [100, 50, 95], columns = [\"Price\"])"
   ]
  },
  {
   "cell_type": "code",
   "execution_count": null,
   "metadata": {},
   "outputs": [],
   "source": [
    "df"
   ]
  },
  {
   "cell_type": "code",
   "execution_count": null,
   "metadata": {},
   "outputs": [],
   "source": [
    "simple_returns = df.pct_change().dropna()\n",
    "simple_returns"
   ]
  },
  {
   "cell_type": "code",
   "execution_count": null,
   "metadata": {},
   "outputs": [],
   "source": [
    "simple_returns.mean()"
   ]
  },
  {
   "cell_type": "code",
   "execution_count": null,
   "metadata": {},
   "outputs": [],
   "source": [
    "100 * 1.2 * 1.2"
   ]
  },
  {
   "cell_type": "code",
   "execution_count": null,
   "metadata": {},
   "outputs": [],
   "source": [
    "df"
   ]
  },
  {
   "cell_type": "code",
   "execution_count": null,
   "metadata": {},
   "outputs": [],
   "source": [
    "np.log(df / df.shift(1))"
   ]
  },
  {
   "cell_type": "code",
   "execution_count": null,
   "metadata": {},
   "outputs": [],
   "source": [
    "log_returns = np.log(df / df.shift(1)).dropna()"
   ]
  },
  {
   "cell_type": "code",
   "execution_count": null,
   "metadata": {},
   "outputs": [],
   "source": [
    "log_returns"
   ]
  },
  {
   "cell_type": "code",
   "execution_count": null,
   "metadata": {},
   "outputs": [],
   "source": [
    "log_returns.mean()"
   ]
  },
  {
   "cell_type": "code",
   "execution_count": null,
   "metadata": {},
   "outputs": [],
   "source": [
    "100 * np.exp(2 * log_returns.mean())"
   ]
  },
  {
   "cell_type": "code",
   "execution_count": null,
   "metadata": {},
   "outputs": [],
   "source": []
  },
  {
   "cell_type": "markdown",
   "metadata": {},
   "source": [
    "## Importing Financial Data from Excel"
   ]
  },
  {
   "cell_type": "code",
   "execution_count": null,
   "metadata": {},
   "outputs": [],
   "source": [
    "import pandas as pd"
   ]
  },
  {
   "cell_type": "code",
   "execution_count": null,
   "metadata": {
    "scrolled": true
   },
   "outputs": [],
   "source": [
    "pd.read_excel(\"SP500.xls\").info()"
   ]
  },
  {
   "cell_type": "code",
   "execution_count": null,
   "metadata": {
    "scrolled": true
   },
   "outputs": [],
   "source": [
    "pd.read_excel(\"SP500.xls\", parse_dates= [\"Date\"], index_col = \"Date\")"
   ]
  },
  {
   "cell_type": "code",
   "execution_count": null,
   "metadata": {
    "scrolled": true
   },
   "outputs": [],
   "source": [
    "pd.read_excel(\"SP500.xls\", parse_dates= [\"Date\"], index_col = \"Date\", usecols = \"A, C:E\")"
   ]
  },
  {
   "cell_type": "code",
   "execution_count": null,
   "metadata": {
    "scrolled": true
   },
   "outputs": [],
   "source": [
    "pd.read_excel(\"SP500.xls\", sheet_name= \"Sales\")"
   ]
  },
  {
   "cell_type": "code",
   "execution_count": null,
   "metadata": {},
   "outputs": [],
   "source": [
    "SP500 = pd.read_excel(\"SP500.xls\", parse_dates= [\"Date\"], index_col = \"Date\", usecols= \"A:E\")"
   ]
  },
  {
   "cell_type": "code",
   "execution_count": null,
   "metadata": {
    "scrolled": true
   },
   "outputs": [],
   "source": [
    "SP500.head()"
   ]
  },
  {
   "cell_type": "code",
   "execution_count": null,
   "metadata": {},
   "outputs": [],
   "source": [
    "SP500.tail()"
   ]
  },
  {
   "cell_type": "code",
   "execution_count": null,
   "metadata": {},
   "outputs": [],
   "source": [
    "SP500.info()"
   ]
  },
  {
   "cell_type": "code",
   "execution_count": null,
   "metadata": {},
   "outputs": [],
   "source": [
    "SP500.to_csv(\"SP500.csv\")"
   ]
  },
  {
   "cell_type": "code",
   "execution_count": null,
   "metadata": {},
   "outputs": [],
   "source": [
    "SP500.to_excel(\"SP500_red.xls\")"
   ]
  },
  {
   "cell_type": "code",
   "execution_count": null,
   "metadata": {},
   "outputs": [],
   "source": []
  },
  {
   "cell_type": "markdown",
   "metadata": {},
   "source": [
    "## Simple Moving Averages (SMA) with rolling()"
   ]
  },
  {
   "cell_type": "code",
   "execution_count": null,
   "metadata": {},
   "outputs": [],
   "source": [
    "import pandas as pd\n",
    "import matplotlib.pyplot as plt \n",
    "plt.style.use(\"seaborn\")"
   ]
  },
  {
   "cell_type": "code",
   "execution_count": null,
   "metadata": {},
   "outputs": [],
   "source": [
    "SP500 = pd.read_csv(\"SP500.csv\", parse_dates = [\"Date\"], index_col = \"Date\")"
   ]
  },
  {
   "cell_type": "code",
   "execution_count": null,
   "metadata": {},
   "outputs": [],
   "source": [
    "SP500.head()"
   ]
  },
  {
   "cell_type": "code",
   "execution_count": null,
   "metadata": {},
   "outputs": [],
   "source": [
    "SP500.tail()"
   ]
  },
  {
   "cell_type": "code",
   "execution_count": null,
   "metadata": {},
   "outputs": [],
   "source": [
    "SP500.info()"
   ]
  },
  {
   "cell_type": "code",
   "execution_count": null,
   "metadata": {},
   "outputs": [],
   "source": [
    "SP500 = SP500.Close.to_frame()"
   ]
  },
  {
   "cell_type": "code",
   "execution_count": null,
   "metadata": {},
   "outputs": [],
   "source": [
    "SP500.head()"
   ]
  },
  {
   "cell_type": "code",
   "execution_count": null,
   "metadata": {
    "scrolled": false
   },
   "outputs": [],
   "source": [
    "SP500.plot(figsize = (12,8), fontsize= 15)\n",
    "plt.legend(loc = \"upper left\", fontsize = 15)\n",
    "plt.show()"
   ]
  },
  {
   "cell_type": "code",
   "execution_count": null,
   "metadata": {},
   "outputs": [],
   "source": [
    "SP500 = SP500.loc[\"2008-12-31\":\"2018-12-31\"].copy()"
   ]
  },
  {
   "cell_type": "code",
   "execution_count": null,
   "metadata": {},
   "outputs": [],
   "source": [
    "SP500.rolling(window = 10)"
   ]
  },
  {
   "cell_type": "code",
   "execution_count": null,
   "metadata": {},
   "outputs": [],
   "source": [
    "type(SP500.rolling(window = 10))"
   ]
  },
  {
   "cell_type": "code",
   "execution_count": null,
   "metadata": {},
   "outputs": [],
   "source": [
    "SP500.head(15)"
   ]
  },
  {
   "cell_type": "code",
   "execution_count": null,
   "metadata": {
    "scrolled": true
   },
   "outputs": [],
   "source": [
    "SP500.rolling(window = 10).mean()"
   ]
  },
  {
   "cell_type": "code",
   "execution_count": null,
   "metadata": {
    "scrolled": true
   },
   "outputs": [],
   "source": [
    "SP500.rolling(window = 10).median()"
   ]
  },
  {
   "cell_type": "code",
   "execution_count": null,
   "metadata": {
    "scrolled": true
   },
   "outputs": [],
   "source": [
    "SP500.rolling(window = 10, min_periods=5).mean()"
   ]
  },
  {
   "cell_type": "code",
   "execution_count": null,
   "metadata": {},
   "outputs": [],
   "source": []
  },
  {
   "cell_type": "markdown",
   "metadata": {},
   "source": [
    "## Momentum Trading Strategies with SMAs"
   ]
  },
  {
   "cell_type": "code",
   "execution_count": null,
   "metadata": {},
   "outputs": [],
   "source": [
    "SP500.head()"
   ]
  },
  {
   "cell_type": "code",
   "execution_count": null,
   "metadata": {},
   "outputs": [],
   "source": [
    "SP500.tail()"
   ]
  },
  {
   "cell_type": "code",
   "execution_count": null,
   "metadata": {},
   "outputs": [],
   "source": [
    "SP500[\"SMA50\"] = SP500.rolling(window = 50, min_periods=50).mean()"
   ]
  },
  {
   "cell_type": "code",
   "execution_count": null,
   "metadata": {
    "scrolled": true
   },
   "outputs": [],
   "source": [
    "SP500"
   ]
  },
  {
   "cell_type": "code",
   "execution_count": null,
   "metadata": {},
   "outputs": [],
   "source": [
    "SP500.plot(figsize = (12, 8), fontsize = 15)\n",
    "plt.legend(loc = \"upper left\", fontsize = 15)\n",
    "plt.show()"
   ]
  },
  {
   "cell_type": "code",
   "execution_count": null,
   "metadata": {},
   "outputs": [],
   "source": [
    "SP500[\"SMA200\"] = SP500.Close.rolling(window = 200).mean()"
   ]
  },
  {
   "cell_type": "code",
   "execution_count": null,
   "metadata": {},
   "outputs": [],
   "source": [
    "SP500.tail()"
   ]
  },
  {
   "cell_type": "code",
   "execution_count": null,
   "metadata": {},
   "outputs": [],
   "source": [
    "SP500.info()"
   ]
  },
  {
   "cell_type": "code",
   "execution_count": null,
   "metadata": {},
   "outputs": [],
   "source": [
    "SP500.plot(figsize = (15,10), fontsize= 15)\n",
    "plt.legend(fontsize = 15)\n",
    "plt.show()"
   ]
  },
  {
   "cell_type": "code",
   "execution_count": null,
   "metadata": {},
   "outputs": [],
   "source": [
    "SP500.iloc[:,-2:].plot(figsize = (15,10), fontsize= 15)\n",
    "plt.legend(fontsize = 15)\n",
    "plt.show()"
   ]
  },
  {
   "cell_type": "code",
   "execution_count": null,
   "metadata": {},
   "outputs": [],
   "source": []
  },
  {
   "cell_type": "markdown",
   "metadata": {},
   "source": [
    "## Exponentially-weighted Moving Averages (EWMA)\n"
   ]
  },
  {
   "cell_type": "code",
   "execution_count": null,
   "metadata": {},
   "outputs": [],
   "source": [
    "import pandas as pd\n",
    "import matplotlib.pyplot as plt\n",
    "plt.style.use(\"seaborn\")"
   ]
  },
  {
   "cell_type": "code",
   "execution_count": null,
   "metadata": {},
   "outputs": [],
   "source": [
    "SP500 = pd.read_csv(\"SP500.csv\", parse_dates= [\"Date\"], index_col= \"Date\", usecols= [\"Date\", \"Close\"])"
   ]
  },
  {
   "cell_type": "code",
   "execution_count": null,
   "metadata": {},
   "outputs": [],
   "source": [
    "SP500.head()"
   ]
  },
  {
   "cell_type": "code",
   "execution_count": null,
   "metadata": {},
   "outputs": [],
   "source": [
    "SP500 = SP500.loc[\"2008-12-31\":\"2018-12-31\"].copy()"
   ]
  },
  {
   "cell_type": "code",
   "execution_count": null,
   "metadata": {
    "scrolled": true
   },
   "outputs": [],
   "source": [
    "SP500.Close.rolling(window = 10).mean()"
   ]
  },
  {
   "cell_type": "code",
   "execution_count": null,
   "metadata": {
    "scrolled": true
   },
   "outputs": [],
   "source": [
    "SP500.Close.ewm(span = 10, min_periods= 10).mean()"
   ]
  },
  {
   "cell_type": "code",
   "execution_count": null,
   "metadata": {},
   "outputs": [],
   "source": [
    "SP500[\"SMA\"] = SP500.Close.rolling(window = 100).mean()\n",
    "SP500[\"EMA\"] = SP500.Close.ewm(span = 100, min_periods= 100).mean()"
   ]
  },
  {
   "cell_type": "code",
   "execution_count": null,
   "metadata": {
    "scrolled": true
   },
   "outputs": [],
   "source": [
    "SP500"
   ]
  },
  {
   "cell_type": "code",
   "execution_count": null,
   "metadata": {
    "scrolled": false
   },
   "outputs": [],
   "source": [
    "SP500.iloc[:,-2:].plot(figsize = (15,10), fontsize =15)\n",
    "plt.legend(fontsize = 15)\n",
    "plt.show()"
   ]
  },
  {
   "cell_type": "code",
   "execution_count": null,
   "metadata": {},
   "outputs": [],
   "source": []
  },
  {
   "cell_type": "markdown",
   "metadata": {},
   "source": [
    "### Merging Time Series"
   ]
  },
  {
   "cell_type": "code",
   "execution_count": null,
   "metadata": {},
   "outputs": [],
   "source": [
    "import pandas as pd"
   ]
  },
  {
   "cell_type": "code",
   "execution_count": null,
   "metadata": {},
   "outputs": [],
   "source": [
    "stocks = pd.read_csv(\"stocks.csv\", header = [0,1], index_col= [0], parse_dates= [0]).Close"
   ]
  },
  {
   "cell_type": "code",
   "execution_count": null,
   "metadata": {},
   "outputs": [],
   "source": [
    "stocks.head()"
   ]
  },
  {
   "cell_type": "code",
   "execution_count": null,
   "metadata": {},
   "outputs": [],
   "source": [
    "aapl = stocks.loc[\"2010-01-01\" : \"2014-12-31\", \"AAPL\"].to_frame()\n",
    "aapl.head()"
   ]
  },
  {
   "cell_type": "code",
   "execution_count": null,
   "metadata": {},
   "outputs": [],
   "source": [
    "ba = stocks.loc[\"2012-01-01\" : \"2016-12-31\", \"BA\"].to_frame()\n",
    "ba.head()"
   ]
  },
  {
   "cell_type": "code",
   "execution_count": null,
   "metadata": {},
   "outputs": [],
   "source": [
    "aapl[\"BA\"] = ba.BA"
   ]
  },
  {
   "cell_type": "code",
   "execution_count": null,
   "metadata": {},
   "outputs": [],
   "source": [
    "aapl.head()"
   ]
  },
  {
   "cell_type": "code",
   "execution_count": null,
   "metadata": {},
   "outputs": [],
   "source": [
    "aapl.tail()"
   ]
  },
  {
   "cell_type": "code",
   "execution_count": null,
   "metadata": {
    "scrolled": true
   },
   "outputs": [],
   "source": [
    "aapl.dropna()"
   ]
  },
  {
   "cell_type": "code",
   "execution_count": null,
   "metadata": {
    "scrolled": true
   },
   "outputs": [],
   "source": [
    "ba.reindex(aapl.index).dropna()"
   ]
  },
  {
   "cell_type": "code",
   "execution_count": null,
   "metadata": {},
   "outputs": [],
   "source": [
    "dis = stocks.loc[\"2010-01-01\" : \"2016-12-31\", \"DIS\"].resample(\"W-Fri\").last().to_frame()\n",
    "dis.head()"
   ]
  },
  {
   "cell_type": "code",
   "execution_count": null,
   "metadata": {
    "scrolled": true
   },
   "outputs": [],
   "source": [
    "aapl.head()"
   ]
  },
  {
   "cell_type": "code",
   "execution_count": null,
   "metadata": {},
   "outputs": [],
   "source": [
    "aapl[\"DIS\"] = dis.DIS"
   ]
  },
  {
   "cell_type": "code",
   "execution_count": null,
   "metadata": {},
   "outputs": [],
   "source": [
    "aapl.head(10)"
   ]
  },
  {
   "cell_type": "code",
   "execution_count": null,
   "metadata": {
    "scrolled": true
   },
   "outputs": [],
   "source": [
    "dis.reindex(aapl.index)"
   ]
  },
  {
   "cell_type": "code",
   "execution_count": null,
   "metadata": {},
   "outputs": [],
   "source": [
    "dis[\"AAPL\"] = aapl.AAPL"
   ]
  },
  {
   "cell_type": "code",
   "execution_count": null,
   "metadata": {},
   "outputs": [],
   "source": [
    "dis.head(10)"
   ]
  },
  {
   "cell_type": "code",
   "execution_count": null,
   "metadata": {},
   "outputs": [],
   "source": []
  }
 ],
 "metadata": {
  "kernelspec": {
   "display_name": "Python 3",
   "language": "python",
   "name": "python3"
  },
  "language_info": {
   "codemirror_mode": {
    "name": "ipython",
    "version": 3
   },
   "file_extension": ".py",
   "mimetype": "text/x-python",
   "name": "python",
   "nbconvert_exporter": "python",
   "pygments_lexer": "ipython3",
   "version": "3.10.10"
  },
  "vscode": {
   "interpreter": {
    "hash": "8934ceef4d64476478d2948e37a703271a4f0c64a56cf59c2ad253df468db548"
   }
  }
 },
 "nbformat": 4,
 "nbformat_minor": 2
}
