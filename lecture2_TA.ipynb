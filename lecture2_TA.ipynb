{
 "cells": [
  {
   "attachments": {},
   "cell_type": "markdown",
   "metadata": {},
   "source": [
    "# __Technical Analysis__ : Theory and Use Cases"
   ]
  },
  {
   "attachments": {},
   "cell_type": "markdown",
   "metadata": {},
   "source": [
    "### __1. Technical Analysis vs. Fundamental Analysis__\n",
    "| |__Technical Analysis(TA)__|__Fundamental Analysis(FA)__|\n",
    "|-------|-------|-------|\n",
    "__Required Data__|Historical Prices and Trading Volume|Financial Statement & News\n",
    "__Prices driven by...|Supply and Demand(Buy and Sell)|Intrinsic (Fair) Value\n",
    "||- Data is available and observable|- More data & restatements required\n",
    "||- No accounting knowledge required|- Solid accounting skills required\n",
    "||- \"Pseudoscience\" for practitioners|- Well embedded in Academics\n",
    "|__Pros and Cons__|- Only when price/volume data is observable in the market(liquid)|- Works equally well for illiquid assets and markets\n",
    "||- less useful when prices are subject to outside manipulation(central bank)|- takes into account outside manipulation\n",
    "__Empirical Evidence__|Mixed\n",
    "__Theory__|TA and FA disputed by the Efficient Market Hypothisis(EMH)\n",
    "__Conclusion__|Use TA and FA together (and not \"either..or\")\n"
   ]
  },
  {
   "attachments": {},
   "cell_type": "markdown",
   "metadata": {},
   "source": [
    "- 기술적 분석을 위해서는 과거의 가격 및 거래량 데이터만 있으면 되는데 오늘날 이러한 데이터를 얻기는 매우 쉬움\n",
    "    - 기술적 분석가들은 가격이 공급에 의해 결정된다는 믿음을 가짐\n",
    "    - 팔고자 하는 거래자가 더 많다면 가격은 떨어질 것이고 사고자 하는 거래자가 더 많으면 가격은 오를 정\n",
    "    - 기술적 분석가들은 가격이 모든 거래자의 영향을 받는다고 가정\n",
    "    - 회계에 대한 어떠한 지식이나 기술이 필요 없음\n",
    "    - 트레이딩의 양상이 기본적 요소에 의해 결정되든, 심리나 직관, 혹은 다른 무엇에 의해 결정되든 중요하지 않음\n",
    "    - 가격 및 거래량 데이터를 관측할 수 있는 유동적인 시장에서만 효과를 발휘함\n",
    "    - 가격이 외부에 의해 조작될 때 유용성이 떨어짐\n",
    "      - 조작은 불법적인 조작이 아닌, 수요와 공급에 의해서만 결정되지 않는 외부의 요인을 뜻함\n",
    "      - 예시) 중앙은행이 금리를 올리거나 내리기로 결정하는 경우\n",
    "- 기본적 분석을 위해서는 대차대조표, 손익계산서, 현금흐름표 등 재무제표에서 추출한 데이터를 사용\n",
    "    - 분석가들은 수익성 비율, 유동성 비율 등을 계산\n",
    "    - 기타 회사 뉴스와 경제 상황 등을 고려\n",
    "    - 기본적 분석가들은 재무제표를 분석하고 기본적 요소를 바탕으로 소위 내재가치를 추정하며 가격은 주로 내재가치에 따라 움직인다고 가정함\n",
    "      - 내재가치는 금융학에서 가장 중요한 개념\n",
    "    - 따라서 만약 주식의 가격이 공정가치보다 높으면 가격이 떨어질 것으로 예상함\n",
    "    - 가격이 주로 기본적 거래자에 의해 움직인다고 가정\n",
    "    - 기본적 분석가들은 탄탄한 회계 기술이 필요함\n",
    "    - 비유동 자산 및 비유동 시장에서 똑같이 효과를 발휘할 수 있음\n",
    "    - 외부 요인(중앙은행의 결정 등) 또한 고려함"
   ]
  },
  {
   "attachments": {},
   "cell_type": "markdown",
   "metadata": {},
   "source": [
    "### __2. Technical Analysis and Efficient Market Hypothesis__"
   ]
  },
  {
   "attachments": {},
   "cell_type": "markdown",
   "metadata": {},
   "source": [
    "#### - EMH는 단지 가설일 뿐이므로 완전히 부정하거나 완전히 동의할 수 없음\n",
    "\n",
    "|__Technical Analysis__|EMH|\n",
    "|:----:|:----:|\n",
    "|Technical Analysis is a methodology to forecast prices through the study of historical price and volume data. it attempt to exploit patterns and trends to make (abnormal) profits.|Financial Markets are information efficient. Current Prices fully, quickly and rationally reflect all (publicly) available information. Trader can't make (abnormal) profits.|\n",
    "|\"Technical Traders can beat the market.\"|\"Technical Traders can't beat the market.\"|\n",
    "\n",
    "- Uderlying assumptions of EMH do not hold:\n",
    "    - not all market participants have full access to all available information\n",
    "    - Market Participants do not act 100% rationally (Behavioral Finance)\n",
    "- EMH는 모든 거래자가 이용 가능한 모든 정보에 접근할 수 있고 그 정보를 사용할 수 있다고 가정함\n",
    "- 모든 거래자가 100% 이성적으로 거래한다고 생각함.\n",
    "\n",
    "- 시장에 비합리적인 행동이 작용하는 한 잘못 평가된 상품은 언제나 존재할 것임\n",
    "- 기술적/기본적 분석가가 초과 이익을 얻을 수 있는 기회 또한 언제든 존재할 것임"
   ]
  },
  {
   "attachments": {},
   "cell_type": "markdown",
   "metadata": {},
   "source": [
    "### __3. Technical Analysis - Dos and Don'ts__"
   ]
  },
  {
   "attachments": {},
   "cell_type": "markdown",
   "metadata": {},
   "source": [
    "#### 1. Proper use cases for Technical Analysis\n",
    "- 사람들은 자신의 믿음을 확인할 수 있는 정보를 찾는 경향이 있음\n",
    "- Confirmation Bias: We can always find one/serveral indicator(s) that to explain the past or support the story that we want to tell.\n",
    "- 10개의 기술적 지표를 고려할 경우 4개의 지표는 가격이 상승할 것을, 3개의 지표는 분명한 단서를 제공하지 못하며, 나머지 지표는 정확히 반대를 나타낸다고 할 때\n",
    "  - 이 중 과거를 정확히 설명하거나 우리가 원하는 이야기를 뒷받침하는 지표를 골라내는 것은 별로 유용하지 않음\n",
    "- Overconfidence Bias: We can't accurately forecast prices/trends for single events. Traders frequently overstate prediction power of TA(EMH)\n",
    "  - 기술적 분석으로 우리가 얻을 수 있는 것은 작은 경쟁 우위를 확보하는 것\n",
    "  - 몇가지 기술적 분석 지표와 기본적 분석 등의 다른 도구를 함께 고려해야 함\n",
    "  - 트레이딩 전략을 백테스팅하며 성과와 리스크를 면밀히 모니터링하고 측정해야 함\n",
    "  - 가장 중요한 것은 기간이 점차 길어지고 트레이딜 결정을 여러번 거치면서 더 강력한 경쟁 우위를 확보할 수 있음\n",
    "\n",
    "##### How to capitalize on insights from Technical Analysis\n",
    "- 데이 트레이딩을 하는 사람든 보통 기술적 분석을 사용해 시장에서 이익을 냄\n",
    "- (Algotithmic) Day Trading: Buying and Selling instruments \n",
    "  - 같은 거래일에 상품을 여러 번 사고팔며 이 과정을 자동화하기 위해 알고리즘 트레이딩을 이용함\n",
    "  - (알고리즘)데이트레이딩의 일반적인 규칙\n",
    "    1) 기술적 분석에서 상승 신호가 발견되는 경우 상품을 사야 함\n",
    "    - Bullish Signal : Buy the Instrument (\"long position\")\n",
    "    - 가격이 상승하면 이득을 보고 가격이 하락하면 손해를 봄\n",
    "    2) 하락신호가 발견되는 경우 두 가지 경우를 구분\n",
    "    - Bearish Signal \n",
    "      - if \"long-only\": Sell/Close long position(\"neutral\")\n",
    "        - 상품이나 거래자의 위치에 따라 공매도가 금지되는경우도 있음\n",
    "        - 하락 신호가 발견되면 상품을 팔아 롱 포지션을 청산하고 중립 포지션으로 갸야각\n",
    "        - 단점 : 가격이 하락할 때 이득을 볼 수 없고, 가격이 상승할 때만 이득을 볼 수 있음\n",
    "      - if \"short-selling\" is available: Sell and take \"short position\"\n",
    "        - 가격이 상승하면 손해를 보고 가격이 하락하면 이득을 봄\n",
    "    3) 신호가 분명하지 않거나 애매한 경우 \n",
    "    - Unclear/ambiguous Signal : Stay neutral or go neutral(no position)\n",
    "    - 중립을 유지하거나 중립으로 가야 함\n",
    "    - 어느 포지션도 취하지 않게 되어 가격 상승 또는 하락에 상관없이 어떠한 이득이나 손해를 보지 않게 됨\n",
    "- 기술적 분석을 통해 이득을 얻기 위해 요구되는 특성 (Desired Characteristics)\n",
    "  - allow 'short-selling' to capitalize on bullish and bearish signals\n",
    "  - low trading/transaction costs\n",
    "  - high price volatility\n",
    "  --> Forex and CFD Instruments"
   ]
  },
  {
   "attachments": {},
   "cell_type": "markdown",
   "metadata": {},
   "source": [
    "#### Trading Strategies -an Overview\n",
    "\n",
    "<img src=\"Trading Strategies.png\">\n",
    "\n",
    "- 우리는 항상 데이터를 가지고 있음\n",
    "    - 이자율, 인플레이션, 실업, 기업의 매출 및 이익 등의 기본적 데이터\n",
    "    - 가격 및 거래량 데이터 등의 기술적 분석 데이터 \n",
    "- 기본적 데이터로는 간단한 경제 규칙을 세우고 트레이딩 전략을 생성할 수 있음\n",
    "- 기술적 데이터로는 기술적 분석을 수행하며 기술적 지표를 계산할 수 있으며 기반하여 트레이딩 전략 수립\n",
    "- 기본적 데이터, 가격 및 거래량 데이터, 기술적 지표를 통계 모델과 머신러닝 모델에 적용하여 트레이딩 전략을 수립"
   ]
  },
  {
   "attachments": {},
   "cell_type": "markdown",
   "metadata": {},
   "source": [
    "### __4. FOREX (DAY) Trading__"
   ]
  },
  {
   "attachments": {},
   "cell_type": "markdown",
   "metadata": {},
   "source": [
    "- 주식, 통화, 상품 등 무엇을 트레이딩 하든지 매수 호가, 매도 호가, 스프레드, 롱포지션, 숏포지션과 같은 개념은 항상 같다는 것을 아는 것이 중요함\n",
    "- 매수가격을 매수 호가(Bid Price)/매도 가격을 매도 호가(Ask Price)\n",
    "- 스트레드(Spread)\n",
    "  - 매수 호가와 매수 가격 간의 차이/브로커가 트레이딩 시 가져가는 이익\n",
    "  - PIP로 표시(소수점 넷째 자리), 가격 변동, 가격 이동, 환율 간의 차이 등을 측정할 때 사용\n",
    "  - 투자자 관점에서 PIP는 트레이딩 비용 (낮을 수록 이익이 높음)"
   ]
  },
  {
   "attachments": {},
   "cell_type": "markdown",
   "metadata": {},
   "source": [
    "#### 외환시장이 인기가 있는 이유\n",
    "- 외환 시장은 가장 크고 가장 유동적인 시장\n",
    "- 유동성이 높아질 때마다 스프레드와 거래 비용이 낮아지고 투자자에게 유리해짐\n",
    "- 환율은 일반적으로 주가 지수보다 더 변동성이 큼\n",
    "\n",
    "#### 외환 트레이딩으로 어떻게 돈을 벌 수 있는가?\n",
    "- Basic Idea: A currency apprenciates (increase in value) / depreciates(decrease in value) in relation to another currency.\n",
    "- 기본 개념: 통화는 다른 통화와 비교하여 절상되거나 절하됨\n",
    "    - 절상: 가치가 상승 / 절하: 가치가 하락\n",
    "    - scenario 1: EUR is expected to apprenciate relative to USD \n",
    "      - Buy EUR == Long positon(EUR) == Sell USD == Short position(USD)\n",
    "    - scenario 2: EUR is expected to depreciate relative to USD\n",
    "      - Sell EUR == Short position(EUR) == Buy USD == Long position(USD)\n",
    "- No matter which position you have, don't forget to close the position(reverse Transaction!)\n",
    "- "
   ]
  },
  {
   "cell_type": "markdown",
   "metadata": {},
   "source": []
  }
 ],
 "metadata": {
  "kernelspec": {
   "display_name": "Python 3",
   "language": "python",
   "name": "python3"
  },
  "language_info": {
   "name": "python",
   "version": "3.10.9 (tags/v3.10.9:1dd9be6, Dec  6 2022, 20:01:21) [MSC v.1934 64 bit (AMD64)]"
  },
  "orig_nbformat": 4,
  "vscode": {
   "interpreter": {
    "hash": "8934ceef4d64476478d2948e37a703271a4f0c64a56cf59c2ad253df468db548"
   }
  }
 },
 "nbformat": 4,
 "nbformat_minor": 2
}
